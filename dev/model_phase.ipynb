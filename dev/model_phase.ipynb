{
 "cells": [
  {
   "cell_type": "code",
   "execution_count": 2,
   "metadata": {
    "collapsed": true
   },
   "outputs": [],
   "source": [
    "import os\n",
    "import pandas as pd\n",
    "import numpy as np\n",
    "from scipy import stats\n",
    "import tqdm\n",
    "\n",
    "import matplotlib.pyplot as plt\n",
    "%matplotlib inline\n",
    "import seaborn as sns\n",
    "plt.style.use('ggplot')\n",
    "\n",
    "import plotly.plotly as py\n",
    "import plotly.graph_objs as go\n",
    "pd.options.mode.chained_assignment = None\n",
    "from sklearn.externals import joblib\n",
    "import copy"
   ]
  },
  {
   "cell_type": "code",
   "execution_count": 3,
   "metadata": {
    "collapsed": false
   },
   "outputs": [
    {
     "name": "stderr",
     "output_type": "stream",
     "text": [
      "C:\\Users\\Kseniya\\Anaconda2\\envs\\py34\\lib\\site-packages\\sklearn\\cross_validation.py:41: DeprecationWarning:\n",
      "\n",
      "This module was deprecated in version 0.18 in favor of the model_selection module into which all the refactored classes and functions are moved. Also note that the interface of the new CV iterators are different from that of this module. This module will be removed in 0.20.\n",
      "\n"
     ]
    }
   ],
   "source": [
    "from sklearn.model_selection import StratifiedKFold, StratifiedShuffleSplit\n",
    "from sklearn.cross_validation import cross_val_score\n",
    "from sklearn.metrics import cohen_kappa_score, make_scorer, classification_report, accuracy_score, confusion_matrix\n",
    "from sklearn.pipeline import Pipeline\n",
    "\n",
    "from sklearn.preprocessing import StandardScaler\n",
    "\n",
    "from sklearn.ensemble import GradientBoostingClassifier\n",
    "from sklearn.linear_model import LogisticRegression\n",
    "from sklearn.ensemble import RandomForestClassifier\n",
    "from sklearn.discriminant_analysis import LinearDiscriminantAnalysis, QuadraticDiscriminantAnalysis\n",
    "from sklearn.naive_bayes import MultinomialNB\n",
    "from sklearn.neighbors import KNeighborsClassifier"
   ]
  },
  {
   "cell_type": "code",
   "execution_count": 4,
   "metadata": {
    "collapsed": true
   },
   "outputs": [],
   "source": [
    "os.chdir(\"../run/\")\n",
    "\n",
    "from utils import CorrelatedRemoval"
   ]
  },
  {
   "cell_type": "markdown",
   "metadata": {},
   "source": [
    "Load data"
   ]
  },
  {
   "cell_type": "code",
   "execution_count": 4,
   "metadata": {
    "collapsed": true
   },
   "outputs": [],
   "source": [
    "data = pd.read_csv('../output/preprocessed_data.csv', index_col=0)\n",
    "data.reset_index(drop=True, inplace=True)"
   ]
  },
  {
   "cell_type": "code",
   "execution_count": 5,
   "metadata": {
    "collapsed": true
   },
   "outputs": [],
   "source": [
    "id_target_cols = ['amc_path', 'frame', 'heel_strike_l', 'heel_strike_r', 'support', 'toe_off_l', 'toe_off_r']\n",
    "\n",
    "lower_half_bones_minus_toes = ['root', 'femur', 'hipjoint', 'tibia', 'foot']\n",
    "predictors = []\n",
    "for col in data.columns.tolist():\n",
    "    for bone in lower_half_bones_minus_toes:\n",
    "        if (bone in col) & ('norm_angle' in col):\n",
    "            predictors.append(col)"
   ]
  },
  {
   "cell_type": "markdown",
   "metadata": {},
   "source": [
    "Create target"
   ]
  },
  {
   "cell_type": "code",
   "execution_count": 11,
   "metadata": {
    "collapsed": true
   },
   "outputs": [],
   "source": [
    "data['phase'] = data['support']\n",
    "data.loc[data['toe_off_r'] == 1, 'phase'] = 'toe_off_r'\n",
    "data.loc[data['heel_strike_r'] == 1, 'phase'] = 'heel_strike_r'"
   ]
  },
  {
   "cell_type": "code",
   "execution_count": 30,
   "metadata": {
    "collapsed": false
   },
   "outputs": [
    {
     "data": {
      "text/plain": [
       "lss              0.276322\n",
       "rss              0.274134\n",
       "toe_off_r        0.224266\n",
       "ds               0.145351\n",
       "heel_strike_r    0.079927\n",
       "Name: phase, dtype: float64"
      ]
     },
     "execution_count": 30,
     "metadata": {},
     "output_type": "execute_result"
    }
   ],
   "source": [
    "data['phase'].value_counts(normalize=True)"
   ]
  },
  {
   "cell_type": "code",
   "execution_count": 14,
   "metadata": {
    "collapsed": true
   },
   "outputs": [],
   "source": [
    "id_target_cols.append('phase')"
   ]
  },
  {
   "cell_type": "code",
   "execution_count": 15,
   "metadata": {
    "collapsed": true
   },
   "outputs": [],
   "source": [
    "all_cols = copy.deepcopy(predictors)\n",
    "all_cols.extend(id_target_cols)"
   ]
  },
  {
   "cell_type": "code",
   "execution_count": 16,
   "metadata": {
    "collapsed": true
   },
   "outputs": [],
   "source": [
    "data = data[all_cols]"
   ]
  },
  {
   "cell_type": "code",
   "execution_count": 17,
   "metadata": {
    "collapsed": false
   },
   "outputs": [
    {
     "data": {
      "text/plain": [
       "(24685, 26)"
      ]
     },
     "execution_count": 17,
     "metadata": {},
     "output_type": "execute_result"
    }
   ],
   "source": [
    "data.shape"
   ]
  },
  {
   "cell_type": "markdown",
   "metadata": {},
   "source": [
    "Удалим коррелирующие признаки\n",
    "\n",
    "Попробуем два критерия выбора"
   ]
  },
  {
   "cell_type": "code",
   "execution_count": 18,
   "metadata": {
    "collapsed": true
   },
   "outputs": [],
   "source": [
    "correm_mi = CorrelatedRemoval(X=data[predictors], y=data['phase'], method_xy='mutual_info_classif')"
   ]
  },
  {
   "cell_type": "code",
   "execution_count": 19,
   "metadata": {
    "collapsed": false
   },
   "outputs": [
    {
     "name": "stdout",
     "output_type": "stream",
     "text": [
      "Calculate features correlation ... \n",
      "Calculate correlation with target ... \n",
      "Sequentially exclude correlated variables ... \n"
     ]
    }
   ],
   "source": [
    "correm_mi.evaluate()"
   ]
  },
  {
   "cell_type": "code",
   "execution_count": 20,
   "metadata": {
    "collapsed": true
   },
   "outputs": [],
   "source": [
    "pr_mi = list(set(predictors) - set(correm_mi.all_corr_feats))"
   ]
  },
  {
   "cell_type": "code",
   "execution_count": 21,
   "metadata": {
    "collapsed": false
   },
   "outputs": [
    {
     "data": {
      "text/plain": [
       "10"
      ]
     },
     "execution_count": 21,
     "metadata": {},
     "output_type": "execute_result"
    }
   ],
   "source": [
    "len(pr_mi)"
   ]
  },
  {
   "cell_type": "code",
   "execution_count": 22,
   "metadata": {
    "collapsed": false
   },
   "outputs": [
    {
     "name": "stderr",
     "output_type": "stream",
     "text": [
      "[Parallel(n_jobs=1)]: Done   5 out of   5 | elapsed:   16.8s finished\n"
     ]
    }
   ],
   "source": [
    "model_pipe = Pipeline([\n",
    "    ('std_sc', StandardScaler()),\n",
    "    ('model', LogisticRegression(penalty='l1', C=0.1, class_weight=\"balanced\", random_state=147))  \n",
    "])\n",
    "\n",
    "kappa_score_mi = cross_val_score(cv=5, estimator=model_pipe, verbose=True, \n",
    "                scoring=make_scorer(cohen_kappa_score), \n",
    "                X=data[pr_mi], y=data['phase'])"
   ]
  },
  {
   "cell_type": "code",
   "execution_count": null,
   "metadata": {
    "collapsed": true
   },
   "outputs": [],
   "source": []
  },
  {
   "cell_type": "code",
   "execution_count": 23,
   "metadata": {
    "collapsed": true
   },
   "outputs": [],
   "source": [
    "correm_f = CorrelatedRemoval(X=data[predictors], y=data['phase'], method_xy='f_classif')"
   ]
  },
  {
   "cell_type": "code",
   "execution_count": 24,
   "metadata": {
    "collapsed": false
   },
   "outputs": [
    {
     "name": "stdout",
     "output_type": "stream",
     "text": [
      "Calculate features correlation ... \n",
      "Calculate correlation with target ... \n",
      "Sequentially exclude correlated variables ... \n"
     ]
    }
   ],
   "source": [
    "correm_f.evaluate()"
   ]
  },
  {
   "cell_type": "code",
   "execution_count": 25,
   "metadata": {
    "collapsed": true
   },
   "outputs": [],
   "source": [
    "pr_f = list(set(predictors) - set(correm_f.all_corr_feats))"
   ]
  },
  {
   "cell_type": "code",
   "execution_count": 26,
   "metadata": {
    "collapsed": false
   },
   "outputs": [
    {
     "data": {
      "text/plain": [
       "9"
      ]
     },
     "execution_count": 26,
     "metadata": {},
     "output_type": "execute_result"
    }
   ],
   "source": [
    "len(pr_f)"
   ]
  },
  {
   "cell_type": "code",
   "execution_count": 27,
   "metadata": {
    "collapsed": false
   },
   "outputs": [
    {
     "name": "stderr",
     "output_type": "stream",
     "text": [
      "[Parallel(n_jobs=1)]: Done   5 out of   5 | elapsed:   14.7s finished\n"
     ]
    }
   ],
   "source": [
    "model_pipe = Pipeline([\n",
    "    ('std_sc', StandardScaler()),\n",
    "    ('model', LogisticRegression(penalty='l1', C=0.1, class_weight=\"balanced\", random_state=147))  \n",
    "])\n",
    "\n",
    "kappa_score_f = cross_val_score(cv=5, estimator=model_pipe, verbose=True, \n",
    "                scoring=make_scorer(cohen_kappa_score), \n",
    "                X=data[pr_f], y=data['phase'])"
   ]
  },
  {
   "cell_type": "code",
   "execution_count": 28,
   "metadata": {
    "collapsed": false
   },
   "outputs": [
    {
     "name": "stdout",
     "output_type": "stream",
     "text": [
      "Mean Kappa for mutual_inf: 0.7954642204166518\n",
      "Std Kappa for mutual_inf: 0.05114803978216459\n",
      "Mean Kappa for f_classif: 0.812287528439651\n",
      "Std Kappa for f_classif: 0.04335641257607602\n"
     ]
    }
   ],
   "source": [
    "print(\"Mean Kappa for mutual_inf: {}\".format(np.mean(kappa_score_mi)))\n",
    "print(\"Std Kappa for mutual_inf: {}\".format(np.std(kappa_score_mi)))\n",
    "\n",
    "print(\"Mean Kappa for f_classif: {}\".format(np.mean(kappa_score_f)))\n",
    "print(\"Std Kappa for f_classif: {}\".format(np.std(kappa_score_f)))"
   ]
  },
  {
   "cell_type": "markdown",
   "metadata": {},
   "source": [
    "Будем использовать критерий f_classif"
   ]
  },
  {
   "cell_type": "code",
   "execution_count": 29,
   "metadata": {
    "collapsed": true
   },
   "outputs": [],
   "source": [
    "final_all_cols = copy.deepcopy(id_target_cols)\n",
    "final_all_cols.extend(pr_f)\n",
    "\n",
    "df_data = data[final_all_cols]\n",
    "df_data.to_csv('../output/phase_toes_norm_data.csv')"
   ]
  },
  {
   "cell_type": "code",
   "execution_count": 31,
   "metadata": {
    "collapsed": true
   },
   "outputs": [],
   "source": [
    "scores_dict = {}"
   ]
  },
  {
   "cell_type": "code",
   "execution_count": 32,
   "metadata": {
    "collapsed": false
   },
   "outputs": [
    {
     "name": "stderr",
     "output_type": "stream",
     "text": [
      "[Parallel(n_jobs=1)]: Done   5 out of   5 | elapsed:   14.6s finished\n",
      "[Parallel(n_jobs=1)]: Done   5 out of   5 | elapsed:    0.7s finished\n",
      "[Parallel(n_jobs=1)]: Done   5 out of   5 | elapsed:    1.2s finished\n",
      "[Parallel(n_jobs=1)]: Done   5 out of   5 | elapsed:  4.4min finished\n",
      "[Parallel(n_jobs=1)]: Done   5 out of   5 | elapsed:    3.2s finished\n",
      "[Parallel(n_jobs=1)]: Done   5 out of   5 | elapsed:  2.9min finished\n"
     ]
    },
    {
     "name": "stdout",
     "output_type": "stream",
     "text": [
      "\n"
     ]
    }
   ],
   "source": [
    "models = {\n",
    "    'lr': LogisticRegression(penalty='l1', C=0.1, class_weight=\"balanced\", random_state=147),\n",
    "    'rf': RandomForestClassifier(class_weight=\"balanced\", max_depth=6, n_estimators=500, random_state=147),\n",
    "    'lda': LinearDiscriminantAnalysis(),\n",
    "    'qda': QuadraticDiscriminantAnalysis(),\n",
    "    'knn': KNeighborsClassifier(n_neighbors=10),\n",
    "    'gb': GradientBoostingClassifier(n_estimators=100, max_depth=5)\n",
    "}\n",
    "\n",
    "for name, model in tqdm.tqdm_notebook(models.items()):\n",
    "    model_pipe = Pipeline([\n",
    "        ('std_sc', StandardScaler()),\n",
    "        ('model', model)  \n",
    "    ])\n",
    "\n",
    "    sc = cross_val_score(cv=5, estimator=model_pipe, verbose=True, \n",
    "                    scoring=make_scorer(cohen_kappa_score), \n",
    "                    X=df_data[pr_f].values, y=df_data['phase'].values)\n",
    "    scores_dict[name] = sc"
   ]
  },
  {
   "cell_type": "code",
   "execution_count": 33,
   "metadata": {
    "collapsed": false
   },
   "outputs": [
    {
     "data": {
      "text/plain": [
       "{'gb': array([ 0.84191533,  0.85510488,  0.92169359,  0.90991854,  0.85235675]),\n",
       " 'knn': array([ 0.78573509,  0.81336847,  0.89697639,  0.89679173,  0.82344438]),\n",
       " 'lda': array([ 0.78255387,  0.80063599,  0.85360795,  0.8389151 ,  0.75850669]),\n",
       " 'lr': array([ 0.82074486,  0.8059409 ,  0.85620154,  0.84539784,  0.7331525 ]),\n",
       " 'qda': array([ 0.73444503,  0.8154743 ,  0.88172796,  0.83774074,  0.77332856]),\n",
       " 'rf': array([ 0.82872586,  0.84023651,  0.87420378,  0.88501326,  0.79812933])}"
      ]
     },
     "execution_count": 33,
     "metadata": {},
     "output_type": "execute_result"
    }
   ],
   "source": [
    "scores_dict"
   ]
  },
  {
   "cell_type": "code",
   "execution_count": 34,
   "metadata": {
    "collapsed": false
   },
   "outputs": [
    {
     "name": "stdout",
     "output_type": "stream",
     "text": [
      "Mean Kappa score for lr is : 0.812287528439651\n",
      "Mean Kappa score for qda is : 0.8085433200202908\n",
      "Mean Kappa score for lda is : 0.8068439200680967\n",
      "Mean Kappa score for gb is : 0.8761978194056749\n",
      "Mean Kappa score for knn is : 0.8432632126819936\n",
      "Mean Kappa score for rf is : 0.8452617483982963\n"
     ]
    },
    {
     "data": {
      "image/png": "[encoded data removed]",
      "text/plain": [
       "<matplotlib.figure.Figure at 0x1d5473db6a0>"
      ]
     },
     "metadata": {},
     "output_type": "display_data"
    }
   ],
   "source": [
    "for name, scores in scores_dict.items():\n",
    "    plt.plot(scores, label=name)\n",
    "    print(\"Mean Kappa score for {} is : {}\".format(name, np.mean(scores)))\n",
    "plt.legend(loc=0)\n",
    "plt.title('Kappa by folds');"
   ]
  },
  {
   "cell_type": "code",
   "execution_count": null,
   "metadata": {
    "collapsed": true
   },
   "outputs": [],
   "source": []
  },
  {
   "cell_type": "code",
   "execution_count": 37,
   "metadata": {
    "collapsed": false
   },
   "outputs": [
    {
     "name": "stdout",
     "output_type": "stream",
     "text": [
      "TRAIN: [ 9939 12539  5481 ...,   207 14690  7938] TEST: [ 6921 17002 23234 ..., 18633  2360 23462]\n"
     ]
    }
   ],
   "source": [
    "skf = StratifiedShuffleSplit(test_size=0.3, random_state=147, n_splits=1)\n",
    "for train_index, test_index in skf.split(X=df_data[pr_f], y=df_data['support'].values):\n",
    "    print(\"TRAIN:\", train_index, \"TEST:\", test_index)\n",
    "    X_train, X_test = df_data.loc[train_index, pr_f], df_data.loc[test_index, pr_f]\n",
    "    y_train, y_test = df_data.loc[train_index, 'phase'], df_data.loc[test_index, 'phase']"
   ]
  },
  {
   "cell_type": "code",
   "execution_count": 38,
   "metadata": {
    "collapsed": true
   },
   "outputs": [],
   "source": [
    "model_pipe = Pipeline([\n",
    "    ('std_sc', StandardScaler()),\n",
    "    ('gb', GradientBoostingClassifier(n_estimators=100, max_depth=5))  \n",
    "])"
   ]
  },
  {
   "cell_type": "code",
   "execution_count": 39,
   "metadata": {
    "collapsed": false
   },
   "outputs": [
    {
     "data": {
      "text/plain": [
       "Pipeline(memory=None,\n",
       "     steps=[('std_sc', StandardScaler(copy=True, with_mean=True, with_std=True)), ('gb', GradientBoostingClassifier(criterion='friedman_mse', init=None,\n",
       "              learning_rate=0.1, loss='deviance', max_depth=5,\n",
       "              max_features=None, max_leaf_nodes=None,\n",
       "              min_impurity_decrease...      presort='auto', random_state=None, subsample=1.0, verbose=0,\n",
       "              warm_start=False))])"
      ]
     },
     "execution_count": 39,
     "metadata": {},
     "output_type": "execute_result"
    }
   ],
   "source": [
    "model_pipe.fit(X_train, y_train)"
   ]
  },
  {
   "cell_type": "code",
   "execution_count": 40,
   "metadata": {
    "collapsed": true
   },
   "outputs": [],
   "source": [
    "proba = model_pipe.predict_proba(X_test)\n",
    "\n",
    "pred = model_pipe.predict(X_test)"
   ]
  },
  {
   "cell_type": "code",
   "execution_count": 41,
   "metadata": {
    "collapsed": false
   },
   "outputs": [
    {
     "data": {
      "text/plain": [
       "0.94409937888198758"
      ]
     },
     "execution_count": 41,
     "metadata": {},
     "output_type": "execute_result"
    }
   ],
   "source": [
    "accuracy_score(y_pred=pred, y_true=y_test)"
   ]
  },
  {
   "cell_type": "code",
   "execution_count": 42,
   "metadata": {
    "collapsed": false
   },
   "outputs": [
    {
     "data": {
      "text/plain": [
       "0.92744231218403306"
      ]
     },
     "execution_count": 42,
     "metadata": {},
     "output_type": "execute_result"
    }
   ],
   "source": [
    "cohen_kappa_score(y1=y_test, y2=pred)"
   ]
  },
  {
   "cell_type": "code",
   "execution_count": 43,
   "metadata": {
    "collapsed": false
   },
   "outputs": [
    {
     "name": "stdout",
     "output_type": "stream",
     "text": [
      "               precision    recall  f1-score   support\n",
      "\n",
      "           ds       0.90      0.85      0.87      1077\n",
      "heel_strike_r       0.86      0.90      0.88       594\n",
      "          lss       0.97      0.97      0.97      2047\n",
      "          rss       0.96      0.97      0.96      2030\n",
      "    toe_off_r       0.96      0.96      0.96      1658\n",
      "\n",
      "  avg / total       0.94      0.94      0.94      7406\n",
      "\n"
     ]
    }
   ],
   "source": [
    "print(classification_report(y_pred=pred, y_true=y_test))"
   ]
  },
  {
   "cell_type": "code",
   "execution_count": 66,
   "metadata": {
    "collapsed": false
   },
   "outputs": [],
   "source": [
    "cm = pd.DataFrame(confusion_matrix(y_pred=pred, y_true=y_test))\n",
    "cm.columns = ['ds', 'hs', 'lss', 'rss', 'to']\n",
    "cm.index = ['ds', 'hs', 'lss', 'rss', 'to']"
   ]
  },
  {
   "cell_type": "code",
   "execution_count": 84,
   "metadata": {
    "collapsed": false
   },
   "outputs": [
    {
     "data": {
      "image/png": "[encoded data removed]",
      "text/plain": [
       "<matplotlib.figure.Figure at 0x1d5481ba780>"
      ]
     },
     "metadata": {},
     "output_type": "display_data"
    }
   ],
   "source": [
    "sns.heatmap(cm, annot=True);"
   ]
  },
  {
   "cell_type": "code",
   "execution_count": 54,
   "metadata": {
    "collapsed": true
   },
   "outputs": [],
   "source": [
    "gb = model_pipe.steps[-1][1]\n",
    "\n",
    "feat_imp = pd.DataFrame([X_train.columns.tolist(), gb.feature_importances_.tolist()]).T\n",
    "feat_imp.columns = ['feat', 'imp']\n",
    "feat_imp.sort_values('imp', ascending=False, inplace=True)"
   ]
  },
  {
   "cell_type": "code",
   "execution_count": 55,
   "metadata": {
    "collapsed": false
   },
   "outputs": [
    {
     "data": {
      "image/png": "[encoded data removed]",
      "text/plain": [
       "<matplotlib.figure.Figure at 0x1d547fb3cc0>"
      ]
     },
     "metadata": {},
     "output_type": "display_data"
    }
   ],
   "source": [
    "plt.figure(figsize=(10, 8))\n",
    "sns.barplot(data=feat_imp, y='feat', x='imp', orient='h');"
   ]
  },
  {
   "cell_type": "code",
   "execution_count": 56,
   "metadata": {
    "collapsed": false
   },
   "outputs": [
    {
     "data": {
      "text/plain": [
       "['../output/phase_norm_toes.pkl']"
      ]
     },
     "execution_count": 56,
     "metadata": {},
     "output_type": "execute_result"
    }
   ],
   "source": [
    "joblib.dump(filename='../output/phase_norm_toes.pkl', value=model_pipe)"
   ]
  },
  {
   "cell_type": "code",
   "execution_count": null,
   "metadata": {
    "collapsed": true
   },
   "outputs": [],
   "source": []
  },
  {
   "cell_type": "code",
   "execution_count": null,
   "metadata": {
    "collapsed": true
   },
   "outputs": [],
   "source": []
  },
  {
   "cell_type": "code",
   "execution_count": null,
   "metadata": {
    "collapsed": true
   },
   "outputs": [],
   "source": []
  },
  {
   "cell_type": "markdown",
   "metadata": {},
   "source": [
    "Stratified KFold for best model"
   ]
  },
  {
   "cell_type": "code",
   "execution_count": 6,
   "metadata": {
    "collapsed": false
   },
   "outputs": [],
   "source": [
    "df_data = pd.read_csv('../output/phase_toes_norm_data.csv', index_col=0)\n",
    "\n",
    "id_target_cols = ['amc_path', 'frame', 'heel_strike_l', 'heel_strike_r', 'support', 'toe_off_l', 'toe_off_r', 'phase']\n",
    "\n",
    "pr = list(set(df_data.columns.tolist()) - set(id_target_cols))"
   ]
  },
  {
   "cell_type": "code",
   "execution_count": 12,
   "metadata": {
    "collapsed": true
   },
   "outputs": [],
   "source": [
    "skf = StratifiedKFold(n_splits=7, random_state=147, shuffle=True)\n",
    "\n",
    "model_pipe = Pipeline([\n",
    "    ('std_sc', StandardScaler()),\n",
    "    ('gb', GradientBoostingClassifier(n_estimators=100, max_depth=5))  \n",
    "])\n",
    "\n",
    "all_res = pd.DataFrame()\n",
    "conf_m = pd.DataFrame()\n",
    "feat_i = pd.DataFrame()"
   ]
  },
  {
   "cell_type": "code",
   "execution_count": 13,
   "metadata": {
    "collapsed": false
   },
   "outputs": [
    {
     "name": "stdout",
     "output_type": "stream",
     "text": [
      "TRAIN: [    1     2     3 ..., 24682 24683 24684] TEST: [    0     6     8 ..., 24671 24675 24676]\n",
      "TRAIN: [    0     1     2 ..., 24681 24683 24684] TEST: [   11    14    16 ..., 24657 24662 24682]\n",
      "TRAIN: [    0     2     3 ..., 24682 24683 24684] TEST: [    1    10    12 ..., 24645 24665 24681]\n",
      "TRAIN: [    0     1     2 ..., 24681 24682 24684] TEST: [   31    35    37 ..., 24673 24678 24683]\n",
      "TRAIN: [    0     1     2 ..., 24682 24683 24684] TEST: [    7     9    15 ..., 24672 24674 24679]\n",
      "TRAIN: [    0     1     2 ..., 24681 24682 24683] TEST: [    3     4     5 ..., 24666 24680 24684]\n",
      "TRAIN: [    0     1     3 ..., 24682 24683 24684] TEST: [    2    18    20 ..., 24647 24658 24677]\n"
     ]
    }
   ],
   "source": [
    "i = 0\n",
    "for train_index, test_index in skf.split(X=df_data[pr], y=df_data['support'].values):\n",
    "    print(\"TRAIN:\", train_index, \"TEST:\", test_index)\n",
    "    X_train, X_test = df_data.loc[train_index, pr], df_data.loc[test_index, pr]\n",
    "    y_train, y_test = df_data.loc[train_index, 'phase'], df_data.loc[test_index, 'phase']\n",
    "    model_pipe.fit(X_train, y_train)\n",
    "    proba = model_pipe.predict_proba(X_test)\n",
    "    pred = model_pipe.predict(X_test)\n",
    "    clas_r = classification_report(y_pred=pred, y_true=y_test).split()[-4:-1] \n",
    "    metr = {\n",
    "        'accuracy': accuracy_score(y_pred=pred, y_true=y_test),\n",
    "        'kappa': cohen_kappa_score(y1=y_test, y2=pred),\n",
    "        'precision': clas_r[0],\n",
    "        'recall': clas_r[1], \n",
    "        'f1': clas_r[2]\n",
    "    }\n",
    "    all_res = pd.concat([all_res, pd.DataFrame([metr])])\n",
    "    \n",
    "    cm = pd.DataFrame(confusion_matrix(y_pred=pred, y_true=y_test))\n",
    "    cm.columns = ['ds', 'hs', 'lss', 'rss', 'to']\n",
    "    cm.index = ['ds', 'hs', 'lss', 'rss', 'to']\n",
    "    cm['fold'] = i\n",
    "    conf_m = pd.concat([conf_m, cm])\n",
    "    \n",
    "    gb = model_pipe.steps[-1][1]\n",
    "    feat_imp = pd.DataFrame([X_train.columns.tolist(), gb.feature_importances_.tolist()]).T\n",
    "    feat_imp.columns = ['feat', 'imp']\n",
    "    feat_imp['fold'] = i\n",
    "    feat_i = pd.concat([feat_i, feat_imp])\n",
    "    \n",
    "    i = i + 1"
   ]
  },
  {
   "cell_type": "code",
   "execution_count": 14,
   "metadata": {
    "collapsed": true
   },
   "outputs": [],
   "source": [
    "all_res['f1'] = all_res['f1'].astype('float32')\n",
    "all_res['precision'] = all_res['precision'].astype('float32')\n",
    "all_res['recall'] = all_res['recall'].astype('float32')"
   ]
  },
  {
   "cell_type": "code",
   "execution_count": 16,
   "metadata": {
    "collapsed": false
   },
   "outputs": [
    {
     "data": {
      "text/plain": [
       "accuracy     0.947498\n",
       "f1           0.948571\n",
       "kappa        0.931822\n",
       "precision    0.948571\n",
       "recall       0.948571\n",
       "dtype: float64"
      ]
     },
     "execution_count": 16,
     "metadata": {},
     "output_type": "execute_result"
    }
   ],
   "source": [
    "all_res.mean()"
   ]
  },
  {
   "cell_type": "code",
   "execution_count": 31,
   "metadata": {
    "collapsed": false
   },
   "outputs": [],
   "source": [
    "phases_nm = ['ds', 'hs', 'lss', 'rss', 'to']\n",
    "phases_nm_1 = [ph  + \"_r\" for ph in phases_nm]\n",
    "conf_m['n_truth'] = conf_m[phases_nm].sum(axis=1)\n",
    "\n",
    "conf_m.reset_index(inplace=True)"
   ]
  },
  {
   "cell_type": "code",
   "execution_count": 86,
   "metadata": {
    "collapsed": true
   },
   "outputs": [],
   "source": [
    "all_cols = copy.deepcopy(phases_nm)\n",
    "all_cols.append('n_truth')"
   ]
  },
  {
   "cell_type": "code",
   "execution_count": 93,
   "metadata": {
    "collapsed": false
   },
   "outputs": [],
   "source": [
    "agg_conf_m = conf_m.groupby('index')[all_cols].sum()"
   ]
  },
  {
   "cell_type": "code",
   "execution_count": 94,
   "metadata": {
    "collapsed": false
   },
   "outputs": [],
   "source": [
    "for ph in phases_nm:\n",
    "    agg_conf_m[ph + \"_r\"] = agg_conf_m[ph] / agg_conf_m['n_truth']\n",
    "agg_conf_m = agg_conf_m[phases_nm_1]"
   ]
  },
  {
   "cell_type": "code",
   "execution_count": 104,
   "metadata": {
    "collapsed": false
   },
   "outputs": [],
   "source": [
    "agg_conf_m.columns = ['ds', 'hs', 'lss', 'rss', 'to']"
   ]
  },
  {
   "cell_type": "code",
   "execution_count": 106,
   "metadata": {
    "collapsed": false
   },
   "outputs": [
    {
     "data": {
      "image/png": "[encoded data removed]",
      "text/plain": [
       "<matplotlib.figure.Figure at 0x1792b0963c8>"
      ]
     },
     "metadata": {},
     "output_type": "display_data"
    }
   ],
   "source": [
    "sns.heatmap(agg_conf_m, annot=True)\n",
    "plt.xlabel('Predicted class')\n",
    "plt.ylabel('True class')\n",
    "plt.xticks(fontsize=14)\n",
    "plt.yticks(fontsize=14);"
   ]
  },
  {
   "cell_type": "code",
   "execution_count": 81,
   "metadata": {
    "collapsed": false
   },
   "outputs": [],
   "source": [
    "feat_i.drop(['med_imp_x','med_imp_y'], inplace=True)"
   ]
  },
  {
   "cell_type": "code",
   "execution_count": 71,
   "metadata": {
    "collapsed": false
   },
   "outputs": [],
   "source": [
    "feat_i['imp'] = feat_i['imp'].astype('float32')"
   ]
  },
  {
   "cell_type": "code",
   "execution_count": 76,
   "metadata": {
    "collapsed": false
   },
   "outputs": [],
   "source": [
    "med_imp = feat_i.groupby('feat')['imp'].median()\n",
    "med_imp = pd.DataFrame(med_imp)\n",
    "med_imp.columns = ['med_imp']"
   ]
  },
  {
   "cell_type": "code",
   "execution_count": 82,
   "metadata": {
    "collapsed": false
   },
   "outputs": [],
   "source": [
    "feat_i = pd.merge(feat_i, med_imp, left_on='feat', right_index=True)\n",
    "feat_i.sort_values('med_imp', inplace=True, ascending=False)"
   ]
  },
  {
   "cell_type": "code",
   "execution_count": 101,
   "metadata": {
    "collapsed": false
   },
   "outputs": [
    {
     "data": {
      "image/png": "[encoded data removed]",
      "text/plain": [
       "<matplotlib.figure.Figure at 0x1792b21f780>"
      ]
     },
     "metadata": {},
     "output_type": "display_data"
    }
   ],
   "source": [
    "sns.boxplot(data=feat_i, x='imp', y='feat')\n",
    "plt.xticks(fontsize=14)\n",
    "plt.yticks(fontsize=14);"
   ]
  },
  {
   "cell_type": "code",
   "execution_count": null,
   "metadata": {
    "collapsed": true
   },
   "outputs": [],
   "source": []
  }
 ],
 "metadata": {
  "kernelspec": {
   "display_name": "py34",
   "language": "python",
   "name": "py34"
  },
  "language_info": {
   "codemirror_mode": {
    "name": "ipython",
    "version": 3
   },
   "file_extension": ".py",
   "mimetype": "text/x-python",
   "name": "python",
   "nbconvert_exporter": "python",
   "pygments_lexer": "ipython3",
   "version": "3.5.2"
  }
 },
 "nbformat": 4,
 "nbformat_minor": 2
}
