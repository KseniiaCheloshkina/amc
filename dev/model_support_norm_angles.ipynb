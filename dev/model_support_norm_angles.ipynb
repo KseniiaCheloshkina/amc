{
 "cells": [
  {
   "cell_type": "markdown",
   "metadata": {},
   "source": [
    "## Для предсказания типа опоры будем использовать только нормализованные углы"
   ]
  },
  {
   "cell_type": "code",
   "execution_count": 1,
   "metadata": {
    "collapsed": true
   },
   "outputs": [],
   "source": [
    "import os\n",
    "import pandas as pd\n",
    "import numpy as np\n",
    "from scipy import stats\n",
    "import tqdm\n",
    "\n",
    "import matplotlib.pyplot as plt\n",
    "%matplotlib inline\n",
    "import seaborn as sns\n",
    "plt.style.use('ggplot')\n",
    "\n",
    "import plotly.plotly as py\n",
    "import plotly.graph_objs as go\n",
    "pd.options.mode.chained_assignment = None\n",
    "from sklearn.externals import joblib\n",
    "import copy"
   ]
  },
  {
   "cell_type": "code",
   "execution_count": 2,
   "metadata": {
    "collapsed": false
   },
   "outputs": [
    {
     "name": "stderr",
     "output_type": "stream",
     "text": [
      "C:\\Users\\Kseniya\\Anaconda2\\envs\\py34\\lib\\site-packages\\sklearn\\cross_validation.py:41: DeprecationWarning:\n",
      "\n",
      "This module was deprecated in version 0.18 in favor of the model_selection module into which all the refactored classes and functions are moved. Also note that the interface of the new CV iterators are different from that of this module. This module will be removed in 0.20.\n",
      "\n"
     ]
    }
   ],
   "source": [
    "from sklearn.model_selection import StratifiedKFold, StratifiedShuffleSplit\n",
    "from sklearn.cross_validation import cross_val_score\n",
    "from sklearn.metrics import cohen_kappa_score, make_scorer, classification_report, accuracy_score\n",
    "from sklearn.pipeline import Pipeline\n",
    "\n",
    "from sklearn.preprocessing import StandardScaler\n",
    "\n",
    "from sklearn.ensemble import GradientBoostingClassifier\n",
    "from sklearn.linear_model import LogisticRegression\n",
    "from sklearn.ensemble import RandomForestClassifier\n",
    "from sklearn.discriminant_analysis import LinearDiscriminantAnalysis, QuadraticDiscriminantAnalysis\n",
    "from sklearn.naive_bayes import MultinomialNB\n",
    "from sklearn.neighbors import KNeighborsClassifier"
   ]
  },
  {
   "cell_type": "code",
   "execution_count": 3,
   "metadata": {
    "collapsed": true
   },
   "outputs": [],
   "source": [
    "os.chdir(\"../run/\")\n",
    "\n",
    "from utils import CorrelatedRemoval"
   ]
  },
  {
   "cell_type": "markdown",
   "metadata": {},
   "source": [
    "Load data"
   ]
  },
  {
   "cell_type": "code",
   "execution_count": 4,
   "metadata": {
    "collapsed": true
   },
   "outputs": [],
   "source": [
    "data = pd.read_csv('../output/preprocessed_data.csv', index_col=0)\n",
    "data.reset_index(drop=True, inplace=True)"
   ]
  },
  {
   "cell_type": "code",
   "execution_count": 5,
   "metadata": {
    "collapsed": false
   },
   "outputs": [
    {
     "data": {
      "text/html": [
       "<div>\n",
       "<style>\n",
       "    .dataframe thead tr:only-child th {\n",
       "        text-align: right;\n",
       "    }\n",
       "\n",
       "    .dataframe thead th {\n",
       "        text-align: left;\n",
       "    }\n",
       "\n",
       "    .dataframe tbody tr th {\n",
       "        vertical-align: top;\n",
       "    }\n",
       "</style>\n",
       "<table border=\"1\" class=\"dataframe\">\n",
       "  <thead>\n",
       "    <tr style=\"text-align: right;\">\n",
       "      <th></th>\n",
       "      <th>head_motion_0</th>\n",
       "      <th>head_motion_1</th>\n",
       "      <th>head_motion_2</th>\n",
       "      <th>lfemur_motion_0</th>\n",
       "      <th>lfemur_motion_1</th>\n",
       "      <th>lfemur_motion_2</th>\n",
       "      <th>lfoot_motion_0</th>\n",
       "      <th>lfoot_motion_1</th>\n",
       "      <th>lhand_motion_0</th>\n",
       "      <th>lhand_motion_1</th>\n",
       "      <th>...</th>\n",
       "      <th>upperneck_norm_angle_0</th>\n",
       "      <th>upperneck_norm_angle_1</th>\n",
       "      <th>upperneck_norm_angle_2</th>\n",
       "      <th>amc_path</th>\n",
       "      <th>frame</th>\n",
       "      <th>heel_strike_l</th>\n",
       "      <th>heel_strike_r</th>\n",
       "      <th>support</th>\n",
       "      <th>toe_off_l</th>\n",
       "      <th>toe_off_r</th>\n",
       "    </tr>\n",
       "  </thead>\n",
       "  <tbody>\n",
       "    <tr>\n",
       "      <th>0</th>\n",
       "      <td>1.79557</td>\n",
       "      <td>1.148945</td>\n",
       "      <td>-1.011070</td>\n",
       "      <td>-28.0310</td>\n",
       "      <td>-0.865269</td>\n",
       "      <td>-22.3005</td>\n",
       "      <td>-8.18919</td>\n",
       "      <td>14.3282</td>\n",
       "      <td>-21.3185</td>\n",
       "      <td>21.9844</td>\n",
       "      <td>...</td>\n",
       "      <td>-0.086489</td>\n",
       "      <td>0.257979</td>\n",
       "      <td>0.019490</td>\n",
       "      <td>02_01.amc</td>\n",
       "      <td>11</td>\n",
       "      <td>1</td>\n",
       "      <td>0</td>\n",
       "      <td>ds</td>\n",
       "      <td>0</td>\n",
       "      <td>1</td>\n",
       "    </tr>\n",
       "    <tr>\n",
       "      <th>1</th>\n",
       "      <td>1.74626</td>\n",
       "      <td>1.148945</td>\n",
       "      <td>-0.771107</td>\n",
       "      <td>-28.0007</td>\n",
       "      <td>-0.715941</td>\n",
       "      <td>-22.3575</td>\n",
       "      <td>-8.01088</td>\n",
       "      <td>13.4488</td>\n",
       "      <td>-21.2367</td>\n",
       "      <td>22.5867</td>\n",
       "      <td>...</td>\n",
       "      <td>-0.095032</td>\n",
       "      <td>0.257979</td>\n",
       "      <td>0.022170</td>\n",
       "      <td>02_01.amc</td>\n",
       "      <td>12</td>\n",
       "      <td>1</td>\n",
       "      <td>0</td>\n",
       "      <td>ds</td>\n",
       "      <td>0</td>\n",
       "      <td>1</td>\n",
       "    </tr>\n",
       "    <tr>\n",
       "      <th>2</th>\n",
       "      <td>1.57093</td>\n",
       "      <td>1.148945</td>\n",
       "      <td>-0.442091</td>\n",
       "      <td>-27.7673</td>\n",
       "      <td>-0.722927</td>\n",
       "      <td>-23.2709</td>\n",
       "      <td>-7.96696</td>\n",
       "      <td>12.6847</td>\n",
       "      <td>-21.6456</td>\n",
       "      <td>23.6679</td>\n",
       "      <td>...</td>\n",
       "      <td>-0.103602</td>\n",
       "      <td>0.254352</td>\n",
       "      <td>0.012141</td>\n",
       "      <td>02_01.amc</td>\n",
       "      <td>13</td>\n",
       "      <td>0</td>\n",
       "      <td>0</td>\n",
       "      <td>ds</td>\n",
       "      <td>0</td>\n",
       "      <td>1</td>\n",
       "    </tr>\n",
       "    <tr>\n",
       "      <th>3</th>\n",
       "      <td>1.40889</td>\n",
       "      <td>1.148945</td>\n",
       "      <td>-0.278815</td>\n",
       "      <td>-27.3797</td>\n",
       "      <td>-0.546801</td>\n",
       "      <td>-24.4309</td>\n",
       "      <td>-8.25455</td>\n",
       "      <td>12.1527</td>\n",
       "      <td>-21.7629</td>\n",
       "      <td>23.8315</td>\n",
       "      <td>...</td>\n",
       "      <td>-0.108770</td>\n",
       "      <td>0.251613</td>\n",
       "      <td>-0.004768</td>\n",
       "      <td>02_01.amc</td>\n",
       "      <td>14</td>\n",
       "      <td>0</td>\n",
       "      <td>0</td>\n",
       "      <td>ds</td>\n",
       "      <td>0</td>\n",
       "      <td>1</td>\n",
       "    </tr>\n",
       "    <tr>\n",
       "      <th>4</th>\n",
       "      <td>1.34171</td>\n",
       "      <td>1.148945</td>\n",
       "      <td>-0.134220</td>\n",
       "      <td>-26.9492</td>\n",
       "      <td>-0.427832</td>\n",
       "      <td>-25.0387</td>\n",
       "      <td>-8.66092</td>\n",
       "      <td>11.8686</td>\n",
       "      <td>-21.2583</td>\n",
       "      <td>22.8057</td>\n",
       "      <td>...</td>\n",
       "      <td>-0.112052</td>\n",
       "      <td>0.246911</td>\n",
       "      <td>-0.015451</td>\n",
       "      <td>02_01.amc</td>\n",
       "      <td>15</td>\n",
       "      <td>0</td>\n",
       "      <td>0</td>\n",
       "      <td>ds</td>\n",
       "      <td>0</td>\n",
       "      <td>1</td>\n",
       "    </tr>\n",
       "  </tbody>\n",
       "</table>\n",
       "<p>5 rows × 240 columns</p>\n",
       "</div>"
      ],
      "text/plain": [
       "   head_motion_0  head_motion_1  head_motion_2  lfemur_motion_0  \\\n",
       "0        1.79557       1.148945      -1.011070         -28.0310   \n",
       "1        1.74626       1.148945      -0.771107         -28.0007   \n",
       "2        1.57093       1.148945      -0.442091         -27.7673   \n",
       "3        1.40889       1.148945      -0.278815         -27.3797   \n",
       "4        1.34171       1.148945      -0.134220         -26.9492   \n",
       "\n",
       "   lfemur_motion_1  lfemur_motion_2  lfoot_motion_0  lfoot_motion_1  \\\n",
       "0        -0.865269         -22.3005        -8.18919         14.3282   \n",
       "1        -0.715941         -22.3575        -8.01088         13.4488   \n",
       "2        -0.722927         -23.2709        -7.96696         12.6847   \n",
       "3        -0.546801         -24.4309        -8.25455         12.1527   \n",
       "4        -0.427832         -25.0387        -8.66092         11.8686   \n",
       "\n",
       "   lhand_motion_0  lhand_motion_1    ...      upperneck_norm_angle_0  \\\n",
       "0        -21.3185         21.9844    ...                   -0.086489   \n",
       "1        -21.2367         22.5867    ...                   -0.095032   \n",
       "2        -21.6456         23.6679    ...                   -0.103602   \n",
       "3        -21.7629         23.8315    ...                   -0.108770   \n",
       "4        -21.2583         22.8057    ...                   -0.112052   \n",
       "\n",
       "   upperneck_norm_angle_1  upperneck_norm_angle_2   amc_path  frame  \\\n",
       "0                0.257979                0.019490  02_01.amc     11   \n",
       "1                0.257979                0.022170  02_01.amc     12   \n",
       "2                0.254352                0.012141  02_01.amc     13   \n",
       "3                0.251613               -0.004768  02_01.amc     14   \n",
       "4                0.246911               -0.015451  02_01.amc     15   \n",
       "\n",
       "   heel_strike_l  heel_strike_r  support  toe_off_l  toe_off_r  \n",
       "0              1              0       ds          0          1  \n",
       "1              1              0       ds          0          1  \n",
       "2              0              0       ds          0          1  \n",
       "3              0              0       ds          0          1  \n",
       "4              0              0       ds          0          1  \n",
       "\n",
       "[5 rows x 240 columns]"
      ]
     },
     "execution_count": 5,
     "metadata": {},
     "output_type": "execute_result"
    }
   ],
   "source": [
    "data.head()"
   ]
  },
  {
   "cell_type": "markdown",
   "metadata": {},
   "source": [
    "Select predictors"
   ]
  },
  {
   "cell_type": "code",
   "execution_count": 33,
   "metadata": {
    "collapsed": true
   },
   "outputs": [],
   "source": [
    "id_target_cols = ['amc_path', 'frame', 'heel_strike_l', 'heel_strike_r', 'support', 'toe_off_l', 'toe_off_r']"
   ]
  },
  {
   "cell_type": "code",
   "execution_count": 7,
   "metadata": {
    "collapsed": true
   },
   "outputs": [],
   "source": [
    "lower_half_bones_minus_toes = ['root', 'femur', 'hipjoint', 'tibia', 'foot']"
   ]
  },
  {
   "cell_type": "code",
   "execution_count": 8,
   "metadata": {
    "collapsed": true
   },
   "outputs": [],
   "source": [
    "predictors = []\n",
    "for col in data.columns.tolist():\n",
    "    for bone in lower_half_bones_minus_toes:\n",
    "        if (bone in col) & ('norm_angle' in col):\n",
    "            predictors.append(col)"
   ]
  },
  {
   "cell_type": "code",
   "execution_count": 9,
   "metadata": {
    "collapsed": false
   },
   "outputs": [
    {
     "data": {
      "text/plain": [
       "['lfemur_norm_angle_0',\n",
       " 'lfemur_norm_angle_1',\n",
       " 'lfemur_norm_angle_2',\n",
       " 'lfoot_norm_angle_0',\n",
       " 'lfoot_norm_angle_1',\n",
       " 'lfoot_norm_angle_2',\n",
       " 'ltibia_norm_angle_0',\n",
       " 'ltibia_norm_angle_1',\n",
       " 'ltibia_norm_angle_2',\n",
       " 'rfemur_norm_angle_0',\n",
       " 'rfemur_norm_angle_1',\n",
       " 'rfemur_norm_angle_2',\n",
       " 'rfoot_norm_angle_0',\n",
       " 'rfoot_norm_angle_1',\n",
       " 'rfoot_norm_angle_2',\n",
       " 'rtibia_norm_angle_0',\n",
       " 'rtibia_norm_angle_1',\n",
       " 'rtibia_norm_angle_2']"
      ]
     },
     "execution_count": 9,
     "metadata": {},
     "output_type": "execute_result"
    }
   ],
   "source": [
    "predictors"
   ]
  },
  {
   "cell_type": "code",
   "execution_count": 10,
   "metadata": {
    "collapsed": false
   },
   "outputs": [
    {
     "data": {
      "text/plain": [
       "18"
      ]
     },
     "execution_count": 10,
     "metadata": {},
     "output_type": "execute_result"
    }
   ],
   "source": [
    "len(predictors)"
   ]
  },
  {
   "cell_type": "code",
   "execution_count": 11,
   "metadata": {
    "collapsed": true
   },
   "outputs": [],
   "source": [
    "all_cols = copy.deepcopy(predictors)\n",
    "all_cols.extend(id_target_cols)"
   ]
  },
  {
   "cell_type": "code",
   "execution_count": 12,
   "metadata": {
    "collapsed": true
   },
   "outputs": [],
   "source": [
    "data = data[all_cols]"
   ]
  },
  {
   "cell_type": "markdown",
   "metadata": {},
   "source": [
    "Удалим коррелирующие признаки\n",
    "\n",
    "Попробуем два критерия выбора"
   ]
  },
  {
   "cell_type": "code",
   "execution_count": 13,
   "metadata": {
    "collapsed": true
   },
   "outputs": [],
   "source": [
    "correm_mi = CorrelatedRemoval(X=data[predictors], y=data['support'], method_xy='mutual_info_classif')"
   ]
  },
  {
   "cell_type": "code",
   "execution_count": 14,
   "metadata": {
    "collapsed": false
   },
   "outputs": [
    {
     "name": "stdout",
     "output_type": "stream",
     "text": [
      "Calculate features correlation ... \n",
      "Calculate correlation with target ... \n",
      "Sequentially exclude correlated variables ... \n"
     ]
    }
   ],
   "source": [
    "correm_mi.evaluate()"
   ]
  },
  {
   "cell_type": "code",
   "execution_count": 15,
   "metadata": {
    "collapsed": true
   },
   "outputs": [],
   "source": [
    "pr_mi = list(set(predictors) - set(correm_mi.all_corr_feats))"
   ]
  },
  {
   "cell_type": "code",
   "execution_count": 16,
   "metadata": {
    "collapsed": false
   },
   "outputs": [
    {
     "data": {
      "text/plain": [
       "9"
      ]
     },
     "execution_count": 16,
     "metadata": {},
     "output_type": "execute_result"
    }
   ],
   "source": [
    "len(pr_mi)"
   ]
  },
  {
   "cell_type": "code",
   "execution_count": 17,
   "metadata": {
    "collapsed": false
   },
   "outputs": [
    {
     "name": "stderr",
     "output_type": "stream",
     "text": [
      "[Parallel(n_jobs=1)]: Done   5 out of   5 | elapsed:    6.3s finished\n"
     ]
    }
   ],
   "source": [
    "model_pipe = Pipeline([\n",
    "    ('std_sc', StandardScaler()),\n",
    "    ('model', LogisticRegression(penalty='l1', C=0.1, class_weight=\"balanced\", random_state=147))  \n",
    "])\n",
    "\n",
    "kappa_score_mi = cross_val_score(cv=5, estimator=model_pipe, verbose=True, \n",
    "                scoring=make_scorer(cohen_kappa_score), \n",
    "                X=data[pr_mi], y=data['support'])"
   ]
  },
  {
   "cell_type": "code",
   "execution_count": null,
   "metadata": {
    "collapsed": true
   },
   "outputs": [],
   "source": []
  },
  {
   "cell_type": "code",
   "execution_count": 18,
   "metadata": {
    "collapsed": true
   },
   "outputs": [],
   "source": [
    "correm_f = CorrelatedRemoval(X=data[predictors], y=data['support'], method_xy='f_classif')"
   ]
  },
  {
   "cell_type": "code",
   "execution_count": 19,
   "metadata": {
    "collapsed": false
   },
   "outputs": [
    {
     "name": "stdout",
     "output_type": "stream",
     "text": [
      "Calculate features correlation ... \n",
      "Calculate correlation with target ... \n",
      "Sequentially exclude correlated variables ... \n"
     ]
    }
   ],
   "source": [
    "correm_f.evaluate()"
   ]
  },
  {
   "cell_type": "code",
   "execution_count": 20,
   "metadata": {
    "collapsed": true
   },
   "outputs": [],
   "source": [
    "pr_f = list(set(predictors) - set(correm_f.all_corr_feats))"
   ]
  },
  {
   "cell_type": "code",
   "execution_count": 29,
   "metadata": {
    "collapsed": false
   },
   "outputs": [
    {
     "data": {
      "text/plain": [
       "9"
      ]
     },
     "execution_count": 29,
     "metadata": {},
     "output_type": "execute_result"
    }
   ],
   "source": [
    "len(pr_f)"
   ]
  },
  {
   "cell_type": "code",
   "execution_count": 22,
   "metadata": {
    "collapsed": false
   },
   "outputs": [
    {
     "name": "stderr",
     "output_type": "stream",
     "text": [
      "[Parallel(n_jobs=1)]: Done   5 out of   5 | elapsed:    6.4s finished\n"
     ]
    }
   ],
   "source": [
    "model_pipe = Pipeline([\n",
    "    ('std_sc', StandardScaler()),\n",
    "    ('model', LogisticRegression(penalty='l1', C=0.1, class_weight=\"balanced\", random_state=147))  \n",
    "])\n",
    "\n",
    "kappa_score_f = cross_val_score(cv=5, estimator=model_pipe, verbose=True, \n",
    "                scoring=make_scorer(cohen_kappa_score), \n",
    "                X=data[pr_f], y=data['support'])"
   ]
  },
  {
   "cell_type": "code",
   "execution_count": 23,
   "metadata": {
    "collapsed": false
   },
   "outputs": [
    {
     "name": "stdout",
     "output_type": "stream",
     "text": [
      "Mean Kappa for mutual_inf: 0.6691190455456756\n",
      "Std Kappa for mutual_inf: 0.11658011204900258\n",
      "Mean Kappa for f_classif: 0.7034601876346527\n",
      "Std Kappa for f_classif: 0.11683211286554396\n"
     ]
    }
   ],
   "source": [
    "print(\"Mean Kappa for mutual_inf: {}\".format(np.mean(kappa_score_mi)))\n",
    "print(\"Std Kappa for mutual_inf: {}\".format(np.std(kappa_score_mi)))\n",
    "\n",
    "print(\"Mean Kappa for f_classif: {}\".format(np.mean(kappa_score_f)))\n",
    "print(\"Std Kappa for f_classif: {}\".format(np.std(kappa_score_f)))"
   ]
  },
  {
   "cell_type": "markdown",
   "metadata": {},
   "source": [
    "Будем использовать критерий f_classif"
   ]
  },
  {
   "cell_type": "code",
   "execution_count": 34,
   "metadata": {
    "collapsed": true
   },
   "outputs": [],
   "source": [
    "final_all_cols = copy.deepcopy(id_target_cols)\n",
    "final_all_cols.extend(pr_f)\n",
    "\n",
    "df_data = data[final_all_cols]\n",
    "df_data.to_csv('../output/support_half_toes_norm_data.csv')"
   ]
  },
  {
   "cell_type": "code",
   "execution_count": 35,
   "metadata": {
    "collapsed": true
   },
   "outputs": [],
   "source": [
    "scores_dict = {}"
   ]
  },
  {
   "cell_type": "code",
   "execution_count": 40,
   "metadata": {
    "collapsed": false
   },
   "outputs": [
    {
     "name": "stderr",
     "output_type": "stream",
     "text": [
      "[Parallel(n_jobs=1)]: Done   5 out of   5 | elapsed:    0.7s finished\n"
     ]
    },
    {
     "name": "stdout",
     "output_type": "stream",
     "text": [
      "\n"
     ]
    },
    {
     "name": "stderr",
     "output_type": "stream",
     "text": [
      "[Parallel(n_jobs=1)]: Done   5 out of   5 | elapsed:  2.4min finished\n",
      "[Parallel(n_jobs=1)]: Done   5 out of   5 | elapsed:  2.8min finished\n"
     ]
    },
    {
     "name": "stdout",
     "output_type": "stream",
     "text": [
      "\n"
     ]
    }
   ],
   "source": [
    "models = {\n",
    "    'lr': LogisticRegression(penalty='l1', C=0.1, class_weight=\"balanced\", random_state=147),\n",
    "    'rf': RandomForestClassifier(class_weight=\"balanced\", max_depth=6, n_estimators=500, random_state=147),\n",
    "    'lda': LinearDiscriminantAnalysis(),\n",
    "    'qda': QuadraticDiscriminantAnalysis(),\n",
    "    'knn': KNeighborsClassifier(n_neighbors=10),\n",
    "    'gb': GradientBoostingClassifier(n_estimators=100, max_depth=5)\n",
    "}\n",
    "\n",
    "for name, model in tqdm.tqdm_notebook(models.items()):\n",
    "    model_pipe = Pipeline([\n",
    "        ('std_sc', StandardScaler()),\n",
    "        ('model', model)  \n",
    "    ])\n",
    "\n",
    "    sc = cross_val_score(cv=5, estimator=model_pipe, verbose=True, \n",
    "                    scoring=make_scorer(cohen_kappa_score), \n",
    "                    X=df_data[pr_f].values, y=df_data['support'].values)\n",
    "    scores_dict[name] = sc"
   ]
  },
  {
   "cell_type": "code",
   "execution_count": 41,
   "metadata": {
    "collapsed": false
   },
   "outputs": [
    {
     "data": {
      "text/plain": [
       "{'gb': array([ 0.84655929,  0.88021046,  0.94086474,  0.9295089 ,  0.88994101]),\n",
       " 'knn': array([ 0.79123499,  0.82174898,  0.91180729,  0.91479867,  0.86758793]),\n",
       " 'lda': array([ 0.59884979,  0.72299209,  0.79780777,  0.75319203,  0.56615723]),\n",
       " 'lr': array([ 0.70996252,  0.6808203 ,  0.83535886,  0.79322158,  0.49793768]),\n",
       " 'qda': array([ 0.73423581,  0.80099578,  0.79435417,  0.79049447,  0.74834195]),\n",
       " 'rf': array([ 0.8283321 ,  0.8839485 ,  0.92793323,  0.89922535,  0.82002652])}"
      ]
     },
     "execution_count": 41,
     "metadata": {},
     "output_type": "execute_result"
    }
   ],
   "source": [
    "scores_dict"
   ]
  },
  {
   "cell_type": "code",
   "execution_count": 42,
   "metadata": {
    "collapsed": false
   },
   "outputs": [
    {
     "name": "stdout",
     "output_type": "stream",
     "text": [
      "Mean Kappa score for lda is : 0.6877997814790173\n",
      "Mean Kappa score for knn is : 0.8614355722233344\n",
      "Mean Kappa score for lr is : 0.7034601876346527\n",
      "Mean Kappa score for rf is : 0.8718931406631057\n",
      "Mean Kappa score for qda is : 0.7736844386134079\n",
      "Mean Kappa score for gb is : 0.897416879647602\n"
     ]
    },
    {
     "data": {
      "image/png": "[encoded data removed]",
      "text/plain": [
       "<matplotlib.figure.Figure at 0x1efa13c60b8>"
      ]
     },
     "metadata": {},
     "output_type": "display_data"
    }
   ],
   "source": [
    "for name, scores in scores_dict.items():\n",
    "    plt.plot(scores, label=name)\n",
    "    print(\"Mean Kappa score for {} is : {}\".format(name, np.mean(scores)))\n",
    "plt.legend(loc=0)\n",
    "plt.title('Kappa by folds');"
   ]
  },
  {
   "cell_type": "code",
   "execution_count": null,
   "metadata": {
    "collapsed": true
   },
   "outputs": [],
   "source": []
  },
  {
   "cell_type": "code",
   "execution_count": 43,
   "metadata": {
    "collapsed": false
   },
   "outputs": [
    {
     "name": "stdout",
     "output_type": "stream",
     "text": [
      "TRAIN: [ 9939 12539  5481 ...,   207 14690  7938] TEST: [ 6921 17002 23234 ..., 18633  2360 23462]\n"
     ]
    }
   ],
   "source": [
    "skf = StratifiedShuffleSplit(test_size=0.3, random_state=147, n_splits=1)\n",
    "for train_index, test_index in skf.split(X=df_data[pr_f], y=df_data['support'].values):\n",
    "    print(\"TRAIN:\", train_index, \"TEST:\", test_index)\n",
    "    X_train, X_test = df_data.loc[train_index, pr_f], df_data.loc[test_index, pr_f]\n",
    "    y_train, y_test = df_data.loc[train_index, 'support'], df_data.loc[test_index, 'support']"
   ]
  },
  {
   "cell_type": "code",
   "execution_count": 44,
   "metadata": {
    "collapsed": true
   },
   "outputs": [],
   "source": [
    "model_pipe = Pipeline([\n",
    "    ('std_sc', StandardScaler()),\n",
    "    ('gb', GradientBoostingClassifier(n_estimators=100, max_depth=5))  \n",
    "])"
   ]
  },
  {
   "cell_type": "code",
   "execution_count": 45,
   "metadata": {
    "collapsed": false
   },
   "outputs": [
    {
     "data": {
      "text/plain": [
       "Pipeline(memory=None,\n",
       "     steps=[('std_sc', StandardScaler(copy=True, with_mean=True, with_std=True)), ('gb', GradientBoostingClassifier(criterion='friedman_mse', init=None,\n",
       "              learning_rate=0.1, loss='deviance', max_depth=5,\n",
       "              max_features=None, max_leaf_nodes=None,\n",
       "              min_impurity_decrease...      presort='auto', random_state=None, subsample=1.0, verbose=0,\n",
       "              warm_start=False))])"
      ]
     },
     "execution_count": 45,
     "metadata": {},
     "output_type": "execute_result"
    }
   ],
   "source": [
    "model_pipe.fit(X_train, y_train)"
   ]
  },
  {
   "cell_type": "code",
   "execution_count": 46,
   "metadata": {
    "collapsed": true
   },
   "outputs": [],
   "source": [
    "proba = model_pipe.predict_proba(X_test)\n",
    "\n",
    "pred = model_pipe.predict(X_test)"
   ]
  },
  {
   "cell_type": "code",
   "execution_count": 47,
   "metadata": {
    "collapsed": false
   },
   "outputs": [
    {
     "data": {
      "text/plain": [
       "0.96084256008641644"
      ]
     },
     "execution_count": 47,
     "metadata": {},
     "output_type": "execute_result"
    }
   ],
   "source": [
    "accuracy_score(y_pred=pred, y_true=y_test)"
   ]
  },
  {
   "cell_type": "code",
   "execution_count": 48,
   "metadata": {
    "collapsed": false
   },
   "outputs": [
    {
     "data": {
      "text/plain": [
       "0.93948870443043642"
      ]
     },
     "execution_count": 48,
     "metadata": {},
     "output_type": "execute_result"
    }
   ],
   "source": [
    "cohen_kappa_score(y1=y_test, y2=pred)"
   ]
  },
  {
   "cell_type": "code",
   "execution_count": 49,
   "metadata": {
    "collapsed": false
   },
   "outputs": [
    {
     "name": "stdout",
     "output_type": "stream",
     "text": [
      "             precision    recall  f1-score   support\n",
      "\n",
      "         ds       0.96      0.95      0.96      3329\n",
      "        lss       0.97      0.97      0.97      2047\n",
      "        rss       0.95      0.97      0.96      2030\n",
      "\n",
      "avg / total       0.96      0.96      0.96      7406\n",
      "\n"
     ]
    }
   ],
   "source": [
    "print(classification_report(y_pred=pred, y_true=y_test))"
   ]
  },
  {
   "cell_type": "code",
   "execution_count": 50,
   "metadata": {
    "collapsed": true
   },
   "outputs": [],
   "source": [
    "gb = model_pipe.steps[-1][1]\n",
    "\n",
    "feat_imp = pd.DataFrame([X_train.columns.tolist(), gb.feature_importances_.tolist()]).T\n",
    "feat_imp.columns = ['feat', 'imp']\n",
    "feat_imp.sort_values('imp', ascending=False, inplace=True)"
   ]
  },
  {
   "cell_type": "code",
   "execution_count": 51,
   "metadata": {
    "collapsed": false
   },
   "outputs": [
    {
     "data": {
      "image/png": "[encoded data removed]",
      "text/plain": [
       "<matplotlib.figure.Figure at 0x1efa48a5630>"
      ]
     },
     "metadata": {},
     "output_type": "display_data"
    }
   ],
   "source": [
    "plt.figure(figsize=(10, 8))\n",
    "sns.barplot(data=feat_imp, y='feat', x='imp', orient='h');"
   ]
  },
  {
   "cell_type": "code",
   "execution_count": 52,
   "metadata": {
    "collapsed": false
   },
   "outputs": [
    {
     "data": {
      "text/plain": [
       "['../output/toes_norm.pkl']"
      ]
     },
     "execution_count": 52,
     "metadata": {},
     "output_type": "execute_result"
    }
   ],
   "source": [
    "joblib.dump(filename='../output/toes_norm.pkl', value=model_pipe)"
   ]
  },
  {
   "cell_type": "code",
   "execution_count": null,
   "metadata": {
    "collapsed": true
   },
   "outputs": [],
   "source": []
  }
 ],
 "metadata": {
  "kernelspec": {
   "display_name": "py34",
   "language": "python",
   "name": "py34"
  },
  "language_info": {
   "codemirror_mode": {
    "name": "ipython",
    "version": 3
   },
   "file_extension": ".py",
   "mimetype": "text/x-python",
   "name": "python",
   "nbconvert_exporter": "python",
   "pygments_lexer": "ipython3",
   "version": "3.5.2"
  },
  "widgets": {
   "state": {
    "0934d06f41834763bf0edb987d9208c1": {
     "views": [
      {
       "cell_index": 30
      }
     ]
    }
   },
   "version": "1.2.0"
  }
 },
 "nbformat": 4,
 "nbformat_minor": 2
}
