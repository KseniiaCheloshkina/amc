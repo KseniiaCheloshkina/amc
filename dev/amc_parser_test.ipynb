{
 "cells": [
  {
   "cell_type": "code",
   "execution_count": 1,
   "metadata": {
    "collapsed": true
   },
   "outputs": [],
   "source": [
    "import os\n",
    "\n",
    "import tqdm\n",
    "\n",
    "import matplotlib.pyplot as plt\n",
    "%matplotlib inline\n",
    "\n",
    "import pandas as pd\n",
    "\n",
    "import numpy as np\n",
    "import copy\n",
    "\n",
    "from transforms3d.euler import euler2mat, mat2euler"
   ]
  },
  {
   "cell_type": "code",
   "execution_count": 2,
   "metadata": {
    "collapsed": true
   },
   "outputs": [],
   "source": [
    "os.chdir('../run/')"
   ]
  },
  {
   "cell_type": "code",
   "execution_count": 3,
   "metadata": {
    "collapsed": false
   },
   "outputs": [],
   "source": [
    "import amc_parser"
   ]
  },
  {
   "cell_type": "markdown",
   "metadata": {},
   "source": [
    "###  Test parsing"
   ]
  },
  {
   "cell_type": "code",
   "execution_count": 4,
   "metadata": {
    "collapsed": false
   },
   "outputs": [
    {
     "name": "stdout",
     "output_type": "stream",
     "text": [
      "parsing ../data/02/02.asf\n",
      "parsing ../data/02/02_01.amc\n"
     ]
    }
   ],
   "source": [
    "joints, motions = amc_parser.test_all()"
   ]
  },
  {
   "cell_type": "markdown",
   "metadata": {},
   "source": [
    "### Parse and save to dataframe one person data"
   ]
  },
  {
   "cell_type": "code",
   "execution_count": 6,
   "metadata": {
    "collapsed": false
   },
   "outputs": [
    {
     "name": "stdout",
     "output_type": "stream",
     "text": [
      "02_01.amc\n"
     ]
    },
    {
     "name": "stderr",
     "output_type": "stream",
     "text": [
      "100%|████████████████████████████████████████████████████████████████████████████████| 343/343 [00:04<00:00, 78.74it/s]\n"
     ]
    },
    {
     "name": "stdout",
     "output_type": "stream",
     "text": [
      "05_01.amc\n"
     ]
    },
    {
     "name": "stderr",
     "output_type": "stream",
     "text": [
      "100%|████████████████████████████████████████████████████████████████████████████████| 598/598 [00:09<00:00, 59.86it/s]\n"
     ]
    }
   ],
   "source": [
    "df = amc_parser.get_all_data(person_folder='../data/02/')"
   ]
  },
  {
   "cell_type": "code",
   "execution_count": 16,
   "metadata": {
    "collapsed": false
   },
   "outputs": [
    {
     "data": {
      "text/html": [
       "<div>\n",
       "<style>\n",
       "    .dataframe thead tr:only-child th {\n",
       "        text-align: right;\n",
       "    }\n",
       "\n",
       "    .dataframe thead th {\n",
       "        text-align: left;\n",
       "    }\n",
       "\n",
       "    .dataframe tbody tr th {\n",
       "        vertical-align: top;\n",
       "    }\n",
       "</style>\n",
       "<table border=\"1\" class=\"dataframe\">\n",
       "  <thead>\n",
       "    <tr style=\"text-align: right;\">\n",
       "      <th></th>\n",
       "      <th>rthumb_coord_0</th>\n",
       "      <th>rthumb_coord_1</th>\n",
       "      <th>rthumb_coord_2</th>\n",
       "      <th>rthumb_norm_coord_0</th>\n",
       "      <th>rthumb_norm_coord_1</th>\n",
       "      <th>rthumb_norm_coord_2</th>\n",
       "      <th>rthumb_angle_0</th>\n",
       "      <th>rthumb_angle_1</th>\n",
       "      <th>rthumb_angle_2</th>\n",
       "      <th>rthumb_norm_angle_0</th>\n",
       "      <th>...</th>\n",
       "      <th>upperback_motion_0</th>\n",
       "      <th>upperback_motion_1</th>\n",
       "      <th>upperback_motion_2</th>\n",
       "      <th>lhand_motion_0</th>\n",
       "      <th>lhand_motion_1</th>\n",
       "      <th>rclavicle_motion_0</th>\n",
       "      <th>rclavicle_motion_1</th>\n",
       "      <th>frame</th>\n",
       "      <th>amc_path</th>\n",
       "      <th>person</th>\n",
       "    </tr>\n",
       "  </thead>\n",
       "  <tbody>\n",
       "    <tr>\n",
       "      <th>0</th>\n",
       "      <td>6.089472</td>\n",
       "      <td>15.933514</td>\n",
       "      <td>-23.857298</td>\n",
       "      <td>-4.329928</td>\n",
       "      <td>-0.771286</td>\n",
       "      <td>6.243002</td>\n",
       "      <td>0.370433</td>\n",
       "      <td>0.832739</td>\n",
       "      <td>1.480216</td>\n",
       "      <td>0.578539</td>\n",
       "      <td>...</td>\n",
       "      <td>3.47255</td>\n",
       "      <td>2.55226</td>\n",
       "      <td>1.65684</td>\n",
       "      <td>-21.8909</td>\n",
       "      <td>22.8474</td>\n",
       "      <td>-1.620100e-14</td>\n",
       "      <td>-1.431250e-14</td>\n",
       "      <td>0</td>\n",
       "      <td>02_01.amc</td>\n",
       "      <td>02.asf</td>\n",
       "    </tr>\n",
       "    <tr>\n",
       "      <th>0</th>\n",
       "      <td>6.081229</td>\n",
       "      <td>15.905572</td>\n",
       "      <td>-23.660827</td>\n",
       "      <td>-4.330471</td>\n",
       "      <td>-0.778428</td>\n",
       "      <td>6.255973</td>\n",
       "      <td>0.379056</td>\n",
       "      <td>0.823478</td>\n",
       "      <td>1.481134</td>\n",
       "      <td>0.588405</td>\n",
       "      <td>...</td>\n",
       "      <td>3.91254</td>\n",
       "      <td>2.58553</td>\n",
       "      <td>1.67171</td>\n",
       "      <td>-21.9010</td>\n",
       "      <td>23.0332</td>\n",
       "      <td>-3.061280e-14</td>\n",
       "      <td>-7.951390e-16</td>\n",
       "      <td>1</td>\n",
       "      <td>02_01.amc</td>\n",
       "      <td>02.asf</td>\n",
       "    </tr>\n",
       "    <tr>\n",
       "      <th>0</th>\n",
       "      <td>6.071945</td>\n",
       "      <td>15.885283</td>\n",
       "      <td>-23.470428</td>\n",
       "      <td>-4.331755</td>\n",
       "      <td>-0.789617</td>\n",
       "      <td>6.261472</td>\n",
       "      <td>0.378521</td>\n",
       "      <td>0.823085</td>\n",
       "      <td>1.477328</td>\n",
       "      <td>0.586784</td>\n",
       "      <td>...</td>\n",
       "      <td>3.96845</td>\n",
       "      <td>2.68906</td>\n",
       "      <td>1.61541</td>\n",
       "      <td>-21.8378</td>\n",
       "      <td>22.4270</td>\n",
       "      <td>3.975690e-15</td>\n",
       "      <td>-1.033680e-14</td>\n",
       "      <td>2</td>\n",
       "      <td>02_01.amc</td>\n",
       "      <td>02.asf</td>\n",
       "    </tr>\n",
       "    <tr>\n",
       "      <th>0</th>\n",
       "      <td>6.075146</td>\n",
       "      <td>15.874281</td>\n",
       "      <td>-23.292788</td>\n",
       "      <td>-4.319954</td>\n",
       "      <td>-0.795319</td>\n",
       "      <td>6.247212</td>\n",
       "      <td>0.374448</td>\n",
       "      <td>0.824578</td>\n",
       "      <td>1.473811</td>\n",
       "      <td>0.576882</td>\n",
       "      <td>...</td>\n",
       "      <td>3.81888</td>\n",
       "      <td>2.77415</td>\n",
       "      <td>1.44970</td>\n",
       "      <td>-21.9155</td>\n",
       "      <td>21.7140</td>\n",
       "      <td>1.376580e-14</td>\n",
       "      <td>0.000000e+00</td>\n",
       "      <td>3</td>\n",
       "      <td>02_01.amc</td>\n",
       "      <td>02.asf</td>\n",
       "    </tr>\n",
       "    <tr>\n",
       "      <th>0</th>\n",
       "      <td>6.084829</td>\n",
       "      <td>15.839240</td>\n",
       "      <td>-23.136714</td>\n",
       "      <td>-4.299271</td>\n",
       "      <td>-0.809560</td>\n",
       "      <td>6.207986</td>\n",
       "      <td>0.370913</td>\n",
       "      <td>0.818788</td>\n",
       "      <td>1.470197</td>\n",
       "      <td>0.570966</td>\n",
       "      <td>...</td>\n",
       "      <td>3.70601</td>\n",
       "      <td>2.80336</td>\n",
       "      <td>1.40701</td>\n",
       "      <td>-21.8573</td>\n",
       "      <td>21.6385</td>\n",
       "      <td>-2.042510e-14</td>\n",
       "      <td>-7.156250e-15</td>\n",
       "      <td>4</td>\n",
       "      <td>02_01.amc</td>\n",
       "      <td>02.asf</td>\n",
       "    </tr>\n",
       "  </tbody>\n",
       "</table>\n",
       "<p>5 rows × 468 columns</p>\n",
       "</div>"
      ],
      "text/plain": [
       "   rthumb_coord_0  rthumb_coord_1  rthumb_coord_2  rthumb_norm_coord_0  \\\n",
       "0        6.089472       15.933514      -23.857298            -4.329928   \n",
       "0        6.081229       15.905572      -23.660827            -4.330471   \n",
       "0        6.071945       15.885283      -23.470428            -4.331755   \n",
       "0        6.075146       15.874281      -23.292788            -4.319954   \n",
       "0        6.084829       15.839240      -23.136714            -4.299271   \n",
       "\n",
       "   rthumb_norm_coord_1  rthumb_norm_coord_2  rthumb_angle_0  rthumb_angle_1  \\\n",
       "0            -0.771286             6.243002        0.370433        0.832739   \n",
       "0            -0.778428             6.255973        0.379056        0.823478   \n",
       "0            -0.789617             6.261472        0.378521        0.823085   \n",
       "0            -0.795319             6.247212        0.374448        0.824578   \n",
       "0            -0.809560             6.207986        0.370913        0.818788   \n",
       "\n",
       "   rthumb_angle_2  rthumb_norm_angle_0   ...    upperback_motion_0  \\\n",
       "0        1.480216             0.578539   ...               3.47255   \n",
       "0        1.481134             0.588405   ...               3.91254   \n",
       "0        1.477328             0.586784   ...               3.96845   \n",
       "0        1.473811             0.576882   ...               3.81888   \n",
       "0        1.470197             0.570966   ...               3.70601   \n",
       "\n",
       "   upperback_motion_1  upperback_motion_2  lhand_motion_0  lhand_motion_1  \\\n",
       "0             2.55226             1.65684        -21.8909         22.8474   \n",
       "0             2.58553             1.67171        -21.9010         23.0332   \n",
       "0             2.68906             1.61541        -21.8378         22.4270   \n",
       "0             2.77415             1.44970        -21.9155         21.7140   \n",
       "0             2.80336             1.40701        -21.8573         21.6385   \n",
       "\n",
       "   rclavicle_motion_0  rclavicle_motion_1  frame   amc_path  person  \n",
       "0       -1.620100e-14       -1.431250e-14      0  02_01.amc  02.asf  \n",
       "0       -3.061280e-14       -7.951390e-16      1  02_01.amc  02.asf  \n",
       "0        3.975690e-15       -1.033680e-14      2  02_01.amc  02.asf  \n",
       "0        1.376580e-14        0.000000e+00      3  02_01.amc  02.asf  \n",
       "0       -2.042510e-14       -7.156250e-15      4  02_01.amc  02.asf  \n",
       "\n",
       "[5 rows x 468 columns]"
      ]
     },
     "execution_count": 16,
     "metadata": {},
     "output_type": "execute_result"
    }
   ],
   "source": [
    "df.head()"
   ]
  },
  {
   "cell_type": "code",
   "execution_count": 15,
   "metadata": {
    "collapsed": false
   },
   "outputs": [
    {
     "data": {
      "text/plain": [
       "[<matplotlib.lines.Line2D at 0x20977e43d68>]"
      ]
     },
     "execution_count": 15,
     "metadata": {},
     "output_type": "execute_result"
    },
    {
     "data": {
      "image/png": "[encoded data removed]",
      "text/plain": [
       "<matplotlib.figure.Figure at 0x20977eb6a58>"
      ]
     },
     "metadata": {},
     "output_type": "display_data"
    }
   ],
   "source": [
    "d = df[df['amc_path'] == '02_01.amc']\n",
    "plt.plot(d['frame'], d['rclavicle_angle_0'])"
   ]
  },
  {
   "cell_type": "code",
   "execution_count": null,
   "metadata": {
    "collapsed": true
   },
   "outputs": [],
   "source": []
  },
  {
   "cell_type": "code",
   "execution_count": null,
   "metadata": {
    "collapsed": true
   },
   "outputs": [],
   "source": []
  }
 ],
 "metadata": {
  "kernelspec": {
   "display_name": "Python 3",
   "language": "python",
   "name": "python3"
  },
  "language_info": {
   "codemirror_mode": {
    "name": "ipython",
    "version": 3
   },
   "file_extension": ".py",
   "mimetype": "text/x-python",
   "name": "python",
   "nbconvert_exporter": "python",
   "pygments_lexer": "ipython3",
   "version": "3.5.2"
  }
 },
 "nbformat": 4,
 "nbformat_minor": 2
}
