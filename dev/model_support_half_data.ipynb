{
 "cells": [
  {
   "cell_type": "code",
   "execution_count": 1,
   "metadata": {
    "collapsed": true
   },
   "outputs": [],
   "source": [
    "import os\n",
    "import pandas as pd\n",
    "import numpy as np\n",
    "from scipy import stats\n",
    "import tqdm\n",
    "\n",
    "import matplotlib.pyplot as plt\n",
    "%matplotlib inline\n",
    "import seaborn as sns\n",
    "plt.style.use('ggplot')\n",
    "\n",
    "import plotly.plotly as py\n",
    "import plotly.graph_objs as go\n",
    "pd.options.mode.chained_assignment = None\n",
    "from sklearn.externals import joblib\n",
    "import copy"
   ]
  },
  {
   "cell_type": "code",
   "execution_count": 2,
   "metadata": {
    "collapsed": false
   },
   "outputs": [
    {
     "name": "stderr",
     "output_type": "stream",
     "text": [
      "C:\\Users\\Kseniya\\Anaconda2\\envs\\py34\\lib\\site-packages\\sklearn\\cross_validation.py:41: DeprecationWarning:\n",
      "\n",
      "This module was deprecated in version 0.18 in favor of the model_selection module into which all the refactored classes and functions are moved. Also note that the interface of the new CV iterators are different from that of this module. This module will be removed in 0.20.\n",
      "\n"
     ]
    }
   ],
   "source": [
    "from sklearn.model_selection import StratifiedKFold, StratifiedShuffleSplit\n",
    "from sklearn.cross_validation import cross_val_score\n",
    "from sklearn.metrics import cohen_kappa_score, make_scorer, classification_report, accuracy_score\n",
    "from sklearn.pipeline import Pipeline\n",
    "\n",
    "from sklearn.preprocessing import StandardScaler\n",
    "\n",
    "from sklearn.ensemble import GradientBoostingClassifier\n",
    "from sklearn.linear_model import LogisticRegression\n",
    "from sklearn.ensemble import RandomForestClassifier\n",
    "from sklearn.discriminant_analysis import LinearDiscriminantAnalysis, QuadraticDiscriminantAnalysis\n",
    "from sklearn.naive_bayes import MultinomialNB\n",
    "from sklearn.neighbors import KNeighborsClassifier"
   ]
  },
  {
   "cell_type": "code",
   "execution_count": 3,
   "metadata": {
    "collapsed": true
   },
   "outputs": [],
   "source": [
    "os.chdir(\"../run/\")\n",
    "\n",
    "from utils import CorrelatedRemoval"
   ]
  },
  {
   "cell_type": "markdown",
   "metadata": {},
   "source": [
    "Load data"
   ]
  },
  {
   "cell_type": "code",
   "execution_count": 9,
   "metadata": {
    "collapsed": true
   },
   "outputs": [],
   "source": [
    "data = pd.read_csv('../output/preprocessed_data.csv', index_col=0)\n",
    "data.reset_index(drop=True, inplace=True)"
   ]
  },
  {
   "cell_type": "code",
   "execution_count": 10,
   "metadata": {
    "collapsed": false
   },
   "outputs": [
    {
     "data": {
      "text/html": [
       "<div>\n",
       "<style>\n",
       "    .dataframe thead tr:only-child th {\n",
       "        text-align: right;\n",
       "    }\n",
       "\n",
       "    .dataframe thead th {\n",
       "        text-align: left;\n",
       "    }\n",
       "\n",
       "    .dataframe tbody tr th {\n",
       "        vertical-align: top;\n",
       "    }\n",
       "</style>\n",
       "<table border=\"1\" class=\"dataframe\">\n",
       "  <thead>\n",
       "    <tr style=\"text-align: right;\">\n",
       "      <th></th>\n",
       "      <th>head_motion_0</th>\n",
       "      <th>head_motion_1</th>\n",
       "      <th>head_motion_2</th>\n",
       "      <th>lclavicle_motion_0</th>\n",
       "      <th>lclavicle_motion_1</th>\n",
       "      <th>lfemur_motion_0</th>\n",
       "      <th>lfemur_motion_1</th>\n",
       "      <th>lfemur_motion_2</th>\n",
       "      <th>lfingers_motion_0</th>\n",
       "      <th>lfoot_motion_0</th>\n",
       "      <th>...</th>\n",
       "      <th>upperneck_norm_angle_0</th>\n",
       "      <th>upperneck_norm_angle_1</th>\n",
       "      <th>upperneck_norm_angle_2</th>\n",
       "      <th>amc_path</th>\n",
       "      <th>frame</th>\n",
       "      <th>heel_strike_l</th>\n",
       "      <th>heel_strike_r</th>\n",
       "      <th>support</th>\n",
       "      <th>toe_off_l</th>\n",
       "      <th>toe_off_r</th>\n",
       "    </tr>\n",
       "  </thead>\n",
       "  <tbody>\n",
       "    <tr>\n",
       "      <th>0</th>\n",
       "      <td>1.79557</td>\n",
       "      <td>1.148945</td>\n",
       "      <td>-1.011070</td>\n",
       "      <td>-1.575370e-14</td>\n",
       "      <td>-1.987850e-15</td>\n",
       "      <td>-28.0310</td>\n",
       "      <td>-0.865269</td>\n",
       "      <td>-22.3005</td>\n",
       "      <td>7.12502</td>\n",
       "      <td>-8.18919</td>\n",
       "      <td>...</td>\n",
       "      <td>-0.086489</td>\n",
       "      <td>0.257979</td>\n",
       "      <td>0.019490</td>\n",
       "      <td>02_01.amc</td>\n",
       "      <td>11</td>\n",
       "      <td>1</td>\n",
       "      <td>0</td>\n",
       "      <td>ds</td>\n",
       "      <td>0</td>\n",
       "      <td>1</td>\n",
       "    </tr>\n",
       "    <tr>\n",
       "      <th>1</th>\n",
       "      <td>1.74626</td>\n",
       "      <td>1.148945</td>\n",
       "      <td>-0.771107</td>\n",
       "      <td>1.848700e-14</td>\n",
       "      <td>1.033680e-14</td>\n",
       "      <td>-28.0007</td>\n",
       "      <td>-0.715941</td>\n",
       "      <td>-22.3575</td>\n",
       "      <td>7.12502</td>\n",
       "      <td>-8.01088</td>\n",
       "      <td>...</td>\n",
       "      <td>-0.095032</td>\n",
       "      <td>0.257979</td>\n",
       "      <td>0.022170</td>\n",
       "      <td>02_01.amc</td>\n",
       "      <td>12</td>\n",
       "      <td>1</td>\n",
       "      <td>0</td>\n",
       "      <td>ds</td>\n",
       "      <td>0</td>\n",
       "      <td>1</td>\n",
       "    </tr>\n",
       "    <tr>\n",
       "      <th>2</th>\n",
       "      <td>1.57093</td>\n",
       "      <td>1.148945</td>\n",
       "      <td>-0.442091</td>\n",
       "      <td>-4.870220e-14</td>\n",
       "      <td>-3.578120e-15</td>\n",
       "      <td>-27.7673</td>\n",
       "      <td>-0.722927</td>\n",
       "      <td>-23.2709</td>\n",
       "      <td>7.12502</td>\n",
       "      <td>-7.96696</td>\n",
       "      <td>...</td>\n",
       "      <td>-0.103602</td>\n",
       "      <td>0.254352</td>\n",
       "      <td>0.012141</td>\n",
       "      <td>02_01.amc</td>\n",
       "      <td>13</td>\n",
       "      <td>0</td>\n",
       "      <td>0</td>\n",
       "      <td>ds</td>\n",
       "      <td>0</td>\n",
       "      <td>1</td>\n",
       "    </tr>\n",
       "    <tr>\n",
       "      <th>3</th>\n",
       "      <td>1.40889</td>\n",
       "      <td>1.148945</td>\n",
       "      <td>-0.278815</td>\n",
       "      <td>-7.355030e-15</td>\n",
       "      <td>5.168400e-15</td>\n",
       "      <td>-27.3797</td>\n",
       "      <td>-0.546801</td>\n",
       "      <td>-24.4309</td>\n",
       "      <td>7.12502</td>\n",
       "      <td>-8.25455</td>\n",
       "      <td>...</td>\n",
       "      <td>-0.108770</td>\n",
       "      <td>0.251613</td>\n",
       "      <td>-0.004768</td>\n",
       "      <td>02_01.amc</td>\n",
       "      <td>14</td>\n",
       "      <td>0</td>\n",
       "      <td>0</td>\n",
       "      <td>ds</td>\n",
       "      <td>0</td>\n",
       "      <td>1</td>\n",
       "    </tr>\n",
       "    <tr>\n",
       "      <th>4</th>\n",
       "      <td>1.34171</td>\n",
       "      <td>1.148945</td>\n",
       "      <td>-0.134220</td>\n",
       "      <td>-3.468790e-14</td>\n",
       "      <td>8.746530e-15</td>\n",
       "      <td>-26.9492</td>\n",
       "      <td>-0.427832</td>\n",
       "      <td>-25.0387</td>\n",
       "      <td>7.12502</td>\n",
       "      <td>-8.66092</td>\n",
       "      <td>...</td>\n",
       "      <td>-0.112052</td>\n",
       "      <td>0.246911</td>\n",
       "      <td>-0.015451</td>\n",
       "      <td>02_01.amc</td>\n",
       "      <td>15</td>\n",
       "      <td>0</td>\n",
       "      <td>0</td>\n",
       "      <td>ds</td>\n",
       "      <td>0</td>\n",
       "      <td>1</td>\n",
       "    </tr>\n",
       "  </tbody>\n",
       "</table>\n",
       "<p>5 rows × 252 columns</p>\n",
       "</div>"
      ],
      "text/plain": [
       "   head_motion_0  head_motion_1  head_motion_2  lclavicle_motion_0  \\\n",
       "0        1.79557       1.148945      -1.011070       -1.575370e-14   \n",
       "1        1.74626       1.148945      -0.771107        1.848700e-14   \n",
       "2        1.57093       1.148945      -0.442091       -4.870220e-14   \n",
       "3        1.40889       1.148945      -0.278815       -7.355030e-15   \n",
       "4        1.34171       1.148945      -0.134220       -3.468790e-14   \n",
       "\n",
       "   lclavicle_motion_1  lfemur_motion_0  lfemur_motion_1  lfemur_motion_2  \\\n",
       "0       -1.987850e-15         -28.0310        -0.865269         -22.3005   \n",
       "1        1.033680e-14         -28.0007        -0.715941         -22.3575   \n",
       "2       -3.578120e-15         -27.7673        -0.722927         -23.2709   \n",
       "3        5.168400e-15         -27.3797        -0.546801         -24.4309   \n",
       "4        8.746530e-15         -26.9492        -0.427832         -25.0387   \n",
       "\n",
       "   lfingers_motion_0  lfoot_motion_0    ...      upperneck_norm_angle_0  \\\n",
       "0            7.12502        -8.18919    ...                   -0.086489   \n",
       "1            7.12502        -8.01088    ...                   -0.095032   \n",
       "2            7.12502        -7.96696    ...                   -0.103602   \n",
       "3            7.12502        -8.25455    ...                   -0.108770   \n",
       "4            7.12502        -8.66092    ...                   -0.112052   \n",
       "\n",
       "   upperneck_norm_angle_1  upperneck_norm_angle_2   amc_path  frame  \\\n",
       "0                0.257979                0.019490  02_01.amc     11   \n",
       "1                0.257979                0.022170  02_01.amc     12   \n",
       "2                0.254352                0.012141  02_01.amc     13   \n",
       "3                0.251613               -0.004768  02_01.amc     14   \n",
       "4                0.246911               -0.015451  02_01.amc     15   \n",
       "\n",
       "   heel_strike_l  heel_strike_r  support  toe_off_l  toe_off_r  \n",
       "0              1              0       ds          0          1  \n",
       "1              1              0       ds          0          1  \n",
       "2              0              0       ds          0          1  \n",
       "3              0              0       ds          0          1  \n",
       "4              0              0       ds          0          1  \n",
       "\n",
       "[5 rows x 252 columns]"
      ]
     },
     "execution_count": 10,
     "metadata": {},
     "output_type": "execute_result"
    }
   ],
   "source": [
    "data.head()"
   ]
  },
  {
   "cell_type": "markdown",
   "metadata": {},
   "source": [
    "## Предскажем support по данным с нижней половины тела"
   ]
  },
  {
   "cell_type": "markdown",
   "metadata": {},
   "source": [
    "Select predictors"
   ]
  },
  {
   "cell_type": "code",
   "execution_count": 13,
   "metadata": {
    "collapsed": true
   },
   "outputs": [],
   "source": [
    "id_target_cols = ['amc_path', 'frame', 'heel_strike_l', 'heel_strike_r', 'support', 'toe_off_l', 'toe_off_r']"
   ]
  },
  {
   "cell_type": "code",
   "execution_count": 19,
   "metadata": {
    "collapsed": true
   },
   "outputs": [],
   "source": [
    "lower_half_bones = ['root', 'femur', 'hipjoint', 'tibia', 'foot', 'toes']"
   ]
  },
  {
   "cell_type": "code",
   "execution_count": 17,
   "metadata": {
    "collapsed": false
   },
   "outputs": [],
   "source": [
    "predictors = []\n",
    "for col in data.columns.tolist():\n",
    "    for bone in lower_half_bones:\n",
    "        if bone in col:\n",
    "            predictors.append(col)"
   ]
  },
  {
   "cell_type": "code",
   "execution_count": 18,
   "metadata": {
    "collapsed": false
   },
   "outputs": [
    {
     "data": {
      "text/plain": [
       "['lfemur_motion_0',\n",
       " 'lfemur_motion_1',\n",
       " 'lfemur_motion_2',\n",
       " 'lfoot_motion_0',\n",
       " 'lfoot_motion_1',\n",
       " 'ltibia_motion_0',\n",
       " 'ltoes_motion_0',\n",
       " 'rfemur_motion_0',\n",
       " 'rfemur_motion_1',\n",
       " 'rfemur_motion_2',\n",
       " 'rfoot_motion_0',\n",
       " 'rfoot_motion_1',\n",
       " 'root_motion_0',\n",
       " 'root_motion_1',\n",
       " 'root_motion_2',\n",
       " 'root_motion_3',\n",
       " 'root_motion_4',\n",
       " 'root_motion_5',\n",
       " 'rtibia_motion_0',\n",
       " 'rtoes_motion_0',\n",
       " 'lfemur_angle_0',\n",
       " 'lfemur_angle_1',\n",
       " 'lfemur_angle_2',\n",
       " 'lfemur_norm_angle_0',\n",
       " 'lfemur_norm_angle_1',\n",
       " 'lfemur_norm_angle_2',\n",
       " 'lfoot_angle_0',\n",
       " 'lfoot_angle_1',\n",
       " 'lfoot_angle_2',\n",
       " 'lfoot_norm_angle_0',\n",
       " 'lfoot_norm_angle_1',\n",
       " 'lfoot_norm_angle_2',\n",
       " 'lhipjoint_angle_0',\n",
       " 'lhipjoint_angle_1',\n",
       " 'lhipjoint_angle_2',\n",
       " 'lhipjoint_norm_angle_0',\n",
       " 'lhipjoint_norm_angle_1',\n",
       " 'lhipjoint_norm_angle_2',\n",
       " 'ltibia_angle_0',\n",
       " 'ltibia_angle_1',\n",
       " 'ltibia_angle_2',\n",
       " 'ltibia_norm_angle_0',\n",
       " 'ltibia_norm_angle_1',\n",
       " 'ltibia_norm_angle_2',\n",
       " 'ltoes_angle_0',\n",
       " 'ltoes_angle_1',\n",
       " 'ltoes_angle_2',\n",
       " 'ltoes_norm_angle_0',\n",
       " 'ltoes_norm_angle_1',\n",
       " 'ltoes_norm_angle_2',\n",
       " 'rfemur_angle_0',\n",
       " 'rfemur_angle_1',\n",
       " 'rfemur_angle_2',\n",
       " 'rfemur_norm_angle_0',\n",
       " 'rfemur_norm_angle_1',\n",
       " 'rfemur_norm_angle_2',\n",
       " 'rfoot_angle_0',\n",
       " 'rfoot_angle_1',\n",
       " 'rfoot_angle_2',\n",
       " 'rfoot_norm_angle_0',\n",
       " 'rfoot_norm_angle_1',\n",
       " 'rfoot_norm_angle_2',\n",
       " 'rhipjoint_angle_0',\n",
       " 'rhipjoint_angle_1',\n",
       " 'rhipjoint_angle_2',\n",
       " 'rhipjoint_norm_angle_0',\n",
       " 'rhipjoint_norm_angle_1',\n",
       " 'rhipjoint_norm_angle_2',\n",
       " 'root_angle_0',\n",
       " 'root_angle_1',\n",
       " 'root_angle_2',\n",
       " 'rtibia_angle_0',\n",
       " 'rtibia_angle_1',\n",
       " 'rtibia_angle_2',\n",
       " 'rtibia_norm_angle_0',\n",
       " 'rtibia_norm_angle_1',\n",
       " 'rtibia_norm_angle_2',\n",
       " 'rtoes_angle_0',\n",
       " 'rtoes_angle_1',\n",
       " 'rtoes_angle_2',\n",
       " 'rtoes_norm_angle_0',\n",
       " 'rtoes_norm_angle_1',\n",
       " 'rtoes_norm_angle_2']"
      ]
     },
     "execution_count": 18,
     "metadata": {},
     "output_type": "execute_result"
    }
   ],
   "source": [
    "predictors"
   ]
  },
  {
   "cell_type": "code",
   "execution_count": 23,
   "metadata": {
    "collapsed": false
   },
   "outputs": [
    {
     "data": {
      "text/plain": [
       "83"
      ]
     },
     "execution_count": 23,
     "metadata": {},
     "output_type": "execute_result"
    }
   ],
   "source": [
    "len(predictors)"
   ]
  },
  {
   "cell_type": "code",
   "execution_count": 21,
   "metadata": {
    "collapsed": false
   },
   "outputs": [],
   "source": [
    "all_cols = copy.deepcopy(predictors)\n",
    "all_cols.extend(id_target_cols)"
   ]
  },
  {
   "cell_type": "code",
   "execution_count": 22,
   "metadata": {
    "collapsed": true
   },
   "outputs": [],
   "source": [
    "data = data[all_cols]"
   ]
  },
  {
   "cell_type": "markdown",
   "metadata": {},
   "source": [
    "Удалим коррелирующие признаки\n",
    "\n",
    "Попробуем два критерия выбора"
   ]
  },
  {
   "cell_type": "code",
   "execution_count": 24,
   "metadata": {
    "collapsed": true
   },
   "outputs": [],
   "source": [
    "correm_mi = CorrelatedRemoval(X=data[predictors], y=data['support'], method_xy='mutual_info_classif')"
   ]
  },
  {
   "cell_type": "code",
   "execution_count": 25,
   "metadata": {
    "collapsed": false
   },
   "outputs": [
    {
     "name": "stdout",
     "output_type": "stream",
     "text": [
      "Calculate features correlation ... \n",
      "Calculate correlation with target ... \n",
      "Sequentially exclude correlated variables ... \n"
     ]
    }
   ],
   "source": [
    "correm_mi.evaluate()"
   ]
  },
  {
   "cell_type": "code",
   "execution_count": 27,
   "metadata": {
    "collapsed": true
   },
   "outputs": [],
   "source": [
    "pr_mi = list(set(predictors) - set(correm_mi.all_corr_feats))"
   ]
  },
  {
   "cell_type": "code",
   "execution_count": 28,
   "metadata": {
    "collapsed": false
   },
   "outputs": [
    {
     "data": {
      "text/plain": [
       "26"
      ]
     },
     "execution_count": 28,
     "metadata": {},
     "output_type": "execute_result"
    }
   ],
   "source": [
    "len(pr_mi)"
   ]
  },
  {
   "cell_type": "code",
   "execution_count": 29,
   "metadata": {
    "collapsed": false
   },
   "outputs": [
    {
     "name": "stderr",
     "output_type": "stream",
     "text": [
      "[Parallel(n_jobs=1)]: Done   5 out of   5 | elapsed:   37.9s finished\n"
     ]
    }
   ],
   "source": [
    "model_pipe = Pipeline([\n",
    "    ('std_sc', StandardScaler()),\n",
    "    ('model', LogisticRegression(penalty='l1', C=0.1, class_weight=\"balanced\", random_state=147))  \n",
    "])\n",
    "\n",
    "kappa_score_mi = cross_val_score(cv=5, estimator=model_pipe, verbose=True, \n",
    "                scoring=make_scorer(cohen_kappa_score), \n",
    "                X=data[pr_mi], y=data['support'])"
   ]
  },
  {
   "cell_type": "code",
   "execution_count": null,
   "metadata": {
    "collapsed": true
   },
   "outputs": [],
   "source": []
  },
  {
   "cell_type": "code",
   "execution_count": 31,
   "metadata": {
    "collapsed": true
   },
   "outputs": [],
   "source": [
    "correm_f = CorrelatedRemoval(X=data[predictors], y=data['support'], method_xy='f_classif')"
   ]
  },
  {
   "cell_type": "code",
   "execution_count": 32,
   "metadata": {
    "collapsed": false
   },
   "outputs": [
    {
     "name": "stdout",
     "output_type": "stream",
     "text": [
      "Calculate features correlation ... \n",
      "Calculate correlation with target ... \n",
      "Sequentially exclude correlated variables ... \n"
     ]
    }
   ],
   "source": [
    "correm_f.evaluate()"
   ]
  },
  {
   "cell_type": "code",
   "execution_count": 33,
   "metadata": {
    "collapsed": true
   },
   "outputs": [],
   "source": [
    "pr_f = list(set(predictors) - set(correm_f.all_corr_feats))"
   ]
  },
  {
   "cell_type": "code",
   "execution_count": 34,
   "metadata": {
    "collapsed": false
   },
   "outputs": [
    {
     "data": {
      "text/plain": [
       "26"
      ]
     },
     "execution_count": 34,
     "metadata": {},
     "output_type": "execute_result"
    }
   ],
   "source": [
    "len(pr_f)"
   ]
  },
  {
   "cell_type": "code",
   "execution_count": 36,
   "metadata": {
    "collapsed": false
   },
   "outputs": [
    {
     "name": "stderr",
     "output_type": "stream",
     "text": [
      "[Parallel(n_jobs=1)]: Done   5 out of   5 | elapsed:   37.7s finished\n"
     ]
    }
   ],
   "source": [
    "model_pipe = Pipeline([\n",
    "    ('std_sc', StandardScaler()),\n",
    "    ('model', LogisticRegression(penalty='l1', C=0.1, class_weight=\"balanced\", random_state=147))  \n",
    "])\n",
    "\n",
    "kappa_score_f = cross_val_score(cv=5, estimator=model_pipe, verbose=True, \n",
    "                scoring=make_scorer(cohen_kappa_score), \n",
    "                X=data[pr_f], y=data['support'])"
   ]
  },
  {
   "cell_type": "code",
   "execution_count": 37,
   "metadata": {
    "collapsed": false
   },
   "outputs": [
    {
     "name": "stdout",
     "output_type": "stream",
     "text": [
      "Mean Kappa for mutual_inf: 0.8954149605865425\n",
      "Std Kappa for mutual_inf: 0.020488736666356845\n",
      "Mean Kappa for f_classif: 0.8835921059406104\n",
      "Std Kappa for f_classif: 0.021085791029316233\n"
     ]
    }
   ],
   "source": [
    "print(\"Mean Kappa for mutual_inf: {}\".format(np.mean(kappa_score_mi)))\n",
    "print(\"Std Kappa for mutual_inf: {}\".format(np.std(kappa_score_mi)))\n",
    "\n",
    "print(\"Mean Kappa for f_classif: {}\".format(np.mean(kappa_score_f)))\n",
    "print(\"Std Kappa for f_classif: {}\".format(np.std(kappa_score_f)))"
   ]
  },
  {
   "cell_type": "markdown",
   "metadata": {},
   "source": [
    "Будем использовать критерий mutual information"
   ]
  },
  {
   "cell_type": "code",
   "execution_count": 39,
   "metadata": {
    "collapsed": true
   },
   "outputs": [],
   "source": [
    "final_all_cols = copy.deepcopy(id_target_cols)\n",
    "final_all_cols.extend(pr_mi)"
   ]
  },
  {
   "cell_type": "code",
   "execution_count": 40,
   "metadata": {
    "collapsed": true
   },
   "outputs": [],
   "source": [
    "df_data = data[final_all_cols]"
   ]
  },
  {
   "cell_type": "code",
   "execution_count": 41,
   "metadata": {
    "collapsed": true
   },
   "outputs": [],
   "source": [
    "df_data.to_csv('../output/support_half_data.csv')"
   ]
  },
  {
   "cell_type": "code",
   "execution_count": 42,
   "metadata": {
    "collapsed": true
   },
   "outputs": [],
   "source": [
    "scores_dict = {}"
   ]
  },
  {
   "cell_type": "code",
   "execution_count": 45,
   "metadata": {
    "collapsed": false
   },
   "outputs": [
    {
     "name": "stderr",
     "output_type": "stream",
     "text": [
      "[Parallel(n_jobs=1)]: Done   5 out of   5 | elapsed:  4.1min finished\n",
      "C:\\Users\\Kseniya\\Anaconda2\\envs\\py34\\lib\\site-packages\\sklearn\\discriminant_analysis.py:442: UserWarning:\n",
      "\n",
      "The priors do not sum to 1. Renormalizing\n",
      "\n",
      "C:\\Users\\Kseniya\\Anaconda2\\envs\\py34\\lib\\site-packages\\sklearn\\discriminant_analysis.py:442: UserWarning:\n",
      "\n",
      "The priors do not sum to 1. Renormalizing\n",
      "\n",
      "C:\\Users\\Kseniya\\Anaconda2\\envs\\py34\\lib\\site-packages\\sklearn\\discriminant_analysis.py:442: UserWarning:\n",
      "\n",
      "The priors do not sum to 1. Renormalizing\n",
      "\n",
      "[Parallel(n_jobs=1)]: Done   5 out of   5 | elapsed:    2.4s finished\n",
      "[Parallel(n_jobs=1)]: Done   5 out of   5 | elapsed:  7.1min finished\n",
      "[Parallel(n_jobs=1)]: Done   5 out of   5 | elapsed:   36.2s finished\n",
      "[Parallel(n_jobs=1)]: Done   5 out of   5 | elapsed:  1.3min finished\n",
      "[Parallel(n_jobs=1)]: Done   5 out of   5 | elapsed:    1.3s finished\n"
     ]
    },
    {
     "name": "stdout",
     "output_type": "stream",
     "text": [
      "\n"
     ]
    }
   ],
   "source": [
    "models = {\n",
    "    'lr': LogisticRegression(penalty='l1', C=0.1, class_weight=\"balanced\", random_state=147),\n",
    "    'rf': RandomForestClassifier(class_weight=\"balanced\", max_depth=6, n_estimators=500, random_state=147),\n",
    "    'lda': LinearDiscriminantAnalysis(),\n",
    "    'qda': QuadraticDiscriminantAnalysis(),\n",
    "    'knn': KNeighborsClassifier(n_neighbors=10),\n",
    "    'gb': GradientBoostingClassifier(n_estimators=100, max_depth=5)\n",
    "}\n",
    "\n",
    "for name, model in tqdm.tqdm_notebook(models.items()):\n",
    "    model_pipe = Pipeline([\n",
    "        ('std_sc', StandardScaler()),\n",
    "        ('model', model)  \n",
    "    ])\n",
    "\n",
    "    sc = cross_val_score(cv=5, estimator=model_pipe, verbose=True, \n",
    "                    scoring=make_scorer(cohen_kappa_score), \n",
    "                    X=df_data[pr_mi].values, y=df_data['support'].values)\n",
    "    scores_dict[name] = sc"
   ]
  },
  {
   "cell_type": "code",
   "execution_count": 46,
   "metadata": {
    "collapsed": false
   },
   "outputs": [
    {
     "data": {
      "text/plain": [
       "{'gb': array([ 0.88347852,  0.89112678,  0.94289058,  0.93859788,  0.93912047]),\n",
       " 'knn': array([ 0.76643722,  0.78859616,  0.92027327,  0.88735766,  0.87418669]),\n",
       " 'lda': array([ 0.8456357 ,  0.87832623,  0.90591054,  0.88495886,  0.89829437]),\n",
       " 'lr': array([ 0.86244391,  0.88665533,  0.89731079,  0.90702219,  0.92364258]),\n",
       " 'qda': array([ 0.7207052 ,  0.8720148 ,  0.86246702,  0.8842674 ,  0.87858472]),\n",
       " 'rf': array([ 0.8387219 ,  0.88736564,  0.91940685,  0.92328648,  0.9154228 ])}"
      ]
     },
     "execution_count": 46,
     "metadata": {},
     "output_type": "execute_result"
    }
   ],
   "source": [
    "scores_dict"
   ]
  },
  {
   "cell_type": "code",
   "execution_count": 47,
   "metadata": {
    "collapsed": false
   },
   "outputs": [
    {
     "name": "stdout",
     "output_type": "stream",
     "text": [
      "Mean Kappa score for rf is : 0.8968407344719085\n",
      "Mean Kappa score for lda is : 0.8826251396884983\n",
      "Mean Kappa score for gb is : 0.919042845431538\n",
      "Mean Kappa score for lr is : 0.8954149605865425\n",
      "Mean Kappa score for knn is : 0.8473701990794025\n",
      "Mean Kappa score for qda is : 0.8436078268758586\n"
     ]
    },
    {
     "data": {
      "image/png": "[encoded data removed]",
      "text/plain": [
       "<matplotlib.figure.Figure at 0x1be6a954fd0>"
      ]
     },
     "metadata": {},
     "output_type": "display_data"
    }
   ],
   "source": [
    "for name, scores in scores_dict.items():\n",
    "    plt.plot(scores, label=name)\n",
    "    print(\"Mean Kappa score for {} is : {}\".format(name, np.mean(scores)))\n",
    "plt.legend(loc=0)\n",
    "plt.title('Kappa by folds');"
   ]
  },
  {
   "cell_type": "markdown",
   "metadata": {
    "collapsed": true
   },
   "source": [
    "Загрузка из файла\n",
    "\n",
    "df_data = pd.read_csv('../output/support_half_toes_data.csv', index_col=0)\n",
    "\n",
    "id_target_cols = ['amc_path', 'frame', 'heel_strike_l', 'heel_strike_r', 'support', 'toe_off_l', 'toe_off_r']\n",
    "\n",
    "pr = list(set(df_data.columns.tolist()) - set(id_target_cols))"
   ]
  },
  {
   "cell_type": "code",
   "execution_count": 6,
   "metadata": {
    "collapsed": false
   },
   "outputs": [
    {
     "name": "stdout",
     "output_type": "stream",
     "text": [
      "TRAIN: [ 9939 12539  5481 ...,   207 14690  7938] TEST: [ 6921 17002 23234 ..., 18633  2360 23462]\n"
     ]
    }
   ],
   "source": [
    "skf = StratifiedShuffleSplit(test_size=0.3, random_state=147, n_splits=1)\n",
    "for train_index, test_index in skf.split(X=df_data[pr], y=df_data['support'].values):\n",
    "    print(\"TRAIN:\", train_index, \"TEST:\", test_index)\n",
    "    X_train, X_test = df_data.loc[train_index, pr], df_data.loc[test_index, pr]\n",
    "    y_train, y_test = df_data.loc[train_index, 'support'], df_data.loc[test_index, 'support']"
   ]
  },
  {
   "cell_type": "code",
   "execution_count": 7,
   "metadata": {
    "collapsed": true
   },
   "outputs": [],
   "source": [
    "model_pipe = Pipeline([\n",
    "    ('std_sc', StandardScaler()),\n",
    "    ('gb', GradientBoostingClassifier(n_estimators=100, max_depth=5))  \n",
    "])"
   ]
  },
  {
   "cell_type": "code",
   "execution_count": 8,
   "metadata": {
    "collapsed": false
   },
   "outputs": [
    {
     "data": {
      "text/plain": [
       "Pipeline(memory=None,\n",
       "     steps=[('std_sc', StandardScaler(copy=True, with_mean=True, with_std=True)), ('gb', GradientBoostingClassifier(criterion='friedman_mse', init=None,\n",
       "              learning_rate=0.1, loss='deviance', max_depth=5,\n",
       "              max_features=None, max_leaf_nodes=None,\n",
       "              min_impurity_decrease...      presort='auto', random_state=None, subsample=1.0, verbose=0,\n",
       "              warm_start=False))])"
      ]
     },
     "execution_count": 8,
     "metadata": {},
     "output_type": "execute_result"
    }
   ],
   "source": [
    "model_pipe.fit(X_train, y_train)"
   ]
  },
  {
   "cell_type": "code",
   "execution_count": 9,
   "metadata": {
    "collapsed": true
   },
   "outputs": [],
   "source": [
    "proba = model_pipe.predict_proba(X_test)\n",
    "\n",
    "pred = model_pipe.predict(X_test)"
   ]
  },
  {
   "cell_type": "code",
   "execution_count": 10,
   "metadata": {
    "collapsed": false
   },
   "outputs": [
    {
     "data": {
      "text/plain": [
       "0.96705374021064006"
      ]
     },
     "execution_count": 10,
     "metadata": {},
     "output_type": "execute_result"
    }
   ],
   "source": [
    "accuracy_score(y_pred=pred, y_true=y_test)"
   ]
  },
  {
   "cell_type": "code",
   "execution_count": 11,
   "metadata": {
    "collapsed": false
   },
   "outputs": [
    {
     "data": {
      "text/plain": [
       "0.94905920446995706"
      ]
     },
     "execution_count": 11,
     "metadata": {},
     "output_type": "execute_result"
    }
   ],
   "source": [
    "cohen_kappa_score(y1=y_test, y2=pred)"
   ]
  },
  {
   "cell_type": "code",
   "execution_count": 12,
   "metadata": {
    "collapsed": false
   },
   "outputs": [
    {
     "name": "stdout",
     "output_type": "stream",
     "text": [
      "             precision    recall  f1-score   support\n",
      "\n",
      "         ds       0.97      0.96      0.96      3329\n",
      "        lss       0.97      0.97      0.97      2047\n",
      "        rss       0.96      0.97      0.97      2030\n",
      "\n",
      "avg / total       0.97      0.97      0.97      7406\n",
      "\n"
     ]
    }
   ],
   "source": [
    "print(classification_report(y_pred=pred, y_true=y_test))"
   ]
  },
  {
   "cell_type": "code",
   "execution_count": 13,
   "metadata": {
    "collapsed": false
   },
   "outputs": [],
   "source": [
    "gb = model_pipe.steps[-1][1]\n",
    "\n",
    "feat_imp = pd.DataFrame([X_train.columns.tolist(), gb.feature_importances_.tolist()]).T\n",
    "feat_imp.columns = ['feat', 'imp']\n",
    "feat_imp.sort_values('imp', ascending=False, inplace=True)"
   ]
  },
  {
   "cell_type": "code",
   "execution_count": 14,
   "metadata": {
    "collapsed": false
   },
   "outputs": [
    {
     "data": {
      "image/png": "[encoded data removed]",
      "text/plain": [
       "<matplotlib.figure.Figure at 0x25347c7f710>"
      ]
     },
     "metadata": {},
     "output_type": "display_data"
    }
   ],
   "source": [
    "plt.figure(figsize=(10, 8))\n",
    "sns.barplot(data=feat_imp, y='feat', x='imp', orient='h');"
   ]
  },
  {
   "cell_type": "code",
   "execution_count": 17,
   "metadata": {
    "collapsed": false
   },
   "outputs": [
    {
     "data": {
      "text/plain": [
       "['../output/half.pkl']"
      ]
     },
     "execution_count": 17,
     "metadata": {},
     "output_type": "execute_result"
    }
   ],
   "source": [
    "joblib.dump(filename='../output/half.pkl', value=model_pipe)"
   ]
  },
  {
   "cell_type": "markdown",
   "metadata": {},
   "source": [
    "После отбора некоррелированных фичей в наборе не осталось фичей по toes"
   ]
  },
  {
   "cell_type": "code",
   "execution_count": null,
   "metadata": {
    "collapsed": true
   },
   "outputs": [],
   "source": []
  },
  {
   "cell_type": "markdown",
   "metadata": {},
   "source": [
    "Посмотрим,с какими фичами коррелируют фичи по движению toes"
   ]
  },
  {
   "cell_type": "code",
   "execution_count": 126,
   "metadata": {
    "collapsed": true
   },
   "outputs": [],
   "source": [
    "data = pd.read_csv('../output/preprocessed_data.csv', index_col=0)"
   ]
  },
  {
   "cell_type": "code",
   "execution_count": 127,
   "metadata": {
    "collapsed": false
   },
   "outputs": [],
   "source": [
    "predictors = sorted(set(data.columns.tolist()) - set(id_target_cols))"
   ]
  },
  {
   "cell_type": "code",
   "execution_count": 128,
   "metadata": {
    "collapsed": true
   },
   "outputs": [],
   "source": [
    "toes_cols = [col for col in predictors if 'toes' in col]"
   ]
  },
  {
   "cell_type": "code",
   "execution_count": 129,
   "metadata": {
    "collapsed": false
   },
   "outputs": [],
   "source": [
    "df_cor = data[predictors].corr(method=\"spearman\")"
   ]
  },
  {
   "cell_type": "code",
   "execution_count": 130,
   "metadata": {
    "collapsed": false
   },
   "outputs": [],
   "source": [
    "df_corr_unst = df_cor.unstack().reset_index()"
   ]
  },
  {
   "cell_type": "code",
   "execution_count": 131,
   "metadata": {
    "collapsed": false
   },
   "outputs": [
    {
     "data": {
      "text/html": [
       "<div>\n",
       "<style>\n",
       "    .dataframe thead tr:only-child th {\n",
       "        text-align: right;\n",
       "    }\n",
       "\n",
       "    .dataframe thead th {\n",
       "        text-align: left;\n",
       "    }\n",
       "\n",
       "    .dataframe tbody tr th {\n",
       "        vertical-align: top;\n",
       "    }\n",
       "</style>\n",
       "<table border=\"1\" class=\"dataframe\">\n",
       "  <thead>\n",
       "    <tr style=\"text-align: right;\">\n",
       "      <th></th>\n",
       "      <th>level_0</th>\n",
       "      <th>level_1</th>\n",
       "      <th>0</th>\n",
       "    </tr>\n",
       "  </thead>\n",
       "  <tbody>\n",
       "    <tr>\n",
       "      <th>20180</th>\n",
       "      <td>ltoes_norm_angle_2</td>\n",
       "      <td>rhipjoint_angle_2</td>\n",
       "      <td>-0.831446</td>\n",
       "    </tr>\n",
       "    <tr>\n",
       "      <th>20087</th>\n",
       "      <td>ltoes_norm_angle_2</td>\n",
       "      <td>lhipjoint_angle_2</td>\n",
       "      <td>-0.831446</td>\n",
       "    </tr>\n",
       "    <tr>\n",
       "      <th>20192</th>\n",
       "      <td>ltoes_norm_angle_2</td>\n",
       "      <td>root_angle_2</td>\n",
       "      <td>-0.831446</td>\n",
       "    </tr>\n",
       "    <tr>\n",
       "      <th>20195</th>\n",
       "      <td>ltoes_norm_angle_2</td>\n",
       "      <td>root_motion_5</td>\n",
       "      <td>-0.831446</td>\n",
       "    </tr>\n",
       "    <tr>\n",
       "      <th>36248</th>\n",
       "      <td>rtoes_angle_1</td>\n",
       "      <td>rtibia_norm_angle_0</td>\n",
       "      <td>-0.813815</td>\n",
       "    </tr>\n",
       "    <tr>\n",
       "      <th>36885</th>\n",
       "      <td>rtoes_norm_angle_0</td>\n",
       "      <td>rtoes_angle_1</td>\n",
       "      <td>-0.810569</td>\n",
       "    </tr>\n",
       "    <tr>\n",
       "      <th>36255</th>\n",
       "      <td>rtoes_angle_1</td>\n",
       "      <td>rtoes_norm_angle_0</td>\n",
       "      <td>-0.810569</td>\n",
       "    </tr>\n",
       "    <tr>\n",
       "      <th>37283</th>\n",
       "      <td>rtoes_norm_angle_2</td>\n",
       "      <td>root_angle_2</td>\n",
       "      <td>-0.792890</td>\n",
       "    </tr>\n",
       "    <tr>\n",
       "      <th>37178</th>\n",
       "      <td>rtoes_norm_angle_2</td>\n",
       "      <td>lhipjoint_angle_2</td>\n",
       "      <td>-0.792890</td>\n",
       "    </tr>\n",
       "    <tr>\n",
       "      <th>37271</th>\n",
       "      <td>rtoes_norm_angle_2</td>\n",
       "      <td>rhipjoint_angle_2</td>\n",
       "      <td>-0.792890</td>\n",
       "    </tr>\n",
       "    <tr>\n",
       "      <th>37286</th>\n",
       "      <td>rtoes_norm_angle_2</td>\n",
       "      <td>root_motion_5</td>\n",
       "      <td>-0.792890</td>\n",
       "    </tr>\n",
       "    <tr>\n",
       "      <th>36251</th>\n",
       "      <td>rtoes_angle_1</td>\n",
       "      <td>rtoes_angle_0</td>\n",
       "      <td>-0.789251</td>\n",
       "    </tr>\n",
       "    <tr>\n",
       "      <th>36041</th>\n",
       "      <td>rtoes_angle_0</td>\n",
       "      <td>rtoes_angle_1</td>\n",
       "      <td>-0.789251</td>\n",
       "    </tr>\n",
       "    <tr>\n",
       "      <th>36204</th>\n",
       "      <td>rtoes_angle_1</td>\n",
       "      <td>rfoot_norm_angle_0</td>\n",
       "      <td>-0.782678</td>\n",
       "    </tr>\n",
       "    <tr>\n",
       "      <th>36036</th>\n",
       "      <td>rtoes_angle_0</td>\n",
       "      <td>rtibia_angle_1</td>\n",
       "      <td>-0.733017</td>\n",
       "    </tr>\n",
       "    <tr>\n",
       "      <th>36889</th>\n",
       "      <td>rtoes_norm_angle_0</td>\n",
       "      <td>rtoes_norm_angle_1</td>\n",
       "      <td>-0.726059</td>\n",
       "    </tr>\n",
       "    <tr>\n",
       "      <th>37099</th>\n",
       "      <td>rtoes_norm_angle_1</td>\n",
       "      <td>rtoes_norm_angle_0</td>\n",
       "      <td>-0.726059</td>\n",
       "    </tr>\n",
       "    <tr>\n",
       "      <th>36202</th>\n",
       "      <td>rtoes_angle_1</td>\n",
       "      <td>rfoot_angle_0</td>\n",
       "      <td>-0.703826</td>\n",
       "    </tr>\n",
       "    <tr>\n",
       "      <th>36836</th>\n",
       "      <td>rtoes_norm_angle_0</td>\n",
       "      <td>rfoot_angle_1</td>\n",
       "      <td>-0.696757</td>\n",
       "    </tr>\n",
       "    <tr>\n",
       "      <th>35992</th>\n",
       "      <td>rtoes_angle_0</td>\n",
       "      <td>rfoot_angle_1</td>\n",
       "      <td>-0.690617</td>\n",
       "    </tr>\n",
       "    <tr>\n",
       "      <th>37095</th>\n",
       "      <td>rtoes_norm_angle_1</td>\n",
       "      <td>rtoes_angle_0</td>\n",
       "      <td>-0.681258</td>\n",
       "    </tr>\n",
       "    <tr>\n",
       "      <th>36045</th>\n",
       "      <td>rtoes_angle_0</td>\n",
       "      <td>rtoes_norm_angle_1</td>\n",
       "      <td>-0.681258</td>\n",
       "    </tr>\n",
       "    <tr>\n",
       "      <th>37092</th>\n",
       "      <td>rtoes_norm_angle_1</td>\n",
       "      <td>rtibia_norm_angle_0</td>\n",
       "      <td>-0.672629</td>\n",
       "    </tr>\n",
       "    <tr>\n",
       "      <th>36038</th>\n",
       "      <td>rtoes_angle_0</td>\n",
       "      <td>rtibia_norm_angle_1</td>\n",
       "      <td>-0.666125</td>\n",
       "    </tr>\n",
       "    <tr>\n",
       "      <th>37048</th>\n",
       "      <td>rtoes_norm_angle_1</td>\n",
       "      <td>rfoot_norm_angle_0</td>\n",
       "      <td>-0.649982</td>\n",
       "    </tr>\n",
       "    <tr>\n",
       "      <th>35943</th>\n",
       "      <td>rtoes_angle_0</td>\n",
       "      <td>lradius_motion_0</td>\n",
       "      <td>-0.640214</td>\n",
       "    </tr>\n",
       "    <tr>\n",
       "      <th>35886</th>\n",
       "      <td>rtoes_angle_0</td>\n",
       "      <td>lfemur_angle_1</td>\n",
       "      <td>-0.634215</td>\n",
       "    </tr>\n",
       "    <tr>\n",
       "      <th>19243</th>\n",
       "      <td>ltoes_angle_2</td>\n",
       "      <td>lhipjoint_angle_2</td>\n",
       "      <td>-0.633257</td>\n",
       "    </tr>\n",
       "    <tr>\n",
       "      <th>19348</th>\n",
       "      <td>ltoes_angle_2</td>\n",
       "      <td>root_angle_2</td>\n",
       "      <td>-0.633257</td>\n",
       "    </tr>\n",
       "    <tr>\n",
       "      <th>19336</th>\n",
       "      <td>ltoes_angle_2</td>\n",
       "      <td>rhipjoint_angle_2</td>\n",
       "      <td>-0.633257</td>\n",
       "    </tr>\n",
       "    <tr>\n",
       "      <th>...</th>\n",
       "      <td>...</td>\n",
       "      <td>...</td>\n",
       "      <td>...</td>\n",
       "    </tr>\n",
       "    <tr>\n",
       "      <th>20133</th>\n",
       "      <td>ltoes_norm_angle_2</td>\n",
       "      <td>ltibia_norm_angle_2</td>\n",
       "      <td>0.853769</td>\n",
       "    </tr>\n",
       "    <tr>\n",
       "      <th>20063</th>\n",
       "      <td>ltoes_norm_angle_2</td>\n",
       "      <td>lfemur_motion_2</td>\n",
       "      <td>0.861292</td>\n",
       "    </tr>\n",
       "    <tr>\n",
       "      <th>20066</th>\n",
       "      <td>ltoes_norm_angle_2</td>\n",
       "      <td>lfemur_norm_angle_2</td>\n",
       "      <td>0.861979</td>\n",
       "    </tr>\n",
       "    <tr>\n",
       "      <th>19232</th>\n",
       "      <td>ltoes_angle_2</td>\n",
       "      <td>lfoot_norm_angle_2</td>\n",
       "      <td>0.866092</td>\n",
       "    </tr>\n",
       "    <tr>\n",
       "      <th>36037</th>\n",
       "      <td>rtoes_angle_0</td>\n",
       "      <td>rtibia_norm_angle_0</td>\n",
       "      <td>0.866304</td>\n",
       "    </tr>\n",
       "    <tr>\n",
       "      <th>18865</th>\n",
       "      <td>ltoes_angle_0</td>\n",
       "      <td>ltibia_norm_angle_0</td>\n",
       "      <td>0.871567</td>\n",
       "    </tr>\n",
       "    <tr>\n",
       "      <th>36416</th>\n",
       "      <td>rtoes_angle_2</td>\n",
       "      <td>rfoot_norm_angle_2</td>\n",
       "      <td>0.872209</td>\n",
       "    </tr>\n",
       "    <tr>\n",
       "      <th>35991</th>\n",
       "      <td>rtoes_angle_0</td>\n",
       "      <td>rfoot_angle_0</td>\n",
       "      <td>0.877154</td>\n",
       "    </tr>\n",
       "    <tr>\n",
       "      <th>36881</th>\n",
       "      <td>rtoes_norm_angle_0</td>\n",
       "      <td>rtibia_norm_angle_0</td>\n",
       "      <td>0.880437</td>\n",
       "    </tr>\n",
       "    <tr>\n",
       "      <th>36468</th>\n",
       "      <td>rtoes_angle_2</td>\n",
       "      <td>rtoes_norm_angle_2</td>\n",
       "      <td>0.884383</td>\n",
       "    </tr>\n",
       "    <tr>\n",
       "      <th>37308</th>\n",
       "      <td>rtoes_norm_angle_2</td>\n",
       "      <td>rtoes_angle_2</td>\n",
       "      <td>0.884383</td>\n",
       "    </tr>\n",
       "    <tr>\n",
       "      <th>19296</th>\n",
       "      <td>ltoes_angle_2</td>\n",
       "      <td>ltoes_norm_angle_2</td>\n",
       "      <td>0.885358</td>\n",
       "    </tr>\n",
       "    <tr>\n",
       "      <th>20136</th>\n",
       "      <td>ltoes_norm_angle_2</td>\n",
       "      <td>ltoes_angle_2</td>\n",
       "      <td>0.885358</td>\n",
       "    </tr>\n",
       "    <tr>\n",
       "      <th>19651</th>\n",
       "      <td>ltoes_norm_angle_0</td>\n",
       "      <td>lfoot_angle_0</td>\n",
       "      <td>0.886953</td>\n",
       "    </tr>\n",
       "    <tr>\n",
       "      <th>19709</th>\n",
       "      <td>ltoes_norm_angle_0</td>\n",
       "      <td>ltibia_norm_angle_0</td>\n",
       "      <td>0.903477</td>\n",
       "    </tr>\n",
       "    <tr>\n",
       "      <th>35993</th>\n",
       "      <td>rtoes_angle_0</td>\n",
       "      <td>rfoot_norm_angle_0</td>\n",
       "      <td>0.905020</td>\n",
       "    </tr>\n",
       "    <tr>\n",
       "      <th>18809</th>\n",
       "      <td>ltoes_angle_0</td>\n",
       "      <td>lfoot_norm_angle_0</td>\n",
       "      <td>0.906849</td>\n",
       "    </tr>\n",
       "    <tr>\n",
       "      <th>18807</th>\n",
       "      <td>ltoes_angle_0</td>\n",
       "      <td>lfoot_angle_0</td>\n",
       "      <td>0.917712</td>\n",
       "    </tr>\n",
       "    <tr>\n",
       "      <th>36837</th>\n",
       "      <td>rtoes_norm_angle_0</td>\n",
       "      <td>rfoot_norm_angle_0</td>\n",
       "      <td>0.926173</td>\n",
       "    </tr>\n",
       "    <tr>\n",
       "      <th>37096</th>\n",
       "      <td>rtoes_norm_angle_1</td>\n",
       "      <td>rtoes_angle_1</td>\n",
       "      <td>0.931844</td>\n",
       "    </tr>\n",
       "    <tr>\n",
       "      <th>36256</th>\n",
       "      <td>rtoes_angle_1</td>\n",
       "      <td>rtoes_norm_angle_1</td>\n",
       "      <td>0.931844</td>\n",
       "    </tr>\n",
       "    <tr>\n",
       "      <th>36203</th>\n",
       "      <td>rtoes_angle_1</td>\n",
       "      <td>rfoot_angle_1</td>\n",
       "      <td>0.950527</td>\n",
       "    </tr>\n",
       "    <tr>\n",
       "      <th>19653</th>\n",
       "      <td>ltoes_norm_angle_0</td>\n",
       "      <td>lfoot_norm_angle_0</td>\n",
       "      <td>0.951139</td>\n",
       "    </tr>\n",
       "    <tr>\n",
       "      <th>19019</th>\n",
       "      <td>ltoes_angle_1</td>\n",
       "      <td>lfoot_angle_1</td>\n",
       "      <td>0.951540</td>\n",
       "    </tr>\n",
       "    <tr>\n",
       "      <th>18872</th>\n",
       "      <td>ltoes_angle_0</td>\n",
       "      <td>ltoes_norm_angle_0</td>\n",
       "      <td>0.960995</td>\n",
       "    </tr>\n",
       "    <tr>\n",
       "      <th>19712</th>\n",
       "      <td>ltoes_norm_angle_0</td>\n",
       "      <td>ltoes_angle_0</td>\n",
       "      <td>0.960995</td>\n",
       "    </tr>\n",
       "    <tr>\n",
       "      <th>36044</th>\n",
       "      <td>rtoes_angle_0</td>\n",
       "      <td>rtoes_norm_angle_0</td>\n",
       "      <td>0.965142</td>\n",
       "    </tr>\n",
       "    <tr>\n",
       "      <th>36884</th>\n",
       "      <td>rtoes_norm_angle_0</td>\n",
       "      <td>rtoes_angle_0</td>\n",
       "      <td>0.965142</td>\n",
       "    </tr>\n",
       "    <tr>\n",
       "      <th>20076</th>\n",
       "      <td>ltoes_norm_angle_2</td>\n",
       "      <td>lfoot_norm_angle_2</td>\n",
       "      <td>0.980625</td>\n",
       "    </tr>\n",
       "    <tr>\n",
       "      <th>37260</th>\n",
       "      <td>rtoes_norm_angle_2</td>\n",
       "      <td>rfoot_norm_angle_2</td>\n",
       "      <td>0.988043</td>\n",
       "    </tr>\n",
       "  </tbody>\n",
       "</table>\n",
       "<p>2940 rows × 3 columns</p>\n",
       "</div>"
      ],
      "text/plain": [
       "                  level_0              level_1         0\n",
       "20180  ltoes_norm_angle_2    rhipjoint_angle_2 -0.831446\n",
       "20087  ltoes_norm_angle_2    lhipjoint_angle_2 -0.831446\n",
       "20192  ltoes_norm_angle_2         root_angle_2 -0.831446\n",
       "20195  ltoes_norm_angle_2        root_motion_5 -0.831446\n",
       "36248       rtoes_angle_1  rtibia_norm_angle_0 -0.813815\n",
       "36885  rtoes_norm_angle_0        rtoes_angle_1 -0.810569\n",
       "36255       rtoes_angle_1   rtoes_norm_angle_0 -0.810569\n",
       "37283  rtoes_norm_angle_2         root_angle_2 -0.792890\n",
       "37178  rtoes_norm_angle_2    lhipjoint_angle_2 -0.792890\n",
       "37271  rtoes_norm_angle_2    rhipjoint_angle_2 -0.792890\n",
       "37286  rtoes_norm_angle_2        root_motion_5 -0.792890\n",
       "36251       rtoes_angle_1        rtoes_angle_0 -0.789251\n",
       "36041       rtoes_angle_0        rtoes_angle_1 -0.789251\n",
       "36204       rtoes_angle_1   rfoot_norm_angle_0 -0.782678\n",
       "36036       rtoes_angle_0       rtibia_angle_1 -0.733017\n",
       "36889  rtoes_norm_angle_0   rtoes_norm_angle_1 -0.726059\n",
       "37099  rtoes_norm_angle_1   rtoes_norm_angle_0 -0.726059\n",
       "36202       rtoes_angle_1        rfoot_angle_0 -0.703826\n",
       "36836  rtoes_norm_angle_0        rfoot_angle_1 -0.696757\n",
       "35992       rtoes_angle_0        rfoot_angle_1 -0.690617\n",
       "37095  rtoes_norm_angle_1        rtoes_angle_0 -0.681258\n",
       "36045       rtoes_angle_0   rtoes_norm_angle_1 -0.681258\n",
       "37092  rtoes_norm_angle_1  rtibia_norm_angle_0 -0.672629\n",
       "36038       rtoes_angle_0  rtibia_norm_angle_1 -0.666125\n",
       "37048  rtoes_norm_angle_1   rfoot_norm_angle_0 -0.649982\n",
       "35943       rtoes_angle_0     lradius_motion_0 -0.640214\n",
       "35886       rtoes_angle_0       lfemur_angle_1 -0.634215\n",
       "19243       ltoes_angle_2    lhipjoint_angle_2 -0.633257\n",
       "19348       ltoes_angle_2         root_angle_2 -0.633257\n",
       "19336       ltoes_angle_2    rhipjoint_angle_2 -0.633257\n",
       "...                   ...                  ...       ...\n",
       "20133  ltoes_norm_angle_2  ltibia_norm_angle_2  0.853769\n",
       "20063  ltoes_norm_angle_2      lfemur_motion_2  0.861292\n",
       "20066  ltoes_norm_angle_2  lfemur_norm_angle_2  0.861979\n",
       "19232       ltoes_angle_2   lfoot_norm_angle_2  0.866092\n",
       "36037       rtoes_angle_0  rtibia_norm_angle_0  0.866304\n",
       "18865       ltoes_angle_0  ltibia_norm_angle_0  0.871567\n",
       "36416       rtoes_angle_2   rfoot_norm_angle_2  0.872209\n",
       "35991       rtoes_angle_0        rfoot_angle_0  0.877154\n",
       "36881  rtoes_norm_angle_0  rtibia_norm_angle_0  0.880437\n",
       "36468       rtoes_angle_2   rtoes_norm_angle_2  0.884383\n",
       "37308  rtoes_norm_angle_2        rtoes_angle_2  0.884383\n",
       "19296       ltoes_angle_2   ltoes_norm_angle_2  0.885358\n",
       "20136  ltoes_norm_angle_2        ltoes_angle_2  0.885358\n",
       "19651  ltoes_norm_angle_0        lfoot_angle_0  0.886953\n",
       "19709  ltoes_norm_angle_0  ltibia_norm_angle_0  0.903477\n",
       "35993       rtoes_angle_0   rfoot_norm_angle_0  0.905020\n",
       "18809       ltoes_angle_0   lfoot_norm_angle_0  0.906849\n",
       "18807       ltoes_angle_0        lfoot_angle_0  0.917712\n",
       "36837  rtoes_norm_angle_0   rfoot_norm_angle_0  0.926173\n",
       "37096  rtoes_norm_angle_1        rtoes_angle_1  0.931844\n",
       "36256       rtoes_angle_1   rtoes_norm_angle_1  0.931844\n",
       "36203       rtoes_angle_1        rfoot_angle_1  0.950527\n",
       "19653  ltoes_norm_angle_0   lfoot_norm_angle_0  0.951139\n",
       "19019       ltoes_angle_1        lfoot_angle_1  0.951540\n",
       "18872       ltoes_angle_0   ltoes_norm_angle_0  0.960995\n",
       "19712  ltoes_norm_angle_0        ltoes_angle_0  0.960995\n",
       "36044       rtoes_angle_0   rtoes_norm_angle_0  0.965142\n",
       "36884  rtoes_norm_angle_0        rtoes_angle_0  0.965142\n",
       "20076  ltoes_norm_angle_2   lfoot_norm_angle_2  0.980625\n",
       "37260  rtoes_norm_angle_2   rfoot_norm_angle_2  0.988043\n",
       "\n",
       "[2940 rows x 3 columns]"
      ]
     },
     "execution_count": 131,
     "metadata": {},
     "output_type": "execute_result"
    }
   ],
   "source": [
    "df_toes = df_corr_unst[df_corr_unst['level_0'].isin(toes_cols)]\n",
    "df_toes = df_toes[df_toes['level_0'] != df_toes['level_1']]\n",
    "df_toes.sort_values(0)"
   ]
  },
  {
   "cell_type": "code",
   "execution_count": 138,
   "metadata": {
    "collapsed": false
   },
   "outputs": [
    {
     "data": {
      "image/png": "[encoded data removed]",
      "text/plain": [
       "<matplotlib.figure.Figure at 0x1be0045f240>"
      ]
     },
     "metadata": {},
     "output_type": "display_data"
    }
   ],
   "source": [
    "plt.figure(figsize=(20, 6))\n",
    "sns.boxplot(data=df_toes, x='level_0', y=0)\n",
    "plt.title(\"Distribution of correlations\");"
   ]
  },
  {
   "cell_type": "code",
   "execution_count": 146,
   "metadata": {
    "collapsed": false
   },
   "outputs": [],
   "source": [
    "feats_for_plot = df_toes[(df_toes[0] > 0.8) | (df_toes[0] < -0.8)]['level_0'].unique().tolist()\n",
    "\n",
    "feats_for_plot.extend(df_toes[(df_toes[0] > 0.8) | (df_toes[0] < -0.8)]['level_1'].unique().tolist())\n",
    "\n",
    "df_t_cor = df_toes[(df_toes['level_0'].isin(feats_for_plot)) | (df_toes['level_1'].isin(feats_for_plot))]"
   ]
  },
  {
   "cell_type": "code",
   "execution_count": 169,
   "metadata": {
    "collapsed": true
   },
   "outputs": [],
   "source": [
    "df_toes['abs'] = abs(df_toes[0])\n",
    "\n",
    "df_agg = df_toes[~df_toes['level_1'].isin(toes_cols)].groupby('level_0').agg({'abs': 'idxmax'})\n",
    "\n",
    "df_agg.columns = ['idxmax']"
   ]
  },
  {
   "cell_type": "code",
   "execution_count": 170,
   "metadata": {
    "collapsed": false
   },
   "outputs": [],
   "source": [
    "df_all = pd.merge(df_toes, df_agg, left_on='level_0', right_index=True).reset_index()"
   ]
  },
  {
   "cell_type": "code",
   "execution_count": 176,
   "metadata": {
    "collapsed": false
   },
   "outputs": [
    {
     "data": {
      "text/html": [
       "<div>\n",
       "<style>\n",
       "    .dataframe thead tr:only-child th {\n",
       "        text-align: right;\n",
       "    }\n",
       "\n",
       "    .dataframe thead th {\n",
       "        text-align: left;\n",
       "    }\n",
       "\n",
       "    .dataframe tbody tr th {\n",
       "        vertical-align: top;\n",
       "    }\n",
       "</style>\n",
       "<table border=\"1\" class=\"dataframe\">\n",
       "  <thead>\n",
       "    <tr style=\"text-align: right;\">\n",
       "      <th></th>\n",
       "      <th>level_0</th>\n",
       "      <th>level_1</th>\n",
       "      <th>0</th>\n",
       "    </tr>\n",
       "  </thead>\n",
       "  <tbody>\n",
       "    <tr>\n",
       "      <th>2854</th>\n",
       "      <td>rtoes_norm_angle_2</td>\n",
       "      <td>rfoot_norm_angle_2</td>\n",
       "      <td>0.988043</td>\n",
       "    </tr>\n",
       "    <tr>\n",
       "      <th>1291</th>\n",
       "      <td>ltoes_norm_angle_2</td>\n",
       "      <td>lfoot_norm_angle_2</td>\n",
       "      <td>0.980625</td>\n",
       "    </tr>\n",
       "    <tr>\n",
       "      <th>239</th>\n",
       "      <td>ltoes_angle_1</td>\n",
       "      <td>lfoot_angle_1</td>\n",
       "      <td>0.951540</td>\n",
       "    </tr>\n",
       "    <tr>\n",
       "      <th>870</th>\n",
       "      <td>ltoes_norm_angle_0</td>\n",
       "      <td>lfoot_norm_angle_0</td>\n",
       "      <td>0.951139</td>\n",
       "    </tr>\n",
       "    <tr>\n",
       "      <th>1802</th>\n",
       "      <td>rtoes_angle_1</td>\n",
       "      <td>rfoot_angle_1</td>\n",
       "      <td>0.950527</td>\n",
       "    </tr>\n",
       "    <tr>\n",
       "      <th>2433</th>\n",
       "      <td>rtoes_norm_angle_0</td>\n",
       "      <td>rfoot_norm_angle_0</td>\n",
       "      <td>0.926173</td>\n",
       "    </tr>\n",
       "    <tr>\n",
       "      <th>28</th>\n",
       "      <td>ltoes_angle_0</td>\n",
       "      <td>lfoot_angle_0</td>\n",
       "      <td>0.917712</td>\n",
       "    </tr>\n",
       "    <tr>\n",
       "      <th>1593</th>\n",
       "      <td>rtoes_angle_0</td>\n",
       "      <td>rfoot_norm_angle_0</td>\n",
       "      <td>0.905020</td>\n",
       "    </tr>\n",
       "    <tr>\n",
       "      <th>2014</th>\n",
       "      <td>rtoes_angle_2</td>\n",
       "      <td>rfoot_norm_angle_2</td>\n",
       "      <td>0.872209</td>\n",
       "    </tr>\n",
       "    <tr>\n",
       "      <th>451</th>\n",
       "      <td>ltoes_angle_2</td>\n",
       "      <td>lfoot_norm_angle_2</td>\n",
       "      <td>0.866092</td>\n",
       "    </tr>\n",
       "    <tr>\n",
       "      <th>2642</th>\n",
       "      <td>rtoes_norm_angle_1</td>\n",
       "      <td>rfoot_angle_1</td>\n",
       "      <td>0.852166</td>\n",
       "    </tr>\n",
       "    <tr>\n",
       "      <th>1079</th>\n",
       "      <td>ltoes_norm_angle_1</td>\n",
       "      <td>lfoot_angle_1</td>\n",
       "      <td>0.753722</td>\n",
       "    </tr>\n",
       "    <tr>\n",
       "      <th>2286</th>\n",
       "      <td>rtoes_motion_0</td>\n",
       "      <td>thorax_motion_0</td>\n",
       "      <td>-0.605494</td>\n",
       "    </tr>\n",
       "    <tr>\n",
       "      <th>751</th>\n",
       "      <td>ltoes_motion_0</td>\n",
       "      <td>rfoot_angle_1</td>\n",
       "      <td>-0.367097</td>\n",
       "    </tr>\n",
       "  </tbody>\n",
       "</table>\n",
       "</div>"
      ],
      "text/plain": [
       "                 level_0             level_1         0\n",
       "2854  rtoes_norm_angle_2  rfoot_norm_angle_2  0.988043\n",
       "1291  ltoes_norm_angle_2  lfoot_norm_angle_2  0.980625\n",
       "239        ltoes_angle_1       lfoot_angle_1  0.951540\n",
       "870   ltoes_norm_angle_0  lfoot_norm_angle_0  0.951139\n",
       "1802       rtoes_angle_1       rfoot_angle_1  0.950527\n",
       "2433  rtoes_norm_angle_0  rfoot_norm_angle_0  0.926173\n",
       "28         ltoes_angle_0       lfoot_angle_0  0.917712\n",
       "1593       rtoes_angle_0  rfoot_norm_angle_0  0.905020\n",
       "2014       rtoes_angle_2  rfoot_norm_angle_2  0.872209\n",
       "451        ltoes_angle_2  lfoot_norm_angle_2  0.866092\n",
       "2642  rtoes_norm_angle_1       rfoot_angle_1  0.852166\n",
       "1079  ltoes_norm_angle_1       lfoot_angle_1  0.753722\n",
       "2286      rtoes_motion_0     thorax_motion_0 -0.605494\n",
       "751       ltoes_motion_0       rfoot_angle_1 -0.367097"
      ]
     },
     "execution_count": 176,
     "metadata": {},
     "output_type": "execute_result"
    }
   ],
   "source": [
    "df_max = df_all[df_all['index'] == df_all['idxmax']].sort_values('abs', ascending=False)\n",
    "df_max[['level_0', 'level_1', 0]]"
   ]
  },
  {
   "cell_type": "code",
   "execution_count": null,
   "metadata": {
    "collapsed": true
   },
   "outputs": [],
   "source": []
  },
  {
   "cell_type": "markdown",
   "metadata": {},
   "source": [
    "## Предскажем support по данным с нижней половины тела исключая носки"
   ]
  },
  {
   "cell_type": "markdown",
   "metadata": {
    "collapsed": true
   },
   "source": [
    "Select predictors"
   ]
  },
  {
   "cell_type": "code",
   "execution_count": 48,
   "metadata": {
    "collapsed": true
   },
   "outputs": [],
   "source": [
    "id_target_cols = ['amc_path', 'frame', 'heel_strike_l', 'heel_strike_r', 'support', 'toe_off_l', 'toe_off_r']"
   ]
  },
  {
   "cell_type": "code",
   "execution_count": 49,
   "metadata": {
    "collapsed": true
   },
   "outputs": [],
   "source": [
    "lower_half_bones_minus_toes = ['root', 'femur', 'hipjoint', 'tibia', 'foot']"
   ]
  },
  {
   "cell_type": "code",
   "execution_count": 50,
   "metadata": {
    "collapsed": false
   },
   "outputs": [],
   "source": [
    "predictors = []\n",
    "for col in data.columns.tolist():\n",
    "    for bone in lower_half_bones_minus_toes:\n",
    "        if bone in col:\n",
    "            predictors.append(col)"
   ]
  },
  {
   "cell_type": "code",
   "execution_count": 51,
   "metadata": {
    "collapsed": false
   },
   "outputs": [
    {
     "data": {
      "text/plain": [
       "['lfemur_motion_0',\n",
       " 'lfemur_motion_1',\n",
       " 'lfemur_motion_2',\n",
       " 'lfoot_motion_0',\n",
       " 'lfoot_motion_1',\n",
       " 'ltibia_motion_0',\n",
       " 'rfemur_motion_0',\n",
       " 'rfemur_motion_1',\n",
       " 'rfemur_motion_2',\n",
       " 'rfoot_motion_0',\n",
       " 'rfoot_motion_1',\n",
       " 'root_motion_0',\n",
       " 'root_motion_1',\n",
       " 'root_motion_2',\n",
       " 'root_motion_3',\n",
       " 'root_motion_4',\n",
       " 'root_motion_5',\n",
       " 'rtibia_motion_0',\n",
       " 'lfemur_angle_0',\n",
       " 'lfemur_angle_1',\n",
       " 'lfemur_angle_2',\n",
       " 'lfemur_norm_angle_0',\n",
       " 'lfemur_norm_angle_1',\n",
       " 'lfemur_norm_angle_2',\n",
       " 'lfoot_angle_0',\n",
       " 'lfoot_angle_1',\n",
       " 'lfoot_angle_2',\n",
       " 'lfoot_norm_angle_0',\n",
       " 'lfoot_norm_angle_1',\n",
       " 'lfoot_norm_angle_2',\n",
       " 'lhipjoint_angle_0',\n",
       " 'lhipjoint_angle_1',\n",
       " 'lhipjoint_angle_2',\n",
       " 'lhipjoint_norm_angle_0',\n",
       " 'lhipjoint_norm_angle_1',\n",
       " 'lhipjoint_norm_angle_2',\n",
       " 'ltibia_angle_0',\n",
       " 'ltibia_angle_1',\n",
       " 'ltibia_angle_2',\n",
       " 'ltibia_norm_angle_0',\n",
       " 'ltibia_norm_angle_1',\n",
       " 'ltibia_norm_angle_2',\n",
       " 'rfemur_angle_0',\n",
       " 'rfemur_angle_1',\n",
       " 'rfemur_angle_2',\n",
       " 'rfemur_norm_angle_0',\n",
       " 'rfemur_norm_angle_1',\n",
       " 'rfemur_norm_angle_2',\n",
       " 'rfoot_angle_0',\n",
       " 'rfoot_angle_1',\n",
       " 'rfoot_angle_2',\n",
       " 'rfoot_norm_angle_0',\n",
       " 'rfoot_norm_angle_1',\n",
       " 'rfoot_norm_angle_2',\n",
       " 'rhipjoint_angle_0',\n",
       " 'rhipjoint_angle_1',\n",
       " 'rhipjoint_angle_2',\n",
       " 'rhipjoint_norm_angle_0',\n",
       " 'rhipjoint_norm_angle_1',\n",
       " 'rhipjoint_norm_angle_2',\n",
       " 'root_angle_0',\n",
       " 'root_angle_1',\n",
       " 'root_angle_2',\n",
       " 'rtibia_angle_0',\n",
       " 'rtibia_angle_1',\n",
       " 'rtibia_angle_2',\n",
       " 'rtibia_norm_angle_0',\n",
       " 'rtibia_norm_angle_1',\n",
       " 'rtibia_norm_angle_2']"
      ]
     },
     "execution_count": 51,
     "metadata": {},
     "output_type": "execute_result"
    }
   ],
   "source": [
    "predictors"
   ]
  },
  {
   "cell_type": "code",
   "execution_count": 52,
   "metadata": {
    "collapsed": false
   },
   "outputs": [
    {
     "data": {
      "text/plain": [
       "69"
      ]
     },
     "execution_count": 52,
     "metadata": {},
     "output_type": "execute_result"
    }
   ],
   "source": [
    "len(predictors)"
   ]
  },
  {
   "cell_type": "code",
   "execution_count": 53,
   "metadata": {
    "collapsed": false
   },
   "outputs": [],
   "source": [
    "all_cols = copy.deepcopy(predictors)\n",
    "all_cols.extend(id_target_cols)"
   ]
  },
  {
   "cell_type": "code",
   "execution_count": 54,
   "metadata": {
    "collapsed": true
   },
   "outputs": [],
   "source": [
    "data = data[all_cols]"
   ]
  },
  {
   "cell_type": "markdown",
   "metadata": {},
   "source": [
    "Удалим коррелирующие признаки\n",
    "\n",
    "Попробуем два критерия выбора"
   ]
  },
  {
   "cell_type": "code",
   "execution_count": 55,
   "metadata": {
    "collapsed": true
   },
   "outputs": [],
   "source": [
    "correm_mi = CorrelatedRemoval(X=data[predictors], y=data['support'], method_xy='mutual_info_classif')"
   ]
  },
  {
   "cell_type": "code",
   "execution_count": 56,
   "metadata": {
    "collapsed": false
   },
   "outputs": [
    {
     "name": "stdout",
     "output_type": "stream",
     "text": [
      "Calculate features correlation ... \n",
      "Calculate correlation with target ... \n",
      "Sequentially exclude correlated variables ... \n"
     ]
    }
   ],
   "source": [
    "correm_mi.evaluate()"
   ]
  },
  {
   "cell_type": "code",
   "execution_count": 57,
   "metadata": {
    "collapsed": true
   },
   "outputs": [],
   "source": [
    "pr_mi = list(set(predictors) - set(correm_mi.all_corr_feats))"
   ]
  },
  {
   "cell_type": "code",
   "execution_count": 58,
   "metadata": {
    "collapsed": false
   },
   "outputs": [
    {
     "data": {
      "text/plain": [
       "25"
      ]
     },
     "execution_count": 58,
     "metadata": {},
     "output_type": "execute_result"
    }
   ],
   "source": [
    "len(pr_mi)"
   ]
  },
  {
   "cell_type": "code",
   "execution_count": 59,
   "metadata": {
    "collapsed": false
   },
   "outputs": [
    {
     "name": "stderr",
     "output_type": "stream",
     "text": [
      "[Parallel(n_jobs=1)]: Done   5 out of   5 | elapsed:   37.6s finished\n"
     ]
    }
   ],
   "source": [
    "model_pipe = Pipeline([\n",
    "    ('std_sc', StandardScaler()),\n",
    "    ('model', LogisticRegression(penalty='l1', C=0.1, class_weight=\"balanced\", random_state=147))  \n",
    "])\n",
    "\n",
    "kappa_score_mi = cross_val_score(cv=5, estimator=model_pipe, verbose=True, \n",
    "                scoring=make_scorer(cohen_kappa_score), \n",
    "                X=data[pr_mi], y=data['support'])"
   ]
  },
  {
   "cell_type": "code",
   "execution_count": null,
   "metadata": {
    "collapsed": true
   },
   "outputs": [],
   "source": []
  },
  {
   "cell_type": "code",
   "execution_count": 60,
   "metadata": {
    "collapsed": true
   },
   "outputs": [],
   "source": [
    "correm_f = CorrelatedRemoval(X=data[predictors], y=data['support'], method_xy='f_classif')"
   ]
  },
  {
   "cell_type": "code",
   "execution_count": 61,
   "metadata": {
    "collapsed": false
   },
   "outputs": [
    {
     "name": "stdout",
     "output_type": "stream",
     "text": [
      "Calculate features correlation ... \n",
      "Calculate correlation with target ... \n",
      "Sequentially exclude correlated variables ... \n"
     ]
    }
   ],
   "source": [
    "correm_f.evaluate()"
   ]
  },
  {
   "cell_type": "code",
   "execution_count": 62,
   "metadata": {
    "collapsed": true
   },
   "outputs": [],
   "source": [
    "pr_f = list(set(predictors) - set(correm_f.all_corr_feats))"
   ]
  },
  {
   "cell_type": "code",
   "execution_count": 63,
   "metadata": {
    "collapsed": false
   },
   "outputs": [
    {
     "data": {
      "text/plain": [
       "24"
      ]
     },
     "execution_count": 63,
     "metadata": {},
     "output_type": "execute_result"
    }
   ],
   "source": [
    "len(pr_f)"
   ]
  },
  {
   "cell_type": "code",
   "execution_count": 64,
   "metadata": {
    "collapsed": false
   },
   "outputs": [
    {
     "name": "stderr",
     "output_type": "stream",
     "text": [
      "[Parallel(n_jobs=1)]: Done   5 out of   5 | elapsed:   30.4s finished\n"
     ]
    }
   ],
   "source": [
    "model_pipe = Pipeline([\n",
    "    ('std_sc', StandardScaler()),\n",
    "    ('model', LogisticRegression(penalty='l1', C=0.1, class_weight=\"balanced\", random_state=147))  \n",
    "])\n",
    "\n",
    "kappa_score_f = cross_val_score(cv=5, estimator=model_pipe, verbose=True, \n",
    "                scoring=make_scorer(cohen_kappa_score), \n",
    "                X=data[pr_f], y=data['support'])"
   ]
  },
  {
   "cell_type": "code",
   "execution_count": 65,
   "metadata": {
    "collapsed": false
   },
   "outputs": [
    {
     "name": "stdout",
     "output_type": "stream",
     "text": [
      "Mean Kappa for mutual_inf: 0.8920824861914246\n",
      "Std Kappa for mutual_inf: 0.01855838277260776\n",
      "Mean Kappa for f_classif: 0.8783307584497365\n",
      "Std Kappa for f_classif: 0.021686655270855223\n"
     ]
    }
   ],
   "source": [
    "print(\"Mean Kappa for mutual_inf: {}\".format(np.mean(kappa_score_mi)))\n",
    "print(\"Std Kappa for mutual_inf: {}\".format(np.std(kappa_score_mi)))\n",
    "\n",
    "print(\"Mean Kappa for f_classif: {}\".format(np.mean(kappa_score_f)))\n",
    "print(\"Std Kappa for f_classif: {}\".format(np.std(kappa_score_f)))"
   ]
  },
  {
   "cell_type": "markdown",
   "metadata": {},
   "source": [
    "Будем использовать критерий mutual information"
   ]
  },
  {
   "cell_type": "code",
   "execution_count": 66,
   "metadata": {
    "collapsed": true
   },
   "outputs": [],
   "source": [
    "final_all_cols = copy.deepcopy(id_target_cols)\n",
    "final_all_cols.extend(pr_mi)\n",
    "\n",
    "df_data = data[final_all_cols]\n",
    "\n",
    "df_data.to_csv('../output/support_half_toes_data.csv')"
   ]
  },
  {
   "cell_type": "code",
   "execution_count": 69,
   "metadata": {
    "collapsed": true
   },
   "outputs": [],
   "source": [
    "scores_dict = {}"
   ]
  },
  {
   "cell_type": "code",
   "execution_count": 70,
   "metadata": {
    "collapsed": false
   },
   "outputs": [
    {
     "name": "stderr",
     "output_type": "stream",
     "text": [
      "[Parallel(n_jobs=1)]: Done   5 out of   5 | elapsed:  4.4min finished\n",
      "C:\\Users\\Kseniya\\Anaconda2\\envs\\py34\\lib\\site-packages\\sklearn\\discriminant_analysis.py:442: UserWarning:\n",
      "\n",
      "The priors do not sum to 1. Renormalizing\n",
      "\n",
      "C:\\Users\\Kseniya\\Anaconda2\\envs\\py34\\lib\\site-packages\\sklearn\\discriminant_analysis.py:442: UserWarning:\n",
      "\n",
      "The priors do not sum to 1. Renormalizing\n",
      "\n",
      "C:\\Users\\Kseniya\\Anaconda2\\envs\\py34\\lib\\site-packages\\sklearn\\discriminant_analysis.py:442: UserWarning:\n",
      "\n",
      "The priors do not sum to 1. Renormalizing\n",
      "\n",
      "[Parallel(n_jobs=1)]: Done   5 out of   5 | elapsed:    1.8s finished\n",
      "[Parallel(n_jobs=1)]: Done   5 out of   5 | elapsed:  6.7min finished\n",
      "[Parallel(n_jobs=1)]: Done   5 out of   5 | elapsed:   37.7s finished\n",
      "[Parallel(n_jobs=1)]: Done   5 out of   5 | elapsed:  1.0min finished\n",
      "[Parallel(n_jobs=1)]: Done   5 out of   5 | elapsed:    1.2s finished\n"
     ]
    },
    {
     "name": "stdout",
     "output_type": "stream",
     "text": [
      "\n"
     ]
    }
   ],
   "source": [
    "models = {\n",
    "    'lr': LogisticRegression(penalty='l1', C=0.1, class_weight=\"balanced\", random_state=147),\n",
    "    'rf': RandomForestClassifier(class_weight=\"balanced\", max_depth=6, n_estimators=500, random_state=147),\n",
    "    'lda': LinearDiscriminantAnalysis(),\n",
    "    'qda': QuadraticDiscriminantAnalysis(),\n",
    "    'knn': KNeighborsClassifier(n_neighbors=10),\n",
    "    'gb': GradientBoostingClassifier(n_estimators=100, max_depth=5)\n",
    "}\n",
    "\n",
    "for name, model in tqdm.tqdm_notebook(models.items()):\n",
    "    model_pipe = Pipeline([\n",
    "        ('std_sc', StandardScaler()),\n",
    "        ('model', model)  \n",
    "    ])\n",
    "\n",
    "    sc = cross_val_score(cv=5, estimator=model_pipe, verbose=True, \n",
    "                    scoring=make_scorer(cohen_kappa_score), \n",
    "                    X=df_data[pr_mi].values, y=df_data['support'].values)\n",
    "    scores_dict[name] = sc"
   ]
  },
  {
   "cell_type": "code",
   "execution_count": 71,
   "metadata": {
    "collapsed": false
   },
   "outputs": [
    {
     "data": {
      "text/plain": [
       "{'gb': array([ 0.8795084 ,  0.88083238,  0.9438238 ,  0.93792378,  0.93940915]),\n",
       " 'knn': array([ 0.76505777,  0.79635424,  0.91650275,  0.89437583,  0.88196733]),\n",
       " 'lda': array([ 0.82901483,  0.88007215,  0.90133887,  0.88166129,  0.90825291]),\n",
       " 'lr': array([ 0.87014565,  0.87049137,  0.90323978,  0.90032265,  0.91621299]),\n",
       " 'qda': array([ 0.73653993,  0.87963838,  0.86426231,  0.87049963,  0.88508242]),\n",
       " 'rf': array([ 0.84326942,  0.88835289,  0.91822021,  0.91925483,  0.91757789])}"
      ]
     },
     "execution_count": 71,
     "metadata": {},
     "output_type": "execute_result"
    }
   ],
   "source": [
    "scores_dict"
   ]
  },
  {
   "cell_type": "code",
   "execution_count": 72,
   "metadata": {
    "collapsed": false
   },
   "outputs": [
    {
     "name": "stdout",
     "output_type": "stream",
     "text": [
      "Mean Kappa score for rf is : 0.897335046579593\n",
      "Mean Kappa score for lda is : 0.8800680102330654\n",
      "Mean Kappa score for gb is : 0.9162995024416878\n",
      "Mean Kappa score for lr is : 0.8920824861914246\n",
      "Mean Kappa score for knn is : 0.8508515842700245\n",
      "Mean Kappa score for qda is : 0.8472045342616159\n"
     ]
    },
    {
     "data": {
      "image/png": "[encoded data removed]",
      "text/plain": [
       "<matplotlib.figure.Figure at 0x1be6b10eb00>"
      ]
     },
     "metadata": {},
     "output_type": "display_data"
    }
   ],
   "source": [
    "for name, scores in scores_dict.items():\n",
    "    plt.plot(scores, label=name)\n",
    "    print(\"Mean Kappa score for {} is : {}\".format(name, np.mean(scores)))\n",
    "plt.legend(loc=0)\n",
    "plt.title('Kappa by folds');"
   ]
  },
  {
   "cell_type": "code",
   "execution_count": 74,
   "metadata": {
    "collapsed": false
   },
   "outputs": [
    {
     "name": "stdout",
     "output_type": "stream",
     "text": [
      "TRAIN: [ 9939 12539  5481 ...,   207 14690  7938] TEST: [ 6921 17002 23234 ..., 18633  2360 23462]\n"
     ]
    }
   ],
   "source": [
    "skf = StratifiedShuffleSplit(test_size=0.3, random_state=147, n_splits=1)\n",
    "for train_index, test_index in skf.split(X=df_data[pr_mi], y=df_data['support'].values):\n",
    "    print(\"TRAIN:\", train_index, \"TEST:\", test_index)\n",
    "    X_train, X_test = df_data.loc[train_index, pr_mi], df_data.loc[test_index, pr_mi]\n",
    "    y_train, y_test = df_data.loc[train_index, 'support'], df_data.loc[test_index, 'support']"
   ]
  },
  {
   "cell_type": "code",
   "execution_count": 75,
   "metadata": {
    "collapsed": true
   },
   "outputs": [],
   "source": [
    "model_pipe = Pipeline([\n",
    "    ('std_sc', StandardScaler()),\n",
    "    ('gb', GradientBoostingClassifier(n_estimators=100, max_depth=5))  \n",
    "])"
   ]
  },
  {
   "cell_type": "code",
   "execution_count": 76,
   "metadata": {
    "collapsed": false
   },
   "outputs": [
    {
     "data": {
      "text/plain": [
       "Pipeline(memory=None,\n",
       "     steps=[('std_sc', StandardScaler(copy=True, with_mean=True, with_std=True)), ('gb', GradientBoostingClassifier(criterion='friedman_mse', init=None,\n",
       "              learning_rate=0.1, loss='deviance', max_depth=5,\n",
       "              max_features=None, max_leaf_nodes=None,\n",
       "              min_impurity_decrease...      presort='auto', random_state=None, subsample=1.0, verbose=0,\n",
       "              warm_start=False))])"
      ]
     },
     "execution_count": 76,
     "metadata": {},
     "output_type": "execute_result"
    }
   ],
   "source": [
    "model_pipe.fit(X_train, y_train)"
   ]
  },
  {
   "cell_type": "code",
   "execution_count": 77,
   "metadata": {
    "collapsed": true
   },
   "outputs": [],
   "source": [
    "proba = model_pipe.predict_proba(X_test)\n",
    "\n",
    "pred = model_pipe.predict(X_test)"
   ]
  },
  {
   "cell_type": "code",
   "execution_count": 78,
   "metadata": {
    "collapsed": false
   },
   "outputs": [
    {
     "data": {
      "text/plain": [
       "0.9671887658655145"
      ]
     },
     "execution_count": 78,
     "metadata": {},
     "output_type": "execute_result"
    }
   ],
   "source": [
    "accuracy_score(y_pred=pred, y_true=y_test)"
   ]
  },
  {
   "cell_type": "code",
   "execution_count": 79,
   "metadata": {
    "collapsed": false
   },
   "outputs": [
    {
     "data": {
      "text/plain": [
       "0.94926614473409643"
      ]
     },
     "execution_count": 79,
     "metadata": {},
     "output_type": "execute_result"
    }
   ],
   "source": [
    "cohen_kappa_score(y1=y_test, y2=pred)"
   ]
  },
  {
   "cell_type": "code",
   "execution_count": 80,
   "metadata": {
    "collapsed": false
   },
   "outputs": [
    {
     "name": "stdout",
     "output_type": "stream",
     "text": [
      "             precision    recall  f1-score   support\n",
      "\n",
      "         ds       0.97      0.96      0.96      3329\n",
      "        lss       0.97      0.97      0.97      2047\n",
      "        rss       0.96      0.97      0.97      2030\n",
      "\n",
      "avg / total       0.97      0.97      0.97      7406\n",
      "\n"
     ]
    }
   ],
   "source": [
    "print(classification_report(y_pred=pred, y_true=y_test))"
   ]
  },
  {
   "cell_type": "code",
   "execution_count": 83,
   "metadata": {
    "collapsed": false
   },
   "outputs": [],
   "source": [
    "gb = model_pipe.steps[-1][1]\n",
    "\n",
    "feat_imp = pd.DataFrame([X_train.columns.tolist(), gb.feature_importances_.tolist()]).T\n",
    "feat_imp.columns = ['feat', 'imp']\n",
    "feat_imp.sort_values('imp', ascending=False, inplace=True)"
   ]
  },
  {
   "cell_type": "code",
   "execution_count": 107,
   "metadata": {
    "collapsed": false
   },
   "outputs": [
    {
     "data": {
      "image/png": "[encoded data removed]",
      "text/plain": [
       "<matplotlib.figure.Figure at 0x1be6abaefd0>"
      ]
     },
     "metadata": {},
     "output_type": "display_data"
    }
   ],
   "source": [
    "plt.figure(figsize=(10, 8))\n",
    "sns.barplot(data=feat_imp, y='feat', x='imp', orient='h');"
   ]
  },
  {
   "cell_type": "code",
   "execution_count": 106,
   "metadata": {
    "collapsed": false
   },
   "outputs": [
    {
     "data": {
      "text/plain": [
       "['../output/half_toes.pkl']"
      ]
     },
     "execution_count": 106,
     "metadata": {},
     "output_type": "execute_result"
    }
   ],
   "source": [
    "joblib.dump(filename='../output/half_toes.pkl', value=model_pipe)"
   ]
  },
  {
   "cell_type": "code",
   "execution_count": null,
   "metadata": {
    "collapsed": true
   },
   "outputs": [],
   "source": []
  }
 ],
 "metadata": {
  "kernelspec": {
   "display_name": "py34",
   "language": "python",
   "name": "py34"
  },
  "language_info": {
   "codemirror_mode": {
    "name": "ipython",
    "version": 3
   },
   "file_extension": ".py",
   "mimetype": "text/x-python",
   "name": "python",
   "nbconvert_exporter": "python",
   "pygments_lexer": "ipython3",
   "version": "3.5.2"
  }
 },
 "nbformat": 4,
 "nbformat_minor": 2
}
