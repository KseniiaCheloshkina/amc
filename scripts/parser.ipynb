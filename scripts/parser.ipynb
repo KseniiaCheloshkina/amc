{
 "cells": [
  {
   "cell_type": "code",
   "execution_count": 1,
   "metadata": {
    "collapsed": true
   },
   "outputs": [],
   "source": [
    "import numpy as np\n",
    "import matplotlib.pyplot as plt\n",
    "import os\n",
    "import sys\n",
    "import pandas as pd"
   ]
  },
  {
   "cell_type": "code",
   "execution_count": 2,
   "metadata": {
    "collapsed": false
   },
   "outputs": [],
   "source": [
    "# lv0 = '../data'\n",
    "# lv1s = os.listdir(lv0)\n",
    "# for lv1 in lv1s:\n",
    "#     lv2s = os.listdir('/'.join([lv0, lv1]))\n",
    "#     asf_path = '%s/%s/%s.asf' % (lv0, lv1, lv1)\n",
    "#     print('parsing %s' % asf_path)\n",
    "#     motions = parse_amc('./nopose.amc')"
   ]
  },
  {
   "cell_type": "code",
   "execution_count": 3,
   "metadata": {
    "collapsed": true
   },
   "outputs": [],
   "source": [
    "def read_frame(frame, frames_dict):\n",
    "    # parse joints\n",
    "    for joint in frame:\n",
    "        joint_info = joint.strip().split()\n",
    "        joint_name = joint_info[0]\n",
    "        joint_info.remove(joint_name)\n",
    "        \n",
    "        for i in range(len(joint_info)):\n",
    "            coord = joint_info[i]\n",
    "            frames_dict[joint_name + '_' + str(i)] = float(coord)\n",
    "            \n",
    "    return frames_dict"
   ]
  },
  {
   "cell_type": "code",
   "execution_count": 4,
   "metadata": {
    "collapsed": false
   },
   "outputs": [],
   "source": [
    "def parse_amc(filepath):\n",
    "    with open(filepath) as f:\n",
    "        content = f.read().splitlines()\n",
    "\n",
    "    for idx, line in enumerate(content):\n",
    "        if line == ':DEGREES':\n",
    "            content = content[idx+1:]\n",
    "            break\n",
    "            \n",
    "    # get idx of frames beginning\n",
    "    frame_beginning = []\n",
    "    for idx, line in enumerate(content):\n",
    "        splitted_line = line.strip().split()\n",
    "        if len(splitted_line) == 1:\n",
    "            frame_beginning.append(idx)\n",
    "    # parse frames\n",
    "    all_frames = []\n",
    "    for i in range(len(frame_beginning)-1):\n",
    "        frame = content[frame_beginning[i]:frame_beginning[i+1]]\n",
    "        frames_dict = {}\n",
    "        frames_dict['frame_number'] = frame[0]\n",
    "        # parse joints\n",
    "        frames_dict = read_frame(frame[1:], frames_dict)\n",
    "        all_frames.append(frames_dict)\n",
    "\n",
    "    all_data = pd.DataFrame(all_frames)            \n",
    "        \n",
    "    return all_data"
   ]
  },
  {
   "cell_type": "code",
   "execution_count": 5,
   "metadata": {
    "collapsed": false
   },
   "outputs": [],
   "source": [
    "content = parse_amc('../data/05_01.amc')"
   ]
  },
  {
   "cell_type": "code",
   "execution_count": 6,
   "metadata": {
    "collapsed": false
   },
   "outputs": [
    {
     "data": {
      "text/html": [
       "<div>\n",
       "<style>\n",
       "    .dataframe thead tr:only-child th {\n",
       "        text-align: right;\n",
       "    }\n",
       "\n",
       "    .dataframe thead th {\n",
       "        text-align: left;\n",
       "    }\n",
       "\n",
       "    .dataframe tbody tr th {\n",
       "        vertical-align: top;\n",
       "    }\n",
       "</style>\n",
       "<table border=\"1\" class=\"dataframe\">\n",
       "  <thead>\n",
       "    <tr style=\"text-align: right;\">\n",
       "      <th></th>\n",
       "      <th>frame_number</th>\n",
       "      <th>head_0</th>\n",
       "      <th>head_1</th>\n",
       "      <th>head_2</th>\n",
       "      <th>lclavicle_0</th>\n",
       "      <th>lclavicle_1</th>\n",
       "      <th>lfemur_0</th>\n",
       "      <th>lfemur_1</th>\n",
       "      <th>lfemur_2</th>\n",
       "      <th>lfingers_0</th>\n",
       "      <th>...</th>\n",
       "      <th>rwrist_0</th>\n",
       "      <th>thorax_0</th>\n",
       "      <th>thorax_1</th>\n",
       "      <th>thorax_2</th>\n",
       "      <th>upperback_0</th>\n",
       "      <th>upperback_1</th>\n",
       "      <th>upperback_2</th>\n",
       "      <th>upperneck_0</th>\n",
       "      <th>upperneck_1</th>\n",
       "      <th>upperneck_2</th>\n",
       "    </tr>\n",
       "  </thead>\n",
       "  <tbody>\n",
       "    <tr>\n",
       "      <th>0</th>\n",
       "      <td>1</td>\n",
       "      <td>17.0477</td>\n",
       "      <td>-2.38560</td>\n",
       "      <td>1.88663</td>\n",
       "      <td>5.864150e-15</td>\n",
       "      <td>-2.067360e-14</td>\n",
       "      <td>-23.3432</td>\n",
       "      <td>-9.63608</td>\n",
       "      <td>-22.4650</td>\n",
       "      <td>7.12502</td>\n",
       "      <td>...</td>\n",
       "      <td>-19.8069</td>\n",
       "      <td>-0.989394</td>\n",
       "      <td>0.716381</td>\n",
       "      <td>-0.825246</td>\n",
       "      <td>-3.23848</td>\n",
       "      <td>1.409830</td>\n",
       "      <td>-1.715420</td>\n",
       "      <td>39.1252</td>\n",
       "      <td>-7.25169</td>\n",
       "      <td>6.39940</td>\n",
       "    </tr>\n",
       "    <tr>\n",
       "      <th>1</th>\n",
       "      <td>2</td>\n",
       "      <td>17.0567</td>\n",
       "      <td>-2.22129</td>\n",
       "      <td>1.86326</td>\n",
       "      <td>-2.246270e-14</td>\n",
       "      <td>2.544440e-14</td>\n",
       "      <td>-23.1047</td>\n",
       "      <td>-9.69850</td>\n",
       "      <td>-22.3475</td>\n",
       "      <td>7.12502</td>\n",
       "      <td>...</td>\n",
       "      <td>-19.0237</td>\n",
       "      <td>-0.594445</td>\n",
       "      <td>0.655129</td>\n",
       "      <td>-0.391631</td>\n",
       "      <td>-2.96777</td>\n",
       "      <td>1.285850</td>\n",
       "      <td>-1.278480</td>\n",
       "      <td>38.9078</td>\n",
       "      <td>-6.65582</td>\n",
       "      <td>6.03187</td>\n",
       "    </tr>\n",
       "    <tr>\n",
       "      <th>2</th>\n",
       "      <td>3</td>\n",
       "      <td>16.6771</td>\n",
       "      <td>-2.27540</td>\n",
       "      <td>1.85255</td>\n",
       "      <td>-1.316950e-14</td>\n",
       "      <td>-8.746530e-15</td>\n",
       "      <td>-22.1021</td>\n",
       "      <td>-10.00100</td>\n",
       "      <td>-22.3221</td>\n",
       "      <td>7.12502</td>\n",
       "      <td>...</td>\n",
       "      <td>-17.8653</td>\n",
       "      <td>-1.153680</td>\n",
       "      <td>0.699708</td>\n",
       "      <td>-0.708396</td>\n",
       "      <td>-3.16232</td>\n",
       "      <td>1.384640</td>\n",
       "      <td>-1.337120</td>\n",
       "      <td>38.5872</td>\n",
       "      <td>-6.75999</td>\n",
       "      <td>6.06970</td>\n",
       "    </tr>\n",
       "    <tr>\n",
       "      <th>3</th>\n",
       "      <td>4</td>\n",
       "      <td>16.8024</td>\n",
       "      <td>-2.13273</td>\n",
       "      <td>1.79075</td>\n",
       "      <td>5.466580e-16</td>\n",
       "      <td>1.828820e-14</td>\n",
       "      <td>-22.0129</td>\n",
       "      <td>-10.05590</td>\n",
       "      <td>-22.0734</td>\n",
       "      <td>7.12502</td>\n",
       "      <td>...</td>\n",
       "      <td>-16.7759</td>\n",
       "      <td>-0.288579</td>\n",
       "      <td>0.256131</td>\n",
       "      <td>-0.043233</td>\n",
       "      <td>-2.38539</td>\n",
       "      <td>0.492195</td>\n",
       "      <td>-0.841297</td>\n",
       "      <td>38.1986</td>\n",
       "      <td>-6.36379</td>\n",
       "      <td>5.80650</td>\n",
       "    </tr>\n",
       "    <tr>\n",
       "      <th>4</th>\n",
       "      <td>5</td>\n",
       "      <td>16.1301</td>\n",
       "      <td>-2.22479</td>\n",
       "      <td>1.84503</td>\n",
       "      <td>2.236330e-14</td>\n",
       "      <td>-1.073440e-14</td>\n",
       "      <td>-20.9293</td>\n",
       "      <td>-10.45660</td>\n",
       "      <td>-22.1086</td>\n",
       "      <td>7.12502</td>\n",
       "      <td>...</td>\n",
       "      <td>-15.7624</td>\n",
       "      <td>-0.556513</td>\n",
       "      <td>0.540161</td>\n",
       "      <td>-0.353442</td>\n",
       "      <td>-2.61813</td>\n",
       "      <td>1.068580</td>\n",
       "      <td>-0.881592</td>\n",
       "      <td>37.6700</td>\n",
       "      <td>-6.49567</td>\n",
       "      <td>5.94183</td>\n",
       "    </tr>\n",
       "  </tbody>\n",
       "</table>\n",
       "<p>5 rows × 63 columns</p>\n",
       "</div>"
      ],
      "text/plain": [
       "  frame_number   head_0   head_1   head_2   lclavicle_0   lclavicle_1  \\\n",
       "0            1  17.0477 -2.38560  1.88663  5.864150e-15 -2.067360e-14   \n",
       "1            2  17.0567 -2.22129  1.86326 -2.246270e-14  2.544440e-14   \n",
       "2            3  16.6771 -2.27540  1.85255 -1.316950e-14 -8.746530e-15   \n",
       "3            4  16.8024 -2.13273  1.79075  5.466580e-16  1.828820e-14   \n",
       "4            5  16.1301 -2.22479  1.84503  2.236330e-14 -1.073440e-14   \n",
       "\n",
       "   lfemur_0  lfemur_1  lfemur_2  lfingers_0     ...       rwrist_0  thorax_0  \\\n",
       "0  -23.3432  -9.63608  -22.4650     7.12502     ...       -19.8069 -0.989394   \n",
       "1  -23.1047  -9.69850  -22.3475     7.12502     ...       -19.0237 -0.594445   \n",
       "2  -22.1021 -10.00100  -22.3221     7.12502     ...       -17.8653 -1.153680   \n",
       "3  -22.0129 -10.05590  -22.0734     7.12502     ...       -16.7759 -0.288579   \n",
       "4  -20.9293 -10.45660  -22.1086     7.12502     ...       -15.7624 -0.556513   \n",
       "\n",
       "   thorax_1  thorax_2  upperback_0  upperback_1  upperback_2  upperneck_0  \\\n",
       "0  0.716381 -0.825246     -3.23848     1.409830    -1.715420      39.1252   \n",
       "1  0.655129 -0.391631     -2.96777     1.285850    -1.278480      38.9078   \n",
       "2  0.699708 -0.708396     -3.16232     1.384640    -1.337120      38.5872   \n",
       "3  0.256131 -0.043233     -2.38539     0.492195    -0.841297      38.1986   \n",
       "4  0.540161 -0.353442     -2.61813     1.068580    -0.881592      37.6700   \n",
       "\n",
       "   upperneck_1  upperneck_2  \n",
       "0     -7.25169      6.39940  \n",
       "1     -6.65582      6.03187  \n",
       "2     -6.75999      6.06970  \n",
       "3     -6.36379      5.80650  \n",
       "4     -6.49567      5.94183  \n",
       "\n",
       "[5 rows x 63 columns]"
      ]
     },
     "execution_count": 6,
     "metadata": {},
     "output_type": "execute_result"
    }
   ],
   "source": [
    "content.head()"
   ]
  },
  {
   "cell_type": "code",
   "execution_count": 8,
   "metadata": {
    "collapsed": false
   },
   "outputs": [
    {
     "data": {
      "text/plain": [
       "(597, 63)"
      ]
     },
     "execution_count": 8,
     "metadata": {},
     "output_type": "execute_result"
    }
   ],
   "source": [
    "content.shape"
   ]
  },
  {
   "cell_type": "code",
   "execution_count": null,
   "metadata": {
    "collapsed": true
   },
   "outputs": [],
   "source": []
  }
 ],
 "metadata": {
  "kernelspec": {
   "display_name": "py34",
   "language": "python",
   "name": "py34"
  },
  "language_info": {
   "codemirror_mode": {
    "name": "ipython",
    "version": 3
   },
   "file_extension": ".py",
   "mimetype": "text/x-python",
   "name": "python",
   "nbconvert_exporter": "python",
   "pygments_lexer": "ipython3",
   "version": "3.5.2"
  }
 },
 "nbformat": 4,
 "nbformat_minor": 2
}
