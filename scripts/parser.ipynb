{
 "cells": [
  {
   "cell_type": "code",
   "execution_count": 1,
   "metadata": {},
   "outputs": [],
   "source": [
    "import numpy as np\n",
    "import matplotlib.pyplot as plt\n",
    "import os\n",
    "import sys\n",
    "import pandas as pd\n",
    "import copy"
   ]
  },
  {
   "cell_type": "code",
   "execution_count": 2,
   "metadata": {},
   "outputs": [],
   "source": [
    "import plotly.plotly as py\n",
    "import plotly.graph_objs as go"
   ]
  },
  {
   "cell_type": "markdown",
   "metadata": {},
   "source": [
    "## Парсинг amc"
   ]
  },
  {
   "cell_type": "code",
   "execution_count": 3,
   "metadata": {},
   "outputs": [],
   "source": [
    "def read_frame(frame, frames_dict):\n",
    "    # parse joints\n",
    "    for joint in frame:\n",
    "        joint_info = joint.strip().split()\n",
    "        joint_name = joint_info[0]\n",
    "        joint_info.remove(joint_name)\n",
    "        \n",
    "        for i in range(len(joint_info)):\n",
    "            coord = joint_info[i]\n",
    "            frames_dict[joint_name + '_' + str(i)] = float(coord)\n",
    "            \n",
    "    return frames_dict"
   ]
  },
  {
   "cell_type": "code",
   "execution_count": 4,
   "metadata": {},
   "outputs": [],
   "source": [
    "def parse_amc(filepath):\n",
    "    with open(filepath) as f:\n",
    "        content = f.read().splitlines()\n",
    "\n",
    "    for idx, line in enumerate(content):\n",
    "        if line == ':DEGREES':\n",
    "            content = content[idx+1:]\n",
    "            break\n",
    "            \n",
    "    # get idx of frames beginning\n",
    "    frame_beginning = []\n",
    "    for idx, line in enumerate(content):\n",
    "        splitted_line = line.strip().split()\n",
    "        if len(splitted_line) == 1:\n",
    "            frame_beginning.append(idx)\n",
    "    # parse frames\n",
    "    all_frames = []\n",
    "    for i in range(len(frame_beginning)-1):\n",
    "        frame = content[frame_beginning[i]:frame_beginning[i+1]]\n",
    "        frames_dict = {}\n",
    "        frames_dict['frame_number'] = frame[0]\n",
    "        # parse joints\n",
    "        frames_dict = read_frame(frame[1:], frames_dict)\n",
    "        all_frames.append(frames_dict)\n",
    "\n",
    "    all_data = pd.DataFrame(all_frames)            \n",
    "        \n",
    "    return all_data"
   ]
  },
  {
   "cell_type": "code",
   "execution_count": 5,
   "metadata": {},
   "outputs": [],
   "source": [
    "content = parse_amc('../data/02_01.amc')"
   ]
  },
  {
   "cell_type": "code",
   "execution_count": 6,
   "metadata": {},
   "outputs": [
    {
     "data": {
      "text/html": [
       "<div>\n",
       "<style scoped>\n",
       "    .dataframe tbody tr th:only-of-type {\n",
       "        vertical-align: middle;\n",
       "    }\n",
       "\n",
       "    .dataframe tbody tr th {\n",
       "        vertical-align: top;\n",
       "    }\n",
       "\n",
       "    .dataframe thead th {\n",
       "        text-align: right;\n",
       "    }\n",
       "</style>\n",
       "<table border=\"1\" class=\"dataframe\">\n",
       "  <thead>\n",
       "    <tr style=\"text-align: right;\">\n",
       "      <th></th>\n",
       "      <th>frame_number</th>\n",
       "      <th>head_0</th>\n",
       "      <th>head_1</th>\n",
       "      <th>head_2</th>\n",
       "      <th>lclavicle_0</th>\n",
       "      <th>lclavicle_1</th>\n",
       "      <th>lfemur_0</th>\n",
       "      <th>lfemur_1</th>\n",
       "      <th>lfemur_2</th>\n",
       "      <th>lfingers_0</th>\n",
       "      <th>...</th>\n",
       "      <th>rwrist_0</th>\n",
       "      <th>thorax_0</th>\n",
       "      <th>thorax_1</th>\n",
       "      <th>thorax_2</th>\n",
       "      <th>upperback_0</th>\n",
       "      <th>upperback_1</th>\n",
       "      <th>upperback_2</th>\n",
       "      <th>upperneck_0</th>\n",
       "      <th>upperneck_1</th>\n",
       "      <th>upperneck_2</th>\n",
       "    </tr>\n",
       "  </thead>\n",
       "  <tbody>\n",
       "    <tr>\n",
       "      <th>0</th>\n",
       "      <td>1</td>\n",
       "      <td>2.97226</td>\n",
       "      <td>2.54741</td>\n",
       "      <td>-1.92752</td>\n",
       "      <td>-1.620100e-14</td>\n",
       "      <td>-1.431250e-14</td>\n",
       "      <td>-28.0191</td>\n",
       "      <td>-1.020780</td>\n",
       "      <td>-20.1783</td>\n",
       "      <td>7.12502</td>\n",
       "      <td>...</td>\n",
       "      <td>-16.7798</td>\n",
       "      <td>-0.599593</td>\n",
       "      <td>1.31944</td>\n",
       "      <td>-2.05527</td>\n",
       "      <td>3.47255</td>\n",
       "      <td>2.55226</td>\n",
       "      <td>1.65684</td>\n",
       "      <td>1.617840</td>\n",
       "      <td>5.61246</td>\n",
       "      <td>-6.40733</td>\n",
       "    </tr>\n",
       "    <tr>\n",
       "      <th>1</th>\n",
       "      <td>2</td>\n",
       "      <td>3.01316</td>\n",
       "      <td>2.59206</td>\n",
       "      <td>-1.92353</td>\n",
       "      <td>-3.061280e-14</td>\n",
       "      <td>-7.951390e-16</td>\n",
       "      <td>-27.7269</td>\n",
       "      <td>-0.953135</td>\n",
       "      <td>-20.5822</td>\n",
       "      <td>7.12502</td>\n",
       "      <td>...</td>\n",
       "      <td>-16.5037</td>\n",
       "      <td>0.078456</td>\n",
       "      <td>1.35992</td>\n",
       "      <td>-1.86912</td>\n",
       "      <td>3.91254</td>\n",
       "      <td>2.58553</td>\n",
       "      <td>1.67171</td>\n",
       "      <td>1.419540</td>\n",
       "      <td>5.71695</td>\n",
       "      <td>-6.43796</td>\n",
       "    </tr>\n",
       "    <tr>\n",
       "      <th>2</th>\n",
       "      <td>3</td>\n",
       "      <td>2.90215</td>\n",
       "      <td>2.58200</td>\n",
       "      <td>-1.86960</td>\n",
       "      <td>3.975690e-15</td>\n",
       "      <td>-1.033680e-14</td>\n",
       "      <td>-27.6281</td>\n",
       "      <td>-0.810148</td>\n",
       "      <td>-21.0041</td>\n",
       "      <td>7.12502</td>\n",
       "      <td>...</td>\n",
       "      <td>-16.2262</td>\n",
       "      <td>0.211031</td>\n",
       "      <td>1.41449</td>\n",
       "      <td>-1.83734</td>\n",
       "      <td>3.96845</td>\n",
       "      <td>2.68906</td>\n",
       "      <td>1.61541</td>\n",
       "      <td>1.081860</td>\n",
       "      <td>5.66983</td>\n",
       "      <td>-6.25219</td>\n",
       "    </tr>\n",
       "    <tr>\n",
       "      <th>3</th>\n",
       "      <td>4</td>\n",
       "      <td>2.73437</td>\n",
       "      <td>2.55894</td>\n",
       "      <td>-1.86943</td>\n",
       "      <td>1.376580e-14</td>\n",
       "      <td>0.000000e+00</td>\n",
       "      <td>-27.6637</td>\n",
       "      <td>-0.391122</td>\n",
       "      <td>-21.6105</td>\n",
       "      <td>7.12502</td>\n",
       "      <td>...</td>\n",
       "      <td>-16.0827</td>\n",
       "      <td>0.127573</td>\n",
       "      <td>1.45150</td>\n",
       "      <td>-1.90802</td>\n",
       "      <td>3.81888</td>\n",
       "      <td>2.77415</td>\n",
       "      <td>1.44970</td>\n",
       "      <td>0.706102</td>\n",
       "      <td>5.58519</td>\n",
       "      <td>-6.09066</td>\n",
       "    </tr>\n",
       "    <tr>\n",
       "      <th>4</th>\n",
       "      <td>5</td>\n",
       "      <td>2.59153</td>\n",
       "      <td>2.57436</td>\n",
       "      <td>-1.87971</td>\n",
       "      <td>-2.042510e-14</td>\n",
       "      <td>-7.156250e-15</td>\n",
       "      <td>-27.6786</td>\n",
       "      <td>-0.161279</td>\n",
       "      <td>-21.8039</td>\n",
       "      <td>7.12502</td>\n",
       "      <td>...</td>\n",
       "      <td>-16.0025</td>\n",
       "      <td>0.158931</td>\n",
       "      <td>1.46518</td>\n",
       "      <td>-1.93228</td>\n",
       "      <td>3.70601</td>\n",
       "      <td>2.80336</td>\n",
       "      <td>1.40701</td>\n",
       "      <td>0.388960</td>\n",
       "      <td>5.58739</td>\n",
       "      <td>-5.98980</td>\n",
       "    </tr>\n",
       "  </tbody>\n",
       "</table>\n",
       "<p>5 rows × 63 columns</p>\n",
       "</div>"
      ],
      "text/plain": [
       "  frame_number   head_0   head_1   head_2   lclavicle_0   lclavicle_1  \\\n",
       "0            1  2.97226  2.54741 -1.92752 -1.620100e-14 -1.431250e-14   \n",
       "1            2  3.01316  2.59206 -1.92353 -3.061280e-14 -7.951390e-16   \n",
       "2            3  2.90215  2.58200 -1.86960  3.975690e-15 -1.033680e-14   \n",
       "3            4  2.73437  2.55894 -1.86943  1.376580e-14  0.000000e+00   \n",
       "4            5  2.59153  2.57436 -1.87971 -2.042510e-14 -7.156250e-15   \n",
       "\n",
       "   lfemur_0  lfemur_1  lfemur_2  lfingers_0     ...       rwrist_0  thorax_0  \\\n",
       "0  -28.0191 -1.020780  -20.1783     7.12502     ...       -16.7798 -0.599593   \n",
       "1  -27.7269 -0.953135  -20.5822     7.12502     ...       -16.5037  0.078456   \n",
       "2  -27.6281 -0.810148  -21.0041     7.12502     ...       -16.2262  0.211031   \n",
       "3  -27.6637 -0.391122  -21.6105     7.12502     ...       -16.0827  0.127573   \n",
       "4  -27.6786 -0.161279  -21.8039     7.12502     ...       -16.0025  0.158931   \n",
       "\n",
       "   thorax_1  thorax_2  upperback_0  upperback_1  upperback_2  upperneck_0  \\\n",
       "0   1.31944  -2.05527      3.47255      2.55226      1.65684     1.617840   \n",
       "1   1.35992  -1.86912      3.91254      2.58553      1.67171     1.419540   \n",
       "2   1.41449  -1.83734      3.96845      2.68906      1.61541     1.081860   \n",
       "3   1.45150  -1.90802      3.81888      2.77415      1.44970     0.706102   \n",
       "4   1.46518  -1.93228      3.70601      2.80336      1.40701     0.388960   \n",
       "\n",
       "   upperneck_1  upperneck_2  \n",
       "0      5.61246     -6.40733  \n",
       "1      5.71695     -6.43796  \n",
       "2      5.66983     -6.25219  \n",
       "3      5.58519     -6.09066  \n",
       "4      5.58739     -5.98980  \n",
       "\n",
       "[5 rows x 63 columns]"
      ]
     },
     "execution_count": 6,
     "metadata": {},
     "output_type": "execute_result"
    }
   ],
   "source": [
    "content.head()"
   ]
  },
  {
   "cell_type": "code",
   "execution_count": 8,
   "metadata": {},
   "outputs": [
    {
     "data": {
      "text/plain": [
       "(342, 63)"
      ]
     },
     "execution_count": 8,
     "metadata": {},
     "output_type": "execute_result"
    }
   ],
   "source": [
    "content.shape"
   ]
  },
  {
   "cell_type": "markdown",
   "metadata": {},
   "source": [
    "Хотим получить словарь из данного датафрейма для удобной работы"
   ]
  },
  {
   "cell_type": "code",
   "execution_count": 9,
   "metadata": {},
   "outputs": [],
   "source": [
    "cols = content.columns.tolist()\n",
    "cols.remove('frame_number')\n",
    "\n",
    "bone_type = [col.split(\"_\")[0] for col in cols]\n",
    "bone_type_set = set(bone_type)\n",
    "\n",
    "bone_orient = {}\n",
    "for bone in bone_type_set:\n",
    "    bone_col_names = [col for col in cols if bone in col]\n",
    "    bone_orient[bone] = bone_col_names"
   ]
  },
  {
   "cell_type": "code",
   "execution_count": 10,
   "metadata": {
    "scrolled": true
   },
   "outputs": [
    {
     "data": {
      "text/plain": [
       "{'lwrist': ['lwrist_0'],\n",
       " 'rtoes': ['rtoes_0'],\n",
       " 'rhumerus': ['rhumerus_0', 'rhumerus_1', 'rhumerus_2'],\n",
       " 'rfemur': ['rfemur_0', 'rfemur_1', 'rfemur_2'],\n",
       " 'head': ['head_0', 'head_1', 'head_2'],\n",
       " 'lfingers': ['lfingers_0'],\n",
       " 'lhand': ['lhand_0', 'lhand_1'],\n",
       " 'rradius': ['rradius_0'],\n",
       " 'rfingers': ['rfingers_0'],\n",
       " 'lfoot': ['lfoot_0', 'lfoot_1'],\n",
       " 'lclavicle': ['lclavicle_0', 'lclavicle_1'],\n",
       " 'lradius': ['lradius_0'],\n",
       " 'lowerback': ['lowerback_0', 'lowerback_1', 'lowerback_2'],\n",
       " 'rwrist': ['rwrist_0'],\n",
       " 'ltoes': ['ltoes_0'],\n",
       " 'thorax': ['thorax_0', 'thorax_1', 'thorax_2'],\n",
       " 'lhumerus': ['lhumerus_0', 'lhumerus_1', 'lhumerus_2'],\n",
       " 'lthumb': ['lthumb_0', 'lthumb_1'],\n",
       " 'rclavicle': ['rclavicle_0', 'rclavicle_1'],\n",
       " 'root': ['root_0', 'root_1', 'root_2', 'root_3', 'root_4', 'root_5'],\n",
       " 'lowerneck': ['lowerneck_0', 'lowerneck_1', 'lowerneck_2'],\n",
       " 'rthumb': ['rthumb_0', 'rthumb_1'],\n",
       " 'ltibia': ['ltibia_0'],\n",
       " 'rtibia': ['rtibia_0'],\n",
       " 'upperback': ['upperback_0', 'upperback_1', 'upperback_2'],\n",
       " 'upperneck': ['upperneck_0', 'upperneck_1', 'upperneck_2'],\n",
       " 'rhand': ['rhand_0', 'rhand_1'],\n",
       " 'lfemur': ['lfemur_0', 'lfemur_1', 'lfemur_2'],\n",
       " 'rfoot': ['rfoot_0', 'rfoot_1']}"
      ]
     },
     "execution_count": 10,
     "metadata": {},
     "output_type": "execute_result"
    }
   ],
   "source": [
    "bone_orient"
   ]
  },
  {
   "cell_type": "code",
   "execution_count": 11,
   "metadata": {},
   "outputs": [],
   "source": [
    "full_amc = {}\n",
    "for i in range(content.shape[0]):\n",
    "    fn = content.loc[i].frame_number\n",
    "    amc_data = {}\n",
    "    amc_frame = content[content['frame_number'] == fn]\n",
    "    \n",
    "    for bone, cols in bone_orient.items():\n",
    "        amc_data[bone] = amc_frame[cols].values[0]\n",
    "    full_amc[int(fn)] = amc_data"
   ]
  },
  {
   "cell_type": "code",
   "execution_count": 12,
   "metadata": {},
   "outputs": [
    {
     "data": {
      "text/plain": [
       "array([ 10.4194 ,  16.7048 , -30.1003 ,  -2.48972,  -9.82194,  -3.00914])"
      ]
     },
     "execution_count": 12,
     "metadata": {},
     "output_type": "execute_result"
    }
   ],
   "source": [
    "full_amc[1]['root']"
   ]
  },
  {
   "cell_type": "markdown",
   "metadata": {
    "collapsed": true
   },
   "source": [
    "## Парсинг asf\n",
    "\n",
    "Считываем данные: иерархию и параметры сегментов"
   ]
  },
  {
   "cell_type": "code",
   "execution_count": 13,
   "metadata": {
    "scrolled": true
   },
   "outputs": [],
   "source": [
    "def is_float(s):\n",
    "    try:\n",
    "        float(s)\n",
    "        return float(s)\n",
    "    \n",
    "    except ValueError:\n",
    "        return False\n",
    "    \n",
    "def is_number(s):\n",
    "    \n",
    "    if s.isdigit() == False:\n",
    "        float_s = is_float(s)\n",
    "        if float_s == False:\n",
    "            val = False\n",
    "        else:\n",
    "            val = float_s\n",
    "    else:\n",
    "        val = int(s)\n",
    "    return val\n",
    "\n",
    "def read_bone_params(bone_data):\n",
    "    \n",
    "    clear_bone_data = [line for line in bone_data if ('end' in line)|('id' in line)|('begin' in line) == False] \n",
    "    \n",
    "    # merge in one line all \"limits\"\n",
    "    for id, param in enumerate(clear_bone_data):\n",
    "        if param.strip().split()[0] == 'limits':\n",
    "            clear_bone_data_new = clear_bone_data[:id]\n",
    "            new_limits = \"\".join(clear_bone_data[id:])\n",
    "            clear_bone_data_new.append(new_limits)\n",
    "            break\n",
    "        else:\n",
    "            clear_bone_data_new = clear_bone_data  \n",
    "    \n",
    "    params_dict = {}\n",
    "    for line in clear_bone_data_new:\n",
    "        str_data = line.strip().split()\n",
    "        if str_data[0] == 'name':\n",
    "            bone_name = str_data[1]   \n",
    "        else:\n",
    "            values = list(str_data[1:])\n",
    "            values_new = []\n",
    "            for s in values:\n",
    "                par = is_number(s)                             \n",
    "                if  type(par) != bool:\n",
    "                    val = par\n",
    "                else:\n",
    "                    val = s\n",
    "                values_new.append(val)    \n",
    "            params_dict[str_data[0]] = values_new\n",
    "            \n",
    "    bone_params = {}\n",
    "    bone_params[bone_name] = params_dict   \n",
    "    \n",
    "    return bone_params\n",
    "\n",
    "\n",
    "def parse_asf(filepath):\n",
    "\n",
    "    with open(filepath) as f:\n",
    "        content = f.read().splitlines()\n",
    "\n",
    "    \n",
    "    for idx, line in enumerate(content):\n",
    "        splitted_line = line.strip().split()\n",
    "        if line.rfind('hierarchy') > -1:\n",
    "            hierarchy_start=idx\n",
    "        if line.rfind('bonedata') > -1:\n",
    "            bonedata_start=idx\n",
    "            \n",
    "    # считываем нижний блок с расписанной архитектурой   \n",
    "    hierarchy_content = content[hierarchy_start:]\n",
    "    clear_hierarchy = []\n",
    "    for idx, line in enumerate(hierarchy_content):\n",
    "        if (('hierarchy' in line) | ('begin' in line) | ('end' in line)) == False:\n",
    "            clear_hierarchy.append(line.strip())\n",
    "\n",
    "    hierarchy_dict = {}        \n",
    "    for line in clear_hierarchy:\n",
    "        splitted_line = line.split()\n",
    "        for i in range(len(splitted_line)-1):\n",
    "            hierarchy_dict[splitted_line[i+1]] = splitted_line[0]\n",
    "        \n",
    "        \n",
    "    # надо теперь посчитать сколько bones\n",
    "    bone_types = []\n",
    "    bone_types_id = []\n",
    "    for idx, line in enumerate(content):\n",
    "        if (line.rfind('name') > -1 and idx > bonedata_start):\n",
    "            bone_types_id.append(idx)\n",
    "            # надо теперь посчитать сколько bones\n",
    "            splitted_line = line.strip().split()\n",
    "            #но и сохраняем\n",
    "            bone_types.append(splitted_line[1])\n",
    "            \n",
    "    bone_types_iter = copy.deepcopy(bone_types_id)\n",
    "    bone_types_iter.append(hierarchy_start)\n",
    "    all_params = {}\n",
    "\n",
    "    for i in range(len(bone_types_iter)-1):\n",
    "        bone_data = content[bone_types_iter[i]:bone_types_iter[i+1]]\n",
    "        bone_params = read_bone_params(bone_data)\n",
    "        all_params = dict(all_params, **bone_params)\n",
    "        \n",
    "    return all_params, hierarchy_dict"
   ]
  },
  {
   "cell_type": "code",
   "execution_count": 14,
   "metadata": {},
   "outputs": [],
   "source": [
    "filepath = '../data/02.asf'\n",
    "all_p, hierarchy_dict = parse_asf(filepath)"
   ]
  },
  {
   "cell_type": "markdown",
   "metadata": {},
   "source": [
    "## Отрисовка скелета из asf"
   ]
  },
  {
   "cell_type": "code",
   "execution_count": 50,
   "metadata": {},
   "outputs": [],
   "source": [
    "def length_to_vector(current_bone, all_p):\n",
    "    axis = all_p[current_bone]['direction'][:3]\n",
    "    child_length = all_p[current_bone]['length']\n",
    "    child_vect=[[0], [0], [0]]\n",
    "    for idx, axes in enumerate(axis):\n",
    "        p = axes\n",
    "        if p != 0:\n",
    "            child_vect[idx] = child_length[0]*p\n",
    "    vect_all = []\n",
    "    for vect in child_vect:\n",
    "        if isinstance(vect, list):\n",
    "            new_vect = vect[0]\n",
    "        else:\n",
    "            new_vect = vect\n",
    "        vect_all.append(new_vect)\n",
    "    return np.array(vect_all)\n",
    "\n",
    "trans_dict = {} #translated coordinates for bones\n",
    "trans_dict['root'] = np.array([0, 0, 0]).reshape(3, 1)\n",
    "\n",
    "def get_transform(all_p, trans_dict, child_name='lowerback', parent_name='root'):\n",
    "\n",
    "    par_coor = trans_dict[parent_name] # coordinates of parent\n",
    "    child_vect = length_to_vector(child_name, all_p) # coordinates of child\n",
    "    child_vect_in_root = par_coor + child_vect.reshape(3, 1)\n",
    "    return child_vect_in_root\n",
    "\n",
    "def get_child_transform(current_bone, hierarchy_dict, all_p, trans_dict):\n",
    "    childs = []\n",
    "    for key, value in hierarchy_dict.items():\n",
    "        if value == current_bone:\n",
    "            childs.append(key)\n",
    "    for child in childs:\n",
    "        child_coord = get_transform(all_p, trans_dict, child_name=child, parent_name=current_bone)\n",
    "        trans_dict[child] = child_coord\n",
    "    return trans_dict\n",
    "# for root lambda function\n",
    "trans_dict = get_child_transform(current_bone='root', hierarchy_dict=hierarchy_dict, all_p=all_p, trans_dict=trans_dict)\n",
    "\n",
    "for current, parent in hierarchy_dict.items():\n",
    "    transformed_bones = list(trans_dict.keys())\n",
    "    if (current not in transformed_bones) and (parent in transformed_bones):  \n",
    "        trans_dict = get_child_transform(current_bone=parent, hierarchy_dict=hierarchy_dict, \n",
    "                                             all_p=all_p, trans_dict=trans_dict)"
   ]
  },
  {
   "cell_type": "code",
   "execution_count": 174,
   "metadata": {},
   "outputs": [
    {
     "data": {
      "text/html": [
       "<iframe id=\"igraph\" scrolling=\"no\" style=\"border:none;\" seamless=\"seamless\" src=\"https://plot.ly/~xmlpro100/2.embed\" height=\"525px\" width=\"100%\"></iframe>"
      ],
      "text/plain": [
       "<plotly.tools.PlotlyDisplay object>"
      ]
     },
     "execution_count": 174,
     "metadata": {},
     "output_type": "execute_result"
    }
   ],
   "source": [
    "bone_list = []\n",
    "values = []\n",
    "value_array = np.zeros(shape=(len(trans_dict), 3))\n",
    "\n",
    "for idx, (key, value) in enumerate(trans_dict.items()):\n",
    "    bone_list.append(key)\n",
    "    value_array[idx] = value.reshape(len(value))\n",
    "    \n",
    "# plot\n",
    "trace1 = go.Scatter3d(\n",
    "    x=value_array[:, 0],\n",
    "    y=value_array[:, 1],\n",
    "    z=value_array[:, 2],\n",
    "    mode='markers+text',\n",
    "    text=bone_list\n",
    ")\n",
    "layout = go.Layout(\n",
    "                    scene = dict(\n",
    "                    xaxis = dict(\n",
    "                        nticks=10, range = [-20,20],),\n",
    "                    yaxis = dict(\n",
    "                        nticks=10, range = [-20,20],),\n",
    "                    zaxis = dict(\n",
    "                        nticks=10, range = [-20,20],),)\n",
    "#                     width=700,\n",
    "#                     margin=dict(\n",
    "#                     r=20, l=10,\n",
    "#                     b=10, t=10)\n",
    "                  )\n",
    "py.iplot(go.Figure(data=[trace1], layout=layout), filename='3d-scatter-colorscale')"
   ]
  },
  {
   "cell_type": "markdown",
   "metadata": {},
   "source": [
    "## Отрисуем фрейм из amc\n",
    "Для этого нужен как amc файл, так и asf"
   ]
  },
  {
   "cell_type": "markdown",
   "metadata": {},
   "source": [
    "#### Хотим найти матрицу поворота осей и обратную к ней (считаем из asf) \n",
    "\n",
    "Будем использовать для нахождения координат сегментов в глобальой системе координат"
   ]
  },
  {
   "cell_type": "code",
   "execution_count": 34,
   "metadata": {},
   "outputs": [],
   "source": [
    "def axis_to_matrix(current_bone, all_p):\n",
    "    \n",
    "    a = all_p[current_bone]['axis'][0] * np.pi / 180 #угол 20 град.\n",
    "    b = all_p[current_bone]['axis'][1] * np.pi / 180 #угол 20 град.\n",
    "    c = all_p[current_bone]['axis'][2] * np.pi / 180 #угол 20 град.\n",
    "\n",
    "    Ax = np.array([[1,0,0], [0,np.cos(a),-np.sin(a)], [0,np.sin(a),np.cos(a)]])\n",
    "    Ay = np.array([[np.cos(b),0,np.sin(b)], [0,1,0], [-np.sin(b),0,np.cos(b)]])\n",
    "    Az = np.array([[np.cos(c),-np.sin(c),0], [np.sin(c),np.cos(c),0], [0,0,1]])\n",
    "    c_matrix = np.dot(np.dot(Ax, Ay), Az) # rotation matrix around all axis\n",
    "    c_matrix_final = np.identity(n=4)\n",
    "    c_matrix_final[:3, :3] = c_matrix\n",
    "    return c_matrix_final\n"
   ]
  },
  {
   "cell_type": "code",
   "execution_count": 35,
   "metadata": {},
   "outputs": [],
   "source": [
    "c_matrix_all = {}\n",
    "c_matrix_all_inv = {}\n",
    "\n",
    "for bone in all_p.keys():\n",
    "    if bone != 'root':\n",
    "        c_matrix = axis_to_matrix(bone, all_p)\n",
    "        c_matrix_all[bone] = c_matrix\n",
    "        c_matrix_all_inv[bone] = np.linalg.inv(c_matrix)"
   ]
  },
  {
   "cell_type": "code",
   "execution_count": 48,
   "metadata": {
    "scrolled": true
   },
   "outputs": [],
   "source": [
    "c_matrix_all['root'] = np.identity(n=4)\n",
    "c_matrix_all_inv['root'] = np.identity(n=4)"
   ]
  },
  {
   "cell_type": "code",
   "execution_count": 38,
   "metadata": {},
   "outputs": [
    {
     "data": {
      "text/plain": [
       "array([[ 1.00000000e+00,  2.22044278e-16,  1.42247301e-16,\n",
       "         0.00000000e+00],\n",
       "       [-2.22044278e-16,  1.00000000e+00,  0.00000000e+00,\n",
       "         0.00000000e+00],\n",
       "       [-1.42247301e-16, -3.15851993e-32,  1.00000000e+00,\n",
       "         0.00000000e+00],\n",
       "       [ 0.00000000e+00,  0.00000000e+00,  0.00000000e+00,\n",
       "         1.00000000e+00]])"
      ]
     },
     "execution_count": 38,
     "metadata": {},
     "output_type": "execute_result"
    }
   ],
   "source": [
    "def make_rotation(current_bone, all_p, amc_data):\n",
    "    \n",
    "    m_matrix_final = np.identity(n=4)\n",
    "    \n",
    "    if 'hip' not in current_bone:\n",
    "        rotation_values = amc_data[current_bone]\n",
    "        rotation = {}\n",
    "        dofs = all_p[current_bone]['dof']\n",
    "        for idx, dof in enumerate(dofs):\n",
    "            rotation[dof] = rotation_values[idx]\n",
    "        if 'rx' in rotation.keys():\n",
    "            a = rotation['rx'] * np.pi / 180 #угол 20 град.\n",
    "        else:\n",
    "            a = 0\n",
    "        if 'ry' in rotation.keys():\n",
    "            b = rotation['ry'] * np.pi / 180 #угол 20 град.\n",
    "        else:\n",
    "            b = 0\n",
    "        if 'rz' in rotation.keys():\n",
    "            c = rotation['rz'] * np.pi / 180 #угол 20 град.\n",
    "        else:\n",
    "            c = 0\n",
    "\n",
    "        Ax = np.array([[1,0,0], [0,np.cos(a),-np.sin(a)], [0,np.sin(a),np.cos(a)]])\n",
    "        Ay = np.array([[np.cos(b),0,np.sin(b)], [0,1,0], [-np.sin(b),0,np.cos(b)]])\n",
    "        Az = np.array([[np.cos(c),-np.sin(c),0], [np.sin(c),np.cos(c),0], [0,0,1]])\n",
    "        m_matrix = np.dot(np.dot(Ax, Ay), Az) # rotation matrix around all axis\n",
    "        m_matrix_final[:3, :3] = m_matrix\n",
    "        \n",
    "    return m_matrix_final\n",
    "\n",
    "current_bone = 'lclavicle'\n",
    "m_matrix = make_rotation(current_bone, all_p, amc_data)\n",
    "\n",
    "m_matrix"
   ]
  },
  {
   "cell_type": "markdown",
   "metadata": {},
   "source": [
    "for normolize amc make preparetion (add degrees of freedom and orientations)"
   ]
  },
  {
   "cell_type": "code",
   "execution_count": 67,
   "metadata": {
    "scrolled": true
   },
   "outputs": [],
   "source": [
    "trans_dict = {}  #current position for each frame (translated coordinates)\n",
    "# trans_dict['root'] = np.array([0, 0, 0]).reshape(3, 1)\n",
    "orient_dict = {} #current orientation for each frame\n",
    "# orient_dict['root'] = np.identity(n=3)\n",
    "\n",
    "def get_bone_data_from_amc_root(amc_data, trans_dict, orient_dict):\n",
    "    root_coor = amc_data['root'][:3]\n",
    "    root_coor = root_coor.reshape(3,1)\n",
    "    \n",
    "    root_orient = amc_data['root'][3:]\n",
    "    a = root_orient[0] * np.pi / 180 #угол 20 град.\n",
    "    b = root_orient[1] * np.pi / 180 #угол 20 град.\n",
    "    c = root_orient[2] * np.pi / 180 #угол 20 град.\n",
    "\n",
    "    Ax = np.array([[1,0,0], [0,np.cos(a),-np.sin(a)], [0,np.sin(a),np.cos(a)]])\n",
    "    Ay = np.array([[np.cos(b),0,np.sin(b)], [0,1,0], [-np.sin(b),0,np.cos(b)]])\n",
    "    Az = np.array([[np.cos(c),-np.sin(c),0], [np.sin(c),np.cos(c),0], [0,0,1]])\n",
    "    orient_matrix = np.dot(np.dot(Ax, Ay), Az) # rotation matrix around all axis\n",
    "    orient_matrix_final = np.identity(n=4)\n",
    "    orient_matrix_final[:3, :3] = orient_matrix\n",
    "    orient_matrix_final[:3, 3:] = root_coor\n",
    "    trans_dict['root'] = root_coor\n",
    "    orient_dict['root'] = orient_matrix_final\n",
    "    return trans_dict, orient_dict\n",
    "\n",
    "def get_bone_data_from_amc_nonroot(current_bone, parent_bone, hierarchy_dict, all_p, amc_data,\n",
    "                                   trans_dict, orient_dict, c_matrix_all, c_matrix_all_inv):\n",
    "    # calculate the position of child using orientation of parent and coordinates of parent\n",
    "    parent_coor = trans_dict[parent_bone] # coordinates of parent\n",
    "    parent_orient = orient_dict[parent_bone] # orientation matrix\n",
    "    c_matrix = c_matrix_all[parent_bone]\n",
    "    c_matrix_inv = c_matrix_all_inv[parent_bone]\n",
    "    m_matrix = make_rotation(current_bone, all_p, amc_data)\n",
    "    \n",
    "    b_vect = length_to_vector(current_bone, all_p) # coordinates of child vect in local\n",
    "    b_matrix = np.identity(n=4)\n",
    "    b_matrix[:3, 3:] = b_vect.reshape(3, 1)\n",
    "    \n",
    "    l_matrix = np.dot(np.dot(np.dot(c_matrix_inv, m_matrix), c_matrix), b_matrix)\n",
    "    \n",
    "    orient_matrix = np.dot(l_matrix, parent_orient)\n",
    "    coor = orient_matrix[:3, 3:]\n",
    "    trans_dict[current_bone] = coor\n",
    "    orient_dict[current_bone] = orient_matrix\n",
    "    \n",
    "    return trans_dict, orient_dict"
   ]
  },
  {
   "cell_type": "code",
   "execution_count": 74,
   "metadata": {},
   "outputs": [
    {
     "ename": "NameError",
     "evalue": "name 'orient_matrix' is not defined",
     "output_type": "error",
     "traceback": [
      "\u001b[1;31m---------------------------------------------------------------------------\u001b[0m",
      "\u001b[1;31mNameError\u001b[0m                                 Traceback (most recent call last)",
      "\u001b[1;32m<ipython-input-74-44a5013ea320>\u001b[0m in \u001b[0;36m<module>\u001b[1;34m()\u001b[0m\n\u001b[0;32m      1\u001b[0m \u001b[0morient_matrix_final\u001b[0m \u001b[1;33m=\u001b[0m \u001b[0mnp\u001b[0m\u001b[1;33m.\u001b[0m\u001b[0marray\u001b[0m\u001b[1;33m(\u001b[0m\u001b[1;33m[\u001b[0m\u001b[1;33m[\u001b[0m\u001b[1;36m1\u001b[0m\u001b[1;33m,\u001b[0m \u001b[1;36m20\u001b[0m \u001b[1;33m,\u001b[0m \u001b[1;36m0\u001b[0m\u001b[1;33m]\u001b[0m\u001b[1;33m,\u001b[0m\u001b[1;33m[\u001b[0m\u001b[1;36m1\u001b[0m\u001b[1;33m,\u001b[0m \u001b[1;36m20\u001b[0m \u001b[1;33m,\u001b[0m \u001b[1;36m0\u001b[0m\u001b[1;33m]\u001b[0m\u001b[1;33m,\u001b[0m\u001b[1;33m[\u001b[0m\u001b[1;36m1\u001b[0m\u001b[1;33m,\u001b[0m \u001b[1;36m20\u001b[0m \u001b[1;33m,\u001b[0m \u001b[1;36m0\u001b[0m\u001b[1;33m]\u001b[0m\u001b[1;33m]\u001b[0m\u001b[1;33m)\u001b[0m\u001b[1;33m\u001b[0m\u001b[0m\n\u001b[0;32m      2\u001b[0m \u001b[0mroot_coor\u001b[0m \u001b[1;33m=\u001b[0m \u001b[0mnp\u001b[0m\u001b[1;33m.\u001b[0m\u001b[0marray\u001b[0m\u001b[1;33m(\u001b[0m\u001b[1;33m[\u001b[0m\u001b[1;33m[\u001b[0m\u001b[1;36m1\u001b[0m\u001b[1;33m]\u001b[0m\u001b[1;33m,\u001b[0m\u001b[1;33m[\u001b[0m\u001b[1;36m20\u001b[0m\u001b[1;33m]\u001b[0m\u001b[1;33m,\u001b[0m\u001b[1;33m[\u001b[0m\u001b[1;36m0\u001b[0m\u001b[1;33m]\u001b[0m\u001b[1;33m]\u001b[0m\u001b[1;33m)\u001b[0m\u001b[1;33m\u001b[0m\u001b[0m\n\u001b[1;32m----> 3\u001b[1;33m \u001b[0morient_matrix_final\u001b[0m\u001b[1;33m[\u001b[0m\u001b[1;33m:\u001b[0m\u001b[1;36m3\u001b[0m\u001b[1;33m,\u001b[0m \u001b[1;33m:\u001b[0m\u001b[1;36m3\u001b[0m\u001b[1;33m]\u001b[0m \u001b[1;33m=\u001b[0m \u001b[0morient_matrix\u001b[0m\u001b[1;33m\u001b[0m\u001b[0m\n\u001b[0m\u001b[0;32m      4\u001b[0m \u001b[0morient_matrix_final\u001b[0m\u001b[1;33m[\u001b[0m\u001b[1;33m:\u001b[0m\u001b[1;36m3\u001b[0m\u001b[1;33m,\u001b[0m \u001b[1;36m3\u001b[0m\u001b[1;33m:\u001b[0m\u001b[1;33m]\u001b[0m \u001b[1;33m=\u001b[0m \u001b[0mroot_coor\u001b[0m\u001b[1;33m\u001b[0m\u001b[0m\n",
      "\u001b[1;31mNameError\u001b[0m: name 'orient_matrix' is not defined"
     ]
    }
   ],
   "source": [
    "orient_matrix = np.array([[1, 20 , 0],[1, 20 , 0],[1, 20 , 0]])\n",
    "root_coor = np.array([[1],[20],[0]])\n",
    "orient_matrix_final[:3, :3] = orient_matrix\n",
    "orient_matrix_final[:3, 3:] = root_coor"
   ]
  },
  {
   "cell_type": "code",
   "execution_count": 68,
   "metadata": {
    "scrolled": true
   },
   "outputs": [
    {
     "name": "stdout",
     "output_type": "stream",
     "text": [
      "child: lhipjoint\n",
      "child: rhipjoint\n",
      "child: lowerback\n",
      "child: lfemur\n",
      "child: ltibia\n",
      "child: lfoot\n",
      "child: ltoes\n",
      "child: rfemur\n",
      "child: rtibia\n",
      "child: rfoot\n",
      "child: rtoes\n",
      "child: upperback\n",
      "child: thorax\n",
      "child: lowerneck\n",
      "child: lclavicle\n",
      "child: rclavicle\n",
      "child: upperneck\n",
      "child: head\n",
      "child: lhumerus\n",
      "child: lradius\n",
      "child: lwrist\n",
      "child: lhand\n",
      "child: lthumb\n",
      "child: lfingers\n",
      "child: rhumerus\n",
      "child: rradius\n",
      "child: rwrist\n",
      "child: rhand\n",
      "child: rthumb\n",
      "child: rfingers\n"
     ]
    }
   ],
   "source": [
    "## FOR ONE FRAME only!!!!!!!!!!!!!!!!!!!!!!!!!!!!!!!!!!!!!!!!!!!!!!!!!!!!!!!!!!!!!!!!!!!!!!!!!!!!!!!!!!!!!!!!!!\n",
    "# for root\n",
    "trans_dict, orient_dict = get_bone_data_from_amc_root(amc_data=full_amc[1], trans_dict=trans_dict, orient_dict=orient_dict)\n",
    "\n",
    "for current, parent in hierarchy_dict.items():\n",
    "    print('child: {}'.format(current))\n",
    "    transformed_bones = list(trans_dict.keys())\n",
    "    if (current not in transformed_bones) and (parent in transformed_bones):  \n",
    "        trans_dict, orient_dict = get_bone_data_from_amc_nonroot(current_bone=current, parent_bone=parent, \n",
    "                                                            hierarchy_dict=hierarchy_dict, all_p=all_p, amc_data=full_amc[1], \n",
    "                                                            trans_dict=trans_dict, orient_dict=orient_dict,\n",
    "                                                            c_matrix_all=c_matrix_all, c_matrix_all_inv=c_matrix_all_inv)  "
   ]
  },
  {
   "cell_type": "code",
   "execution_count": 71,
   "metadata": {},
   "outputs": [
    {
     "data": {
      "text/html": [
       "<iframe id=\"igraph\" scrolling=\"no\" style=\"border:none;\" seamless=\"seamless\" src=\"https://plot.ly/~xmlpro100/2.embed\" height=\"525px\" width=\"100%\"></iframe>"
      ],
      "text/plain": [
       "<plotly.tools.PlotlyDisplay object>"
      ]
     },
     "execution_count": 71,
     "metadata": {},
     "output_type": "execute_result"
    }
   ],
   "source": [
    "bone_list = []\n",
    "values = []\n",
    "value_array = np.zeros(shape=(len(trans_dict), 3))\n",
    "\n",
    "for idx, (key, value) in enumerate(trans_dict.items()):\n",
    "    bone_list.append(key)\n",
    "    value_array[idx] = value.reshape(len(value))\n",
    "    \n",
    "# plot\n",
    "trace1 = go.Scatter3d(\n",
    "    x=value_array[:, 0],\n",
    "    y=value_array[:, 1],\n",
    "    z=value_array[:, 2],\n",
    "    mode='markers+text',\n",
    "    text=bone_list\n",
    ")\n",
    "layout = go.Layout(\n",
    "                    scene = dict(\n",
    "                    xaxis = dict(\n",
    "                        nticks=10, range = [-51,50],),\n",
    "                    yaxis = dict(\n",
    "                        nticks=10, range = [-51,50],),\n",
    "                    zaxis = dict(\n",
    "                        nticks=10, range = [-51,50],),)\n",
    "#                     width=700,\n",
    "#                     margin=dict(\n",
    "#                     r=20, l=10,\n",
    "#                     b=10, t=10)\n",
    "                  )\n",
    "py.iplot(go.Figure(data=[trace1], layout=layout), filename='3d-scatter-colorscale')"
   ]
  },
  {
   "cell_type": "code",
   "execution_count": 72,
   "metadata": {},
   "outputs": [
    {
     "data": {
      "text/plain": [
       "{'lhipjoint': 'root',\n",
       " 'rhipjoint': 'root',\n",
       " 'lowerback': 'root',\n",
       " 'lfemur': 'lhipjoint',\n",
       " 'ltibia': 'lfemur',\n",
       " 'lfoot': 'ltibia',\n",
       " 'ltoes': 'lfoot',\n",
       " 'rfemur': 'rhipjoint',\n",
       " 'rtibia': 'rfemur',\n",
       " 'rfoot': 'rtibia',\n",
       " 'rtoes': 'rfoot',\n",
       " 'upperback': 'lowerback',\n",
       " 'thorax': 'upperback',\n",
       " 'lowerneck': 'thorax',\n",
       " 'lclavicle': 'thorax',\n",
       " 'rclavicle': 'thorax',\n",
       " 'upperneck': 'lowerneck',\n",
       " 'head': 'upperneck',\n",
       " 'lhumerus': 'lclavicle',\n",
       " 'lradius': 'lhumerus',\n",
       " 'lwrist': 'lradius',\n",
       " 'lhand': 'lwrist',\n",
       " 'lthumb': 'lwrist',\n",
       " 'lfingers': 'lhand',\n",
       " 'rhumerus': 'rclavicle',\n",
       " 'rradius': 'rhumerus',\n",
       " 'rwrist': 'rradius',\n",
       " 'rhand': 'rwrist',\n",
       " 'rthumb': 'rwrist',\n",
       " 'rfingers': 'rhand'}"
      ]
     },
     "execution_count": 72,
     "metadata": {},
     "output_type": "execute_result"
    }
   ],
   "source": [
    "hierarchy_dict"
   ]
  },
  {
   "cell_type": "markdown",
   "metadata": {},
   "source": [
    "#### Вспомогательные, пока не использующиеся функции"
   ]
  },
  {
   "cell_type": "code",
   "execution_count": null,
   "metadata": {},
   "outputs": [],
   "source": [
    "def get_dofs(current_bone, all_p):\n",
    "    rotation_values = [20, 0, 0]# их потом будем получать из amc\n",
    "    dofs = all_p[current_bone]['dof']\n",
    "    for idx, dof in enumerate(dofs):\n",
    "        rotation[dof] = rotation_values[idx]\n",
    "    return idx"
   ]
  },
  {
   "cell_type": "code",
   "execution_count": null,
   "metadata": {},
   "outputs": [],
   "source": []
  }
 ],
 "metadata": {
  "kernelspec": {
   "display_name": "Python 3",
   "language": "python",
   "name": "python3"
  },
  "language_info": {
   "codemirror_mode": {
    "name": "ipython",
    "version": 3
   },
   "file_extension": ".py",
   "mimetype": "text/x-python",
   "name": "python",
   "nbconvert_exporter": "python",
   "pygments_lexer": "ipython3",
   "version": "3.6.5"
  }
 },
 "nbformat": 4,
 "nbformat_minor": 2
}
