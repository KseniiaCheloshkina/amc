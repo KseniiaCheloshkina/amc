{
 "cells": [
  {
   "cell_type": "code",
   "execution_count": 2,
   "metadata": {},
   "outputs": [],
   "source": [
    "import numpy as np\n",
    "import matplotlib.pyplot as plt\n",
    "import os\n",
    "import sys\n",
    "import pandas as pd"
   ]
  },
  {
   "cell_type": "code",
   "execution_count": 3,
   "metadata": {},
   "outputs": [],
   "source": [
    "# lv0 = '../data'\n",
    "# lv1s = os.listdir(lv0)\n",
    "# for lv1 in lv1s:\n",
    "#     lv2s = os.listdir('/'.join([lv0, lv1]))\n",
    "#     asf_path = '%s/%s/%s.asf' % (lv0, lv1, lv1)\n",
    "#     print('parsing %s' % asf_path)\n",
    "#     motions = parse_amc('./nopose.amc')"
   ]
  },
  {
   "cell_type": "code",
   "execution_count": 4,
   "metadata": {},
   "outputs": [],
   "source": [
    "def read_frame(frame, frames_dict):\n",
    "    # parse joints\n",
    "    for joint in frame:\n",
    "        joint_info = joint.strip().split()\n",
    "        joint_name = joint_info[0]\n",
    "        joint_info.remove(joint_name)\n",
    "        \n",
    "        for i in range(len(joint_info)):\n",
    "            coord = joint_info[i]\n",
    "            frames_dict[joint_name + '_' + str(i)] = float(coord)\n",
    "            \n",
    "    return frames_dict"
   ]
  },
  {
   "cell_type": "code",
   "execution_count": 5,
   "metadata": {},
   "outputs": [],
   "source": [
    "def parse_amc(filepath):\n",
    "    with open(filepath) as f:\n",
    "        content = f.read().splitlines()\n",
    "\n",
    "    for idx, line in enumerate(content):\n",
    "        if line == ':DEGREES':\n",
    "            content = content[idx+1:]\n",
    "            break\n",
    "            \n",
    "    # get idx of frames beginning\n",
    "    frame_beginning = []\n",
    "    for idx, line in enumerate(content):\n",
    "        splitted_line = line.strip().split()\n",
    "        if len(splitted_line) == 1:\n",
    "            frame_beginning.append(idx)\n",
    "    # parse frames\n",
    "    all_frames = []\n",
    "    for i in range(len(frame_beginning)-1):\n",
    "        frame = content[frame_beginning[i]:frame_beginning[i+1]]\n",
    "        frames_dict = {}\n",
    "        frames_dict['frame_number'] = frame[0]\n",
    "        # parse joints\n",
    "        frames_dict = read_frame(frame[1:], frames_dict)\n",
    "        all_frames.append(frames_dict)\n",
    "\n",
    "    all_data = pd.DataFrame(all_frames)            \n",
    "        \n",
    "    return all_data"
   ]
  },
  {
   "cell_type": "code",
   "execution_count": 6,
   "metadata": {},
   "outputs": [],
   "source": [
    "content = parse_amc('../data/02_01.amc')"
   ]
  },
  {
   "cell_type": "code",
   "execution_count": 7,
   "metadata": {},
   "outputs": [
    {
     "data": {
      "text/html": [
       "<div>\n",
       "<style scoped>\n",
       "    .dataframe tbody tr th:only-of-type {\n",
       "        vertical-align: middle;\n",
       "    }\n",
       "\n",
       "    .dataframe tbody tr th {\n",
       "        vertical-align: top;\n",
       "    }\n",
       "\n",
       "    .dataframe thead th {\n",
       "        text-align: right;\n",
       "    }\n",
       "</style>\n",
       "<table border=\"1\" class=\"dataframe\">\n",
       "  <thead>\n",
       "    <tr style=\"text-align: right;\">\n",
       "      <th></th>\n",
       "      <th>frame_number</th>\n",
       "      <th>head_0</th>\n",
       "      <th>head_1</th>\n",
       "      <th>head_2</th>\n",
       "      <th>lclavicle_0</th>\n",
       "      <th>lclavicle_1</th>\n",
       "      <th>lfemur_0</th>\n",
       "      <th>lfemur_1</th>\n",
       "      <th>lfemur_2</th>\n",
       "      <th>lfingers_0</th>\n",
       "      <th>...</th>\n",
       "      <th>rwrist_0</th>\n",
       "      <th>thorax_0</th>\n",
       "      <th>thorax_1</th>\n",
       "      <th>thorax_2</th>\n",
       "      <th>upperback_0</th>\n",
       "      <th>upperback_1</th>\n",
       "      <th>upperback_2</th>\n",
       "      <th>upperneck_0</th>\n",
       "      <th>upperneck_1</th>\n",
       "      <th>upperneck_2</th>\n",
       "    </tr>\n",
       "  </thead>\n",
       "  <tbody>\n",
       "    <tr>\n",
       "      <th>0</th>\n",
       "      <td>1</td>\n",
       "      <td>2.97226</td>\n",
       "      <td>2.54741</td>\n",
       "      <td>-1.92752</td>\n",
       "      <td>-1.620100e-14</td>\n",
       "      <td>-1.431250e-14</td>\n",
       "      <td>-28.0191</td>\n",
       "      <td>-1.020780</td>\n",
       "      <td>-20.1783</td>\n",
       "      <td>7.12502</td>\n",
       "      <td>...</td>\n",
       "      <td>-16.7798</td>\n",
       "      <td>-0.599593</td>\n",
       "      <td>1.31944</td>\n",
       "      <td>-2.05527</td>\n",
       "      <td>3.47255</td>\n",
       "      <td>2.55226</td>\n",
       "      <td>1.65684</td>\n",
       "      <td>1.617840</td>\n",
       "      <td>5.61246</td>\n",
       "      <td>-6.40733</td>\n",
       "    </tr>\n",
       "    <tr>\n",
       "      <th>1</th>\n",
       "      <td>2</td>\n",
       "      <td>3.01316</td>\n",
       "      <td>2.59206</td>\n",
       "      <td>-1.92353</td>\n",
       "      <td>-3.061280e-14</td>\n",
       "      <td>-7.951390e-16</td>\n",
       "      <td>-27.7269</td>\n",
       "      <td>-0.953135</td>\n",
       "      <td>-20.5822</td>\n",
       "      <td>7.12502</td>\n",
       "      <td>...</td>\n",
       "      <td>-16.5037</td>\n",
       "      <td>0.078456</td>\n",
       "      <td>1.35992</td>\n",
       "      <td>-1.86912</td>\n",
       "      <td>3.91254</td>\n",
       "      <td>2.58553</td>\n",
       "      <td>1.67171</td>\n",
       "      <td>1.419540</td>\n",
       "      <td>5.71695</td>\n",
       "      <td>-6.43796</td>\n",
       "    </tr>\n",
       "    <tr>\n",
       "      <th>2</th>\n",
       "      <td>3</td>\n",
       "      <td>2.90215</td>\n",
       "      <td>2.58200</td>\n",
       "      <td>-1.86960</td>\n",
       "      <td>3.975690e-15</td>\n",
       "      <td>-1.033680e-14</td>\n",
       "      <td>-27.6281</td>\n",
       "      <td>-0.810148</td>\n",
       "      <td>-21.0041</td>\n",
       "      <td>7.12502</td>\n",
       "      <td>...</td>\n",
       "      <td>-16.2262</td>\n",
       "      <td>0.211031</td>\n",
       "      <td>1.41449</td>\n",
       "      <td>-1.83734</td>\n",
       "      <td>3.96845</td>\n",
       "      <td>2.68906</td>\n",
       "      <td>1.61541</td>\n",
       "      <td>1.081860</td>\n",
       "      <td>5.66983</td>\n",
       "      <td>-6.25219</td>\n",
       "    </tr>\n",
       "    <tr>\n",
       "      <th>3</th>\n",
       "      <td>4</td>\n",
       "      <td>2.73437</td>\n",
       "      <td>2.55894</td>\n",
       "      <td>-1.86943</td>\n",
       "      <td>1.376580e-14</td>\n",
       "      <td>0.000000e+00</td>\n",
       "      <td>-27.6637</td>\n",
       "      <td>-0.391122</td>\n",
       "      <td>-21.6105</td>\n",
       "      <td>7.12502</td>\n",
       "      <td>...</td>\n",
       "      <td>-16.0827</td>\n",
       "      <td>0.127573</td>\n",
       "      <td>1.45150</td>\n",
       "      <td>-1.90802</td>\n",
       "      <td>3.81888</td>\n",
       "      <td>2.77415</td>\n",
       "      <td>1.44970</td>\n",
       "      <td>0.706102</td>\n",
       "      <td>5.58519</td>\n",
       "      <td>-6.09066</td>\n",
       "    </tr>\n",
       "    <tr>\n",
       "      <th>4</th>\n",
       "      <td>5</td>\n",
       "      <td>2.59153</td>\n",
       "      <td>2.57436</td>\n",
       "      <td>-1.87971</td>\n",
       "      <td>-2.042510e-14</td>\n",
       "      <td>-7.156250e-15</td>\n",
       "      <td>-27.6786</td>\n",
       "      <td>-0.161279</td>\n",
       "      <td>-21.8039</td>\n",
       "      <td>7.12502</td>\n",
       "      <td>...</td>\n",
       "      <td>-16.0025</td>\n",
       "      <td>0.158931</td>\n",
       "      <td>1.46518</td>\n",
       "      <td>-1.93228</td>\n",
       "      <td>3.70601</td>\n",
       "      <td>2.80336</td>\n",
       "      <td>1.40701</td>\n",
       "      <td>0.388960</td>\n",
       "      <td>5.58739</td>\n",
       "      <td>-5.98980</td>\n",
       "    </tr>\n",
       "  </tbody>\n",
       "</table>\n",
       "<p>5 rows × 63 columns</p>\n",
       "</div>"
      ],
      "text/plain": [
       "  frame_number   head_0   head_1   head_2   lclavicle_0   lclavicle_1  \\\n",
       "0            1  2.97226  2.54741 -1.92752 -1.620100e-14 -1.431250e-14   \n",
       "1            2  3.01316  2.59206 -1.92353 -3.061280e-14 -7.951390e-16   \n",
       "2            3  2.90215  2.58200 -1.86960  3.975690e-15 -1.033680e-14   \n",
       "3            4  2.73437  2.55894 -1.86943  1.376580e-14  0.000000e+00   \n",
       "4            5  2.59153  2.57436 -1.87971 -2.042510e-14 -7.156250e-15   \n",
       "\n",
       "   lfemur_0  lfemur_1  lfemur_2  lfingers_0     ...       rwrist_0  thorax_0  \\\n",
       "0  -28.0191 -1.020780  -20.1783     7.12502     ...       -16.7798 -0.599593   \n",
       "1  -27.7269 -0.953135  -20.5822     7.12502     ...       -16.5037  0.078456   \n",
       "2  -27.6281 -0.810148  -21.0041     7.12502     ...       -16.2262  0.211031   \n",
       "3  -27.6637 -0.391122  -21.6105     7.12502     ...       -16.0827  0.127573   \n",
       "4  -27.6786 -0.161279  -21.8039     7.12502     ...       -16.0025  0.158931   \n",
       "\n",
       "   thorax_1  thorax_2  upperback_0  upperback_1  upperback_2  upperneck_0  \\\n",
       "0   1.31944  -2.05527      3.47255      2.55226      1.65684     1.617840   \n",
       "1   1.35992  -1.86912      3.91254      2.58553      1.67171     1.419540   \n",
       "2   1.41449  -1.83734      3.96845      2.68906      1.61541     1.081860   \n",
       "3   1.45150  -1.90802      3.81888      2.77415      1.44970     0.706102   \n",
       "4   1.46518  -1.93228      3.70601      2.80336      1.40701     0.388960   \n",
       "\n",
       "   upperneck_1  upperneck_2  \n",
       "0      5.61246     -6.40733  \n",
       "1      5.71695     -6.43796  \n",
       "2      5.66983     -6.25219  \n",
       "3      5.58519     -6.09066  \n",
       "4      5.58739     -5.98980  \n",
       "\n",
       "[5 rows x 63 columns]"
      ]
     },
     "execution_count": 7,
     "metadata": {},
     "output_type": "execute_result"
    }
   ],
   "source": [
    "content.head()"
   ]
  },
  {
   "cell_type": "code",
   "execution_count": 8,
   "metadata": {},
   "outputs": [
    {
     "data": {
      "text/plain": [
       "(342, 63)"
      ]
     },
     "execution_count": 8,
     "metadata": {},
     "output_type": "execute_result"
    }
   ],
   "source": [
    "content.shape"
   ]
  },
  {
   "cell_type": "markdown",
   "metadata": {
    "collapsed": true
   },
   "source": [
    "## Парсинг asf"
   ]
  },
  {
   "cell_type": "code",
   "execution_count": 40,
   "metadata": {
    "scrolled": true
   },
   "outputs": [
    {
     "name": "stdout",
     "output_type": "stream",
     "text": [
      "16 bonedata position\n",
      "311\n"
     ]
    }
   ],
   "source": [
    "# def parse_asf(filepath):\n",
    "filepath='../data/02.asf';\n",
    "with open(filepath) as f:\n",
    "    content = f.read().splitlines()\n",
    "# content\n",
    "# for idx, line in enumerate(content):\n",
    "#     if line == ':DEGREES':\n",
    "#         content = content[idx+1:]\n",
    "#         break\n",
    "# get idx of frames beginning\n",
    "# frame_beginning = []\n",
    "#считываем нижний блок с расписанной архитектурой\n",
    "hierarchy_beginning = []\n",
    "for idx, line in enumerate(content):\n",
    "    splitted_line = line.strip().split()\n",
    "    if line.rfind('hierarchy')>-1:\n",
    "        hierarchy_start=idx\n",
    "        print (idx)\n",
    "    if line.rfind('bonedata')>-1:\n",
    "        bonedata_start=idx\n",
    "        print (idx,'bonedata position')\n",
    "# надо теперь посчитать сколько bones\n",
    "bone_types = []\n",
    "bone_types_id = []\n",
    "for idx, line in enumerate(content):\n",
    "    if (line.rfind('name')>-1 and idx>bonedata_start):\n",
    "        bone_types_id.append(idx)\n",
    "        # надо теперь посчитать сколько bones\n",
    "        splitted_line = line.strip().split()\n",
    "        #но и сохраняем\n",
    "        bone_types.append(splitted_line[1])"
   ]
  },
  {
   "cell_type": "code",
   "execution_count": 41,
   "metadata": {},
   "outputs": [
    {
     "data": {
      "text/plain": [
       "['lhipjoint',\n",
       " 'lfemur',\n",
       " 'ltibia',\n",
       " 'lfoot',\n",
       " 'ltoes',\n",
       " 'rhipjoint',\n",
       " 'rfemur',\n",
       " 'rtibia',\n",
       " 'rfoot',\n",
       " 'rtoes',\n",
       " 'lowerback',\n",
       " 'upperback',\n",
       " 'thorax',\n",
       " 'lowerneck',\n",
       " 'upperneck',\n",
       " 'head',\n",
       " 'lclavicle',\n",
       " 'lhumerus',\n",
       " 'lradius',\n",
       " 'lwrist',\n",
       " 'lhand',\n",
       " 'lfingers',\n",
       " 'lthumb',\n",
       " 'rclavicle',\n",
       " 'rhumerus',\n",
       " 'rradius',\n",
       " 'rwrist',\n",
       " 'rhand',\n",
       " 'rfingers',\n",
       " 'rthumb']"
      ]
     },
     "execution_count": 41,
     "metadata": {},
     "output_type": "execute_result"
    }
   ],
   "source": [
    "bone_types"
   ]
  },
  {
   "cell_type": "code",
   "execution_count": 72,
   "metadata": {},
   "outputs": [
    {
     "name": "stdout",
     "output_type": "stream",
     "text": [
      "['     name lhipjoint', '     direction 0.655637 -0.713449 0.247245 ', '     length 2.52691 ', '     axis 0 0 0  XYZ', '  end', '  begin', '     id 2 '] ------>\n"
     ]
    },
    {
     "ename": "IndexError",
     "evalue": "list index out of range",
     "output_type": "error",
     "traceback": [
      "\u001b[1;31m---------------------------------------------------------------------------\u001b[0m",
      "\u001b[1;31mIndexError\u001b[0m                                Traceback (most recent call last)",
      "\u001b[1;32m<ipython-input-72-eb8f10dd57e1>\u001b[0m in \u001b[0;36m<module>\u001b[1;34m()\u001b[0m\n\u001b[0;32m     10\u001b[0m \u001b[1;31m#           parameters = splitted_line\u001b[0m\u001b[1;33m\u001b[0m\u001b[1;33m\u001b[0m\u001b[0m\n\u001b[0;32m     11\u001b[0m             \u001b[0mparameters\u001b[0m \u001b[1;33m=\u001b[0m \u001b[0mparameters\u001b[0m\u001b[1;33m+\u001b[0m\u001b[0msplitted_line\u001b[0m\u001b[1;33m;\u001b[0m\u001b[1;33m\u001b[0m\u001b[0m\n\u001b[1;32m---> 12\u001b[1;33m     \u001b[0mall_bone_frames\u001b[0m\u001b[1;33m[\u001b[0m\u001b[0mi\u001b[0m\u001b[1;33m]\u001b[0m\u001b[1;33m.\u001b[0m\u001b[0mappend\u001b[0m\u001b[1;33m(\u001b[0m\u001b[0mparameters\u001b[0m\u001b[1;33m)\u001b[0m\u001b[1;33m\u001b[0m\u001b[0m\n\u001b[0m\u001b[0;32m     13\u001b[0m \u001b[1;31m#     frames_dict = {}\u001b[0m\u001b[1;33m\u001b[0m\u001b[1;33m\u001b[0m\u001b[0m\n\u001b[0;32m     14\u001b[0m \u001b[1;31m#     frames_dict['frame_number'] = frame[0]\u001b[0m\u001b[1;33m\u001b[0m\u001b[1;33m\u001b[0m\u001b[0m\n",
      "\u001b[1;31mIndexError\u001b[0m: list index out of range"
     ]
    }
   ],
   "source": [
    "#тут надо создать двумерные массивы и спарсить уже для каждого bones\n",
    "all_bone_frames = []\n",
    "parameters = []\n",
    "for i in range(len(bone_types)):\n",
    "    frame = content[bone_types_id[i]:bone_types_id[i+1]]\n",
    "    print(frame, '------>')\n",
    "    for idx, line in enumerate(frame):\n",
    "        splitted_line = line.strip().split()\n",
    "        if len(splitted_line) == 2:\n",
    "#           parameters = splitted_line\n",
    "            parameters = parameters+splitted_line;\n",
    "    all_bone_frames[i].append(parameters)\n",
    "#     frames_dict = {}\n",
    "#     frames_dict['frame_number'] = frame[0]\n",
    "#     parse joints\n",
    "#     frames_dict = read_frame(frame[1:], frames_dict)\n",
    "#     all_frames.append(frames_dict)\n",
    "\n",
    "# all_data = pd.DataFrame(all_frames)\n",
    "# return all_data\n"
   ]
  },
  {
   "cell_type": "code",
   "execution_count": 63,
   "metadata": {},
   "outputs": [
    {
     "name": "stdout",
     "output_type": "stream",
     "text": [
      "['name', 'lhipjoint', 'length', '2.52691', 'id', '2', 'name', 'lfemur', 'length', '7.59371', '(-70.0', '70.0)', '(-60.0', '70.0)', 'id', '3', 'name', 'ltibia', 'length', '7.28717', 'dof', 'rx', 'id', '4', 'name', 'lfoot', 'length', '2.2218', '(-70.0', '20.0)', 'id', '5', 'name', 'ltoes', 'length', '1.11249', 'dof', 'rx', 'id', '6', 'name', 'rhipjoint', 'length', '2.49697', 'id', '7', 'name', 'rfemur', 'length', '7.58734', '(-70.0', '70.0)', '(-70.0', '60.0)', 'id', '8', 'name', 'rtibia', 'length', '7.21538', 'dof', 'rx', 'id', '9', 'name', 'rfoot', 'length', '2.23735', '(-20.0', '70.0)', 'id', '10', 'name', 'rtoes', 'length', '1.11569', 'dof', 'rx', 'id', '11', 'name', 'lowerback', 'length', '2.05943', '(-30.0', '30.0)', '(-30.0', '30.0)', 'id', '12', 'name', 'upperback', 'length', '2.06523', '(-30.0', '30.0)', '(-30.0', '30.0)', 'id', '13', 'name', 'thorax', 'length', '2.06807', '(-30.0', '30.0)', '(-30.0', '30.0)', 'id', '14', 'name', 'lowerneck', 'length', '1.57426', '(-30.0', '30.0)', '(-30.0', '30.0)', 'id', '15', 'name', 'upperneck', 'length', '1.56399', '(-30.0', '30.0)', '(-30.0', '30.0)', 'id', '16', 'name', 'head', 'length', '1.6265', '(-30.0', '30.0)', '(-30.0', '30.0)', 'id', '17', 'name', 'lclavicle', 'length', '3.6598', '(0.0', '20.0)', 'id', '18', 'name', 'lhumerus', 'length', '4.86513', '(-90.0', '90.0)', '(-90.0', '90.0)', 'id', '19', 'name', 'lradius', 'length', '3.35554', 'dof', 'rx', 'id', '20', 'name', 'lwrist', 'length', '1.67777', 'dof', 'ry', 'id', '21', 'name', 'lhand', 'length', '0.661175', '(-45.0', '45.0)', 'id', '22', 'name', 'lfingers', 'length', '0.533057', 'dof', 'rx', 'id', '23', 'name', 'lthumb', 'length', '0.765366', '(-45.0', '45.0)', 'id', '24', 'name', 'rclavicle', 'length', '3.59444', '(-20.0', '0.0)', 'id', '25', 'name', 'rhumerus', 'length', '5.02649', '(-90.0', '90.0)', '(-90.0', '90.0)', 'id', '26', 'name', 'rradius', 'length', '3.36431', 'dof', 'rx', 'id', '27', 'name', 'rwrist', 'length', '1.68216', 'dof', 'ry', 'id', '28', 'name', 'rhand', 'length', '0.730406', '(-45.0', '45.0)', 'id', '29', 'name', 'rfingers', 'length', '0.588872', 'dof', 'rx', 'id', '30']\n"
     ]
    }
   ],
   "source": [
    "print (parameters)"
   ]
  }
 ],
 "metadata": {
  "kernelspec": {
   "display_name": "Python 3",
   "language": "python",
   "name": "python3"
  },
  "language_info": {
   "codemirror_mode": {
    "name": "ipython",
    "version": 3
   },
   "file_extension": ".py",
   "mimetype": "text/x-python",
   "name": "python",
   "nbconvert_exporter": "python",
   "pygments_lexer": "ipython3",
   "version": "3.7.0"
  }
 },
 "nbformat": 4,
 "nbformat_minor": 2
}
